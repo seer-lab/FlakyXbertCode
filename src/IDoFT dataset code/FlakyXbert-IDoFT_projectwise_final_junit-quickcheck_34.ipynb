{
 "cells": [
  {
   "cell_type": "code",
   "execution_count": 1,
   "id": "574a9f90-818c-46c6-a98c-4c75e556ca55",
   "metadata": {
    "tags": []
   },
   "outputs": [],
   "source": [
    "# import trax\n",
    "# from trax import layers as tl\n",
    "# import trax.fastmath.numpy as fastnp\n",
    "# from trax.supervised import training\n",
    "from functools import partial\n",
    "import numpy as np\n",
    "from itertools import combinations\n",
    "import random as rnd\n",
    "from random import sample\n",
    "import json\n",
    "import sklearn.metrics as metrics\n",
    "from sklearn.metrics import classification_report , confusion_matrix, roc_auc_score, confusion_matrix\n",
    "from sklearn.manifold import TSNE\n",
    "from sklearn.preprocessing import LabelBinarizer\n",
    "import matplotlib.pyplot as plt\n",
    "import seaborn as sn\n",
    "import pandas as pd\n",
    "import copy\n",
    "import torch\n",
    "import os\n",
    "import warnings\n",
    "from scipy.spatial import distance\n",
    "from os import walk\n",
    "from transformers import AutoTokenizer, AutoModel\n",
    "device = torch.device(\"cuda\" if torch.cuda.is_available() else \"cpu\")\n",
    "#initialize codebert\n",
    "tokenizer = AutoTokenizer.from_pretrained(\"microsoft/codebert-base\")\n",
    "model_codebert = AutoModel.from_pretrained(\"microsoft/codebert-base\").to(device)\n",
    "np.random.seed(777)"
   ]
  },
  {
   "cell_type": "code",
   "execution_count": 2,
   "id": "ba519fdf-c698-498d-893c-53d864148bde",
   "metadata": {
    "tags": []
   },
   "outputs": [],
   "source": [
    "import torch\n",
    "import torch.nn as nn\n",
    "import torch.optim as optim\n",
    "from torch.utils.data import DataLoader, Dataset\n",
    "from sklearn.model_selection import train_test_split\n",
    "\n",
    "from transformers import AutoTokenizer, AutoModel\n",
    "from sklearn.model_selection import train_test_split\n",
    "from os import walk\n",
    "\n",
    "from transformers import AutoModelForCausalLM\n",
    "device = torch.device(\"cuda\" if torch.cuda.is_available() else \"cpu\")"
   ]
  },
  {
   "cell_type": "code",
   "execution_count": 3,
   "metadata": {},
   "outputs": [
    {
     "name": "stdout",
     "output_type": "stream",
     "text": [
      "                   project  project_count   0   1   2    3    4   5\n",
      "0                    dubbo            170   9  19  66    7   12  57\n",
      "1                   hadoop            146   0  22  85   31    8   0\n",
      "2                     nifi            139   0   0  28  111    0   0\n",
      "3         junit-quickcheck            131   0   0   2    7  122   0\n",
      "4             ormlite-core            113   0   0  90   23    0   0\n",
      "5                  admiral            109   0   7   2   75    5  20\n",
      "6                  wildfly             84   0   0  43   30    1  10\n",
      "7                   Mapper             75   0   0  70    5    0   0\n",
      "8                 fastjson             64   2   3  16   43    0   0\n",
      "9     typescript-generator             60   0   0   0   60    0   0\n",
      "10          Chronicle-Wire             59   0   0   2   57    0   0\n",
      "11          Java-WebSocket             54  33  21   0    0    0   0\n",
      "12                 biojava             51   0  28   0   23    0   0\n",
      "13             spring-boot             48   0   0  20    7   21   0\n",
      "14                visualee             47   0   0  47    0    0   0\n",
      "15                   hbase             47   0   1  27    4   13   2\n",
      "16      innodb-java-reader             45   0   0   0   45    0   0\n",
      "17  adyen-java-api-library             45   0   0   0   45    0   0\n",
      "18          spring-hateoas             41   0   0   0   41    0   0\n",
      "19                    hive             41   0   0  19   22    0   0\n",
      "20       DataflowTemplates             39   0   0   0   39    0   0\n",
      "21                   esper             38   1   0   1   36    0   0\n",
      "22       spring-data-r2dbc             37   0   0   0   37    0   0\n",
      "23           openhtmltopdf             35   0   0  35    0    0   0\n",
      "24                   nacos             32   0   0  24    8    0   0\n"
     ]
    }
   ],
   "source": [
    "import pandas as pd\n",
    "\n",
    "# Load the dataset\n",
    "file_path = \"/home/riddhi/FlakyXbert/MAIN/data/IDoFT_data/IDoFT_dataset.csv\"\n",
    "data = pd.read_csv(file_path)\n",
    "\n",
    "# Calculate project counts and filter only those with more than 30 entries\n",
    "project_counts = data['project'].value_counts()\n",
    "filtered_projects = project_counts[project_counts > 30]\n",
    "\n",
    "# Filter the data to include only the selected projects\n",
    "filtered_data = data[data['project'].isin(filtered_projects.index)]\n",
    "\n",
    "# Group by 'project' and 'category' to get counts of each category within each project\n",
    "category_counts = filtered_data.groupby(['project', 'category']).size().unstack(fill_value=0)\n",
    "\n",
    "# Create a DataFrame for project counts to ensure it has a compatible index for joining\n",
    "project_counts_df = pd.DataFrame(filtered_projects)\n",
    "project_counts_df.columns = ['project_count']\n",
    "\n",
    "# Reset index to ensure 'project' is a column for a proper join\n",
    "project_counts_df.reset_index(inplace=True)\n",
    "category_counts.reset_index(inplace=True)\n",
    "\n",
    "# Merge the dataframes on 'project'\n",
    "result_df = pd.merge(project_counts_df, category_counts, on='project', how='left')\n",
    "\n",
    "# Print the resulting DataFrame\n",
    "print(result_df)\n"
   ]
  },
  {
   "cell_type": "code",
   "execution_count": 4,
   "metadata": {},
   "outputs": [
    {
     "name": "stdout",
     "output_type": "stream",
     "text": [
      "                   project  project_count   0   1   2    3    4   5\n",
      "0                    dubbo            170   9  19  66    7   12  57\n",
      "1                   hadoop            146   0  22  85   31    8   0\n",
      "2                     nifi            139   0   0  28  111    0   0\n",
      "3         junit-quickcheck            131   0   0   2    7  122   0\n",
      "4             ormlite-core            113   0   0  90   23    0   0\n",
      "5                  admiral            109   0   7   2   75    5  20\n",
      "6                  wildfly             84   0   0  43   30    1  10\n",
      "7                   Mapper             75   0   0  70    5    0   0\n",
      "8                 fastjson             64   2   3  16   43    0   0\n",
      "9     typescript-generator             60   0   0   0   60    0   0\n",
      "10          Chronicle-Wire             59   0   0   2   57    0   0\n",
      "11          Java-WebSocket             54  33  21   0    0    0   0\n",
      "12                 biojava             51   0  28   0   23    0   0\n",
      "13             spring-boot             48   0   0  20    7   21   0\n",
      "14                visualee             47   0   0  47    0    0   0\n",
      "15                   hbase             47   0   1  27    4   13   2\n",
      "16      innodb-java-reader             45   0   0   0   45    0   0\n",
      "17  adyen-java-api-library             45   0   0   0   45    0   0\n",
      "18          spring-hateoas             41   0   0   0   41    0   0\n",
      "19                    hive             41   0   0  19   22    0   0\n",
      "20       DataflowTemplates             39   0   0   0   39    0   0\n",
      "21                   esper             38   1   0   1   36    0   0\n",
      "22       spring-data-r2dbc             37   0   0   0   37    0   0\n",
      "23           openhtmltopdf             35   0   0  35    0    0   0\n",
      "24                   nacos             32   0   0  24    8    0   0\n"
     ]
    }
   ],
   "source": [
    "import pandas as pd\n",
    "\n",
    "# Load the dataset\n",
    "file_path = \"/home/riddhi/FlakyXbert/MAIN/data/IDoFT_data/IDoFT_dataset.csv\"\n",
    "data = pd.read_csv(file_path)\n",
    "\n",
    "# Calculate project counts and filter only those with more than 30 entries\n",
    "project_counts = data['project'].value_counts()\n",
    "filtered_projects = project_counts[project_counts > 30]\n",
    "\n",
    "# Filter the data to include only the selected projects\n",
    "filtered_data = data[data['project'].isin(filtered_projects.index)]\n",
    "\n",
    "# Group by 'project' and 'category' to get counts of each category within each project\n",
    "category_counts = filtered_data.groupby(['project', 'category']).size().unstack(fill_value=0)\n",
    "\n",
    "# Create a DataFrame for project counts to ensure it has a compatible index for joining\n",
    "project_counts_df = pd.DataFrame(filtered_projects)\n",
    "project_counts_df.columns = ['project_count']\n",
    "\n",
    "# Reset index to ensure 'project' is a column for a proper join\n",
    "project_counts_df.reset_index(inplace=True)\n",
    "category_counts.reset_index(inplace=True)\n",
    "\n",
    "# Merge the dataframes on 'project'\n",
    "result_df = pd.merge(project_counts_df, category_counts, on='project', how='left')\n",
    "\n",
    "# Print the resulting DataFrame\n",
    "print(result_df)\n"
   ]
  },
  {
   "cell_type": "code",
   "execution_count": 5,
   "id": "9d1ce577-e164-455f-a525-1768f3801bc4",
   "metadata": {},
   "outputs": [
    {
     "name": "stdout",
     "output_type": "stream",
     "text": [
      "project\n",
      "dubbo                     170\n",
      "hadoop                    146\n",
      "nifi                      139\n",
      "junit-quickcheck          131\n",
      "ormlite-core              113\n",
      "admiral                   109\n",
      "wildfly                    84\n",
      "Mapper                     75\n",
      "fastjson                   64\n",
      "typescript-generator       60\n",
      "Chronicle-Wire             59\n",
      "Java-WebSocket             54\n",
      "biojava                    51\n",
      "spring-boot                48\n",
      "visualee                   47\n",
      "hbase                      47\n",
      "innodb-java-reader         45\n",
      "adyen-java-api-library     45\n",
      "spring-hateoas             41\n",
      "hive                       41\n",
      "DataflowTemplates          39\n",
      "esper                      38\n",
      "spring-data-r2dbc          37\n",
      "openhtmltopdf              35\n",
      "nacos                      32\n",
      "Name: count, dtype: int64\n"
     ]
    }
   ],
   "source": [
    "import pandas as pd\n",
    "\n",
    "# Load the dataset\n",
    "file_path = \"/home/riddhi/FlakyXbert/MAIN/data/IDoFT_data/IDoFT_dataset.csv\"\n",
    "data = pd.read_csv(file_path)\n",
    "\n",
    "# Get the count of unique values in the 'projects' column\n",
    "unique_projects_counts = data['project'].value_counts()\n",
    "\n",
    "# Filter and display the projects with more than 300 counts\n",
    "filtered_projects = unique_projects_counts[unique_projects_counts > 30]\n",
    "print(filtered_projects)\n"
   ]
  },
  {
   "cell_type": "code",
   "execution_count": 6,
   "metadata": {},
   "outputs": [],
   "source": [
    "label_to_int_pre= {\n",
    "    'OD': 0,\n",
    "    'NIO': 1,\n",
    "    'ID': 2,\n",
    "    'NDOD': 3,\n",
    "    'NOD': 4,\n",
    "    'UD':5\n",
    "}\n",
    "int_to_label_pre = {\n",
    "    0: 'OD',\n",
    "    1: 'NIO',\n",
    "    2: 'ID',\n",
    "    3: 'NDOD',\n",
    "    4: 'NOD',\n",
    "    5: 'UD',\n",
    "}"
   ]
  },
  {
   "cell_type": "code",
   "execution_count": 7,
   "id": "44492053-3fa5-45a8-9533-fb7beedd0014",
   "metadata": {
    "tags": []
   },
   "outputs": [
    {
     "name": "stdout",
     "output_type": "stream",
     "text": [
      "Train buggy code: 103\n",
      "Validation buggy code: 26\n",
      "Train categories: 103\n",
      "Validation categories: 26\n"
     ]
    }
   ],
   "source": [
    "import pandas as pd\n",
    "from sklearn.model_selection import train_test_split\n",
    "\n",
    "# Assuming 'data' is your DataFrame that includes all the data\n",
    "# Load the dataset\n",
    "file_path = \"/home/riddhi/FlakyXbert/MAIN/data/IDoFT_data/IDoFT_dataset.csv\"\n",
    "data = pd.read_csv(file_path)\n",
    "\n",
    "# Specify the project name you want to include\n",
    "project_name = \"junit-quickcheck\"\n",
    "\n",
    "# Assuming 'data' is your DataFrame that includes all the data\n",
    "project_data = data[data['project'] == project_name]\n",
    "\n",
    "# Extract the relevant fields: 'preprocessed_code' and 'category'\n",
    "relevant_data = project_data[['preprocessed_code', 'category']]\n",
    "\n",
    "# Filter the data to include only categories 1, 2, 3, and 4 (up to 5 if needed)\n",
    "filtered_data = relevant_data[relevant_data['category'].isin([ 3, 4])]\n",
    "\n",
    "# Split the data into training and validation sets, stratifying by 'category' to ensure all categories are represented\n",
    "train_data, valid_data = train_test_split(filtered_data, test_size=0.2, random_state=42, stratify=filtered_data['category'])\n",
    "\n",
    "# Mapping from integers to labels\n",
    "\n",
    "# Replace category numbers with category labels\n",
    "train_data['category'] = train_data['category'].map(int_to_label_pre)\n",
    "valid_data['category'] = valid_data['category'].map(int_to_label_pre)\n",
    "\n",
    "# Extract buggy code and categories for train and validation sets\n",
    "train_buggy_code = train_data['preprocessed_code'].tolist()\n",
    "valid_buggy_code = valid_data['preprocessed_code'].tolist()\n",
    "train_categories = train_data['category'].tolist()\n",
    "valid_categories = valid_data['category'].tolist()\n",
    "\n",
    "# Print the splits for verification\n",
    "print(\"Train buggy code:\", len(train_buggy_code))\n",
    "print(\"Validation buggy code:\", len(valid_buggy_code))\n",
    "print(\"Train categories:\", len(train_categories))\n",
    "print(\"Validation categories:\", len(valid_categories))\n"
   ]
  },
  {
   "cell_type": "code",
   "execution_count": 8,
   "metadata": {},
   "outputs": [
    {
     "name": "stdout",
     "output_type": "stream",
     "text": [
      "Unique categories in training set: {'NDOD', 'NOD'}\n",
      "Unique categories in validation set: {'NDOD', 'NOD'}\n"
     ]
    }
   ],
   "source": [
    "print(\"Unique categories in training set:\", set(train_categories))\n",
    "print(\"Unique categories in validation set:\", set(valid_categories))\n"
   ]
  },
  {
   "cell_type": "code",
   "execution_count": 9,
   "id": "1fabaf50-c824-40f5-b1d2-6cff19b7999c",
   "metadata": {},
   "outputs": [],
   "source": [
    "label_to_int= {\n",
    "    'NDOD': 0,\n",
    "    'NOD': 1\n",
    "}"
   ]
  },
  {
   "cell_type": "code",
   "execution_count": 10,
   "id": "3484d8fd-6b01-4aea-8a01-81dfc5371418",
   "metadata": {},
   "outputs": [],
   "source": [
    "from torch.utils.data import Dataset\n",
    "import numpy as np\n",
    "import random\n",
    "import torch\n",
    "\n",
    "class SiameseDataset(Dataset):\n",
    "    def __init__(self, train_buggy_code, valid_buggy_code, tokenizer, codebert, categories, split):\n",
    "        self.train_buggy_code = train_buggy_code\n",
    "        self.valid_buggy_code = valid_buggy_code\n",
    "        self.tokenizer = tokenizer\n",
    "        self.codebert = codebert.to(device)\n",
    "        self.categories = categories\n",
    "        self.split = split\n",
    "        self.m_len = self.calculate_max_output_length()\n",
    "        \n",
    "        # Preprocess categories to map labels to indices\n",
    "        self.label_to_indices = {}\n",
    "        for index, category in enumerate(categories):\n",
    "            if category not in self.label_to_indices:\n",
    "                self.label_to_indices[category] = []\n",
    "            self.label_to_indices[category].append(index)\n",
    "\n",
    "        # For negative sampling\n",
    "        self.labels = categories\n",
    "        self.unique_labels = list(set(self.labels))\n",
    "        \n",
    "    def calculate_max_output_length(self):\n",
    "        max_length = 0\n",
    "        for code in self.train_buggy_code:\n",
    "            # Simulate processing of snippets to determine the concatenated output length\n",
    "            length = self.simulate_process_length(code)\n",
    "            if length > max_length:\n",
    "                max_length_train = length\n",
    "        for code in self.valid_buggy_code:\n",
    "            # Simulate processing of snippets to determine the concatenated output length\n",
    "            length = self.simulate_process_length(code)\n",
    "            if length > max_length:\n",
    "                max_length_valid = length\n",
    "        if max_length_train > max_length_valid:\n",
    "            return max_length_train\n",
    "        else:\n",
    "            return max_length_valid\n",
    "\n",
    "    def simulate_process_length(self, snippet):\n",
    "        # Calculate how many segments would be needed\n",
    "        encoded_input = self.tokenizer.encode(snippet, add_special_tokens=True)\n",
    "        # Each segment processes up to 512 tokens (max length for BERT models)\n",
    "        num_segments = (len(encoded_input) + 511) // 512  # 512 tokens per segment, including CLS and SEP\n",
    "        return num_segments * 768\n",
    "    def __len__(self):\n",
    "        if self.split == 'train':\n",
    "            return len(self.train_buggy_code)\n",
    "        else:\n",
    "            return len(self.valid_buggy_code)\n",
    "\n",
    "    def __getitem__(self, idx):\n",
    "        if self.split == 'train':\n",
    "            # Anchor label\n",
    "            anchor_label = self.categories[idx]\n",
    "\n",
    "            # Positive sample\n",
    "            positive_idx = idx\n",
    "            while positive_idx == idx:  # Ensure different indices for anchor and positive\n",
    "                positive_idx = random.choice(self.label_to_indices[anchor_label])\n",
    "\n",
    "            # Negative sample\n",
    "            negative_label = random.choice([lab for lab in self.unique_labels if lab != anchor_label])\n",
    "            negative_idx = random.choice(self.label_to_indices[negative_label])\n",
    "\n",
    "            anchor = self._process_snippet(self.train_buggy_code[idx])\n",
    "            positive = self._process_snippet(self.train_buggy_code[positive_idx])\n",
    "            negative = self._process_snippet(self.train_buggy_code[negative_idx])\n",
    "            \n",
    "            if len(anchor) <= 768:\n",
    "                short_data = True\n",
    "            else:\n",
    "                short_data = False\n",
    "                \n",
    "\n",
    "\n",
    "            return {\n",
    "                'anchor': torch.nn.functional.pad(anchor, (0, self.m_len - anchor.size(0))),\n",
    "                'positive':torch.nn.functional.pad(positive, (0, self.m_len - positive.size(0))),\n",
    "                'negative': torch.nn.functional.pad(negative, (0, self.m_len - negative.size(0))),\n",
    "                'label': label_to_int[anchor_label],  # Optional, depends on how you want to use it\n",
    "                'short_data_flag': short_data\n",
    "            }\n",
    "        elif self.split == 'val':\n",
    "            anchor_label = self.categories[idx]\n",
    "            anchor = self._process_snippet(self.valid_buggy_code[idx])\n",
    "            \n",
    "            return {\n",
    "                'anchor': torch.nn.functional.pad(anchor, (0, self.m_len - anchor.size(0))),\n",
    "                'label': label_to_int[anchor_label]  # Optional, depends on how you want to use it\n",
    "            }\n",
    "\n",
    "        \n",
    "    def _process_snippet(self, snippet):\n",
    "        device = torch.device(\"cuda\" if torch.cuda.is_available() else \"cpu\")\n",
    "        # Tokenize input without the max_length constraint\n",
    "        inputs = self.tokenizer(snippet, return_tensors='pt').to(device)\n",
    "\n",
    "        if inputs['input_ids'].shape[1] < 512:\n",
    "            with torch.no_grad():\n",
    "                outs = self.codebert(**inputs)\n",
    "            cls = outs.last_hidden_state[:, 0, :].squeeze().detach()\n",
    "            return cls  # Move to CPU to save GPU memory\n",
    "        else:\n",
    "            total_length = inputs['input_ids'].shape[1]\n",
    "            parts = []\n",
    "            step_size = 100\n",
    "            chunk_size = 512\n",
    "\n",
    "            for start_index in range(0, total_length, step_size):\n",
    "                end_index = min(start_index + chunk_size, total_length)\n",
    "                input_segment = {key: val[:, start_index:end_index].to(device) for key, val in inputs.items()}\n",
    "\n",
    "                with torch.no_grad():\n",
    "                    output_segment = self.codebert(**input_segment)\n",
    "                cls_segment = output_segment.last_hidden_state[:, 0, :].squeeze().detach()\n",
    "                parts.append(cls_segment)  # Move to CPU\n",
    "\n",
    "            concatenated_parts = torch.cat(parts, dim=0)\n",
    "            return concatenated_parts"
   ]
  },
  {
   "cell_type": "code",
   "execution_count": 11,
   "id": "f2b89d78-363f-4c3a-a263-db4faf2fd905",
   "metadata": {},
   "outputs": [
    {
     "name": "stdout",
     "output_type": "stream",
     "text": [
      "Train dataloader length: 13\n",
      "Validation dataloader length: 4\n"
     ]
    }
   ],
   "source": [
    "# Create instances of the custom dataset class\n",
    "train_dataset = SiameseDataset(train_buggy_code, valid_buggy_code, tokenizer, model_codebert, train_categories, 'train')\n",
    "val_dataset = SiameseDataset(train_buggy_code, valid_buggy_code, tokenizer, model_codebert, valid_categories, 'val')\n",
    "\n",
    "# Create dataloaders for training and validation\n",
    "batch_size = 8\n",
    "train_dataloader = DataLoader(train_dataset, batch_size=batch_size, shuffle=True)\n",
    "val_dataloader = DataLoader(val_dataset, batch_size=batch_size)\n",
    "\n",
    "# Print the lengths of the dataloaders for verification\n",
    "print(\"Train dataloader length:\", len(train_dataloader))\n",
    "print(\"Validation dataloader length:\", len(val_dataloader))"
   ]
  },
  {
   "cell_type": "code",
   "execution_count": 12,
   "id": "0bf15857-574e-482c-a611-a01868ac7b9d",
   "metadata": {
    "tags": []
   },
   "outputs": [],
   "source": [
    "import numpy as np\n",
    "\n",
    "def sample_triplet_data(data, sample_size_ratio):\n",
    "    \"\"\"\n",
    "    Samples a subset of triplet data (anchor, positive, negative) while preserving class distribution.\n",
    "    \n",
    "    Parameters:\n",
    "    - data: list of dictionaries, where each dictionary has keys 'anchor', 'positive', 'negative', 'label'.\n",
    "    - sample_size_ratio: float, the fraction of the data to sample (0 < sample_size_ratio <= 1).\n",
    "    \n",
    "    Returns:\n",
    "    - sampled_data: list of dictionaries, the sampled subset of the original data.\n",
    "    \"\"\"\n",
    "    # Extract labels to understand the class distribution\n",
    "    labels = [item['label'] for item in data]\n",
    "    unique_classes = np.unique(labels)\n",
    "    \n",
    "    sampled_data = []\n",
    "    \n",
    "    for cls in unique_classes:\n",
    "        # Find all items belonging to the current class\n",
    "        class_items = [item for item in data if item['label'] == cls]\n",
    "        # Calculate the number of items to sample from this class\n",
    "        num_samples = int(np.ceil(len(class_items) * sample_size_ratio))\n",
    "        # Randomly sample items without replacement\n",
    "        sampled_items = np.random.choice(class_items, size=num_samples, replace=False)\n",
    "        # Append the sampled items to the output list\n",
    "        sampled_data.extend(sampled_items)\n",
    "    \n",
    "    # Optionally, shuffle the sampled dataset to mix classes\n",
    "    np.random.shuffle(sampled_data)\n",
    "\n",
    "    return sampled_data\n"
   ]
  },
  {
   "cell_type": "code",
   "execution_count": 13,
   "id": "09bd5b27-3069-47df-b712-6acc8f5b85f3",
   "metadata": {
    "tags": []
   },
   "outputs": [
    {
     "name": "stderr",
     "output_type": "stream",
     "text": [
      " 30%|███       | 31/103 [00:00<00:00, 95.04it/s]"
     ]
    },
    {
     "name": "stderr",
     "output_type": "stream",
     "text": [
      "100%|██████████| 103/103 [00:00<00:00, 112.88it/s]\n"
     ]
    }
   ],
   "source": [
    "import gc\n",
    "from tqdm import tqdm\n",
    "plot_data = []\n",
    "plot_labels = []\n",
    "short_data_flags = []\n",
    "for item in tqdm(train_dataset):\n",
    "    \n",
    "    plot_data.append(item['anchor'])\n",
    "    plot_labels.append(item['label'])\n",
    "    short_data_flags.append(item['short_data_flag'])"
   ]
  },
  {
   "cell_type": "code",
   "execution_count": 14,
   "id": "34e95823-2083-40ab-b419-b02dc414c97b",
   "metadata": {
    "tags": []
   },
   "outputs": [],
   "source": [
    "m_len = plot_data[0].shape[0]"
   ]
  },
  {
   "cell_type": "code",
   "execution_count": 15,
   "id": "673065dd-b188-4a75-92c7-e13e43c19ea3",
   "metadata": {
    "tags": []
   },
   "outputs": [],
   "source": [
    "colors = ['skyblue', 'lightgreen', 'salmon', 'gold', 'orchid', 'grey']  \n",
    "import matplotlib.pyplot as plt\n",
    "from matplotlib.colors import LinearSegmentedColormap\n",
    "# Create a custom colormap\n",
    "cc = LinearSegmentedColormap.from_list(\"cc\", colors, N=5)\n"
   ]
  },
  {
   "cell_type": "code",
   "execution_count": 16,
   "id": "19e4c425-13f3-45e4-a5b7-b4547e49fd20",
   "metadata": {
    "tags": []
   },
   "outputs": [
    {
     "data": {
      "image/png": "[encoded data removed]",
      "text/plain": [
       "<Figure size 1000x1000 with 1 Axes>"
      ]
     },
     "metadata": {},
     "output_type": "display_data"
    }
   ],
   "source": [
    "import matplotlib.pyplot as plt\n",
    "from sklearn.manifold import TSNE\n",
    "import torch\n",
    "import numpy as np\n",
    "\n",
    "# Assuming X, plot_data, and plot_labels are defined as before\n",
    "# Also assuming bool_values is your list/array of boolean values\n",
    "\n",
    "X = torch.stack(plot_data).cpu().numpy()\n",
    "\n",
    "# Extract labels for each point\n",
    "labelsNums = plot_labels\n",
    "\n",
    "# Perform t-SNE dimensionality reduction\n",
    "X_embedded = TSNE(n_components=2, init='random').fit_transform(X)\n",
    "\n",
    "# Assuming 'cc' is a colormap, you might need to adjust this to fit your actual colormap variable\n",
    "# Generate an array of colors for each label\n",
    "unique_labels = np.unique(labelsNums)\n",
    "colors = plt.cm.get_cmap(cc, len(unique_labels))  # Adjust 'cc' as needed to your colormap name\n",
    "label_to_color = {label: colors(i / len(unique_labels)) for i, label in enumerate(unique_labels)}\n",
    "colors_array = np.array([label_to_color[label] for label in labelsNums])\n",
    "\n",
    "# Create the scatter plot\n",
    "plt.figure(figsize=(10, 10))\n",
    "\n",
    "# Iterate through each datapoint\n",
    "for i in range(len(X_embedded)):\n",
    "    marker = 'x' if short_data_flags[i] else 'o'  # Choose the marker based on the boolean value\n",
    "    plt.scatter(X_embedded[i, 0], X_embedded[i, 1], color=colors_array[i], s=20, alpha=1, marker=marker)\n",
    "\n",
    "# Set the background color to black\n",
    "# plt.gca().set_facecolor('white')\n",
    "# # Adjust the color of the ticks and labels for better visibility\n",
    "# plt.tick_params(axis='x', colors='white')\n",
    "# plt.tick_params(axis='y', colors='white')\n",
    "# plt.xlabel('Component 1', color='white')\n",
    "# plt.ylabel('Component 2', color='white')\n",
    "\n",
    "plt.show()\n"
   ]
  },
  {
   "cell_type": "code",
   "execution_count": 17,
   "id": "299a5325-7def-42b0-a3a3-7298c8c04cd2",
   "metadata": {},
   "outputs": [],
   "source": [
    "# Load the CodeBERT tokenizer (adjust the model_name as needed)\n",
    "model_name = \"microsoft/codebert-base\"\n",
    "codebert_model = AutoModel.from_pretrained(model_name)\n",
    "tokenizer = AutoTokenizer.from_pretrained(model_name)\n",
    "\n",
    "\n",
    "class SiameseNetwork(nn.Module):\n",
    "    def __init__(self, embedding_size):\n",
    "        super(SiameseNetwork, self).__init__()\n",
    "        self.fc = nn.Sequential(\n",
    "            nn.Linear(embedding_size, int(embedding_size/2)),\n",
    "            nn.ReLU(inplace=True),\n",
    "            nn.Linear(int(embedding_size/2), int(embedding_size/4)),\n",
    "            nn.ReLU(inplace=True),\n",
    "            nn.Linear(int(embedding_size/4), embedding_size)\n",
    "        )\n",
    "\n",
    "    def forward(self, x):\n",
    "        output = self.fc(x)\n",
    "        return output"
   ]
  },
  {
   "cell_type": "code",
   "execution_count": 18,
   "id": "97f65d80-555a-4967-8265-19ba8dc9f296",
   "metadata": {},
   "outputs": [],
   "source": [
    "class TripletLoss(nn.Module):\n",
    "    def __init__(self, margin=1.0):\n",
    "        super(TripletLoss, self).__init__()\n",
    "        self.margin = margin\n",
    "\n",
    "    def forward(self, anchor, positive, negative):\n",
    "        distance_positive = (anchor - positive).pow(2).sum(1)\n",
    "        distance_negative = (anchor - negative).pow(2).sum(1)\n",
    "        losses = torch.relu(distance_positive - distance_negative + self.margin)\n",
    "        return losses.mean()"
   ]
  },
  {
   "cell_type": "code",
   "execution_count": 19,
   "id": "167eeaca-6023-4ec4-885f-01fc9d00c4c5",
   "metadata": {},
   "outputs": [],
   "source": [
    "learning_rate = 1e-5\n",
    "embed_size = m_len  # This should match the output size of CodeBERT\n",
    "siamese_network = SiameseNetwork(embed_size).to(device)\n",
    "criterion = TripletLoss(margin=1.0)\n",
    "optimizer = optim.Adam(siamese_network.parameters(), lr=learning_rate)\n",
    "triplet_loss = TripletLoss().to(device)"
   ]
  },
  {
   "cell_type": "code",
   "execution_count": 20,
   "metadata": {},
   "outputs": [],
   "source": [
    "# from transformers import get_linear_schedule_with_warmup\n",
    "# warmup_Frac = 0.1\n",
    "# total_iter = num_epochs * len(train_dataloader)\n",
    "# scheduler = get_linear_schedule_with_warmup(optimizer, int(warmup_Frac * total_iter), total_iter)"
   ]
  },
  {
   "cell_type": "markdown",
   "id": "2fe7b516-21fd-4d0c-b967-a7f8fd6f253e",
   "metadata": {},
   "source": []
  },
  {
   "cell_type": "code",
   "execution_count": 21,
   "id": "16b89e25-f11e-4ceb-828e-43aa9c4a7977",
   "metadata": {
    "tags": []
   },
   "outputs": [
    {
     "name": "stderr",
     "output_type": "stream",
     "text": [
      " 31%|███       | 4/13 [00:00<00:00, 15.95it/s]"
     ]
    },
    {
     "name": "stdout",
     "output_type": "stream",
     "text": [
      "Loss improved saving model\n"
     ]
    },
    {
     "name": "stderr",
     "output_type": "stream",
     "text": [
      "100%|██████████| 13/13 [00:00<00:00, 17.06it/s]\n"
     ]
    },
    {
     "name": "stdout",
     "output_type": "stream",
     "text": [
      "Epoch 1/200, Loss: 0.8369686282598056\n"
     ]
    },
    {
     "name": "stderr",
     "output_type": "stream",
     "text": [
      " 15%|█▌        | 2/13 [00:00<00:00, 17.54it/s]"
     ]
    },
    {
     "name": "stdout",
     "output_type": "stream",
     "text": [
      "Loss improved saving model\n"
     ]
    },
    {
     "name": "stderr",
     "output_type": "stream",
     "text": [
      "100%|██████████| 13/13 [00:00<00:00, 17.65it/s]\n"
     ]
    },
    {
     "name": "stdout",
     "output_type": "stream",
     "text": [
      "Epoch 2/200, Loss: 0.7571391875927265\n"
     ]
    },
    {
     "name": "stderr",
     "output_type": "stream",
     "text": [
      "100%|██████████| 13/13 [00:00<00:00, 17.58it/s]\n"
     ]
    },
    {
     "name": "stdout",
     "output_type": "stream",
     "text": [
      "Epoch 3/200, Loss: 0.7105825268305265\n"
     ]
    },
    {
     "name": "stderr",
     "output_type": "stream",
     "text": [
      " 15%|█▌        | 2/13 [00:00<00:00, 17.51it/s]"
     ]
    },
    {
     "name": "stdout",
     "output_type": "stream",
     "text": [
      "Loss improved saving model\n"
     ]
    },
    {
     "name": "stderr",
     "output_type": "stream",
     "text": [
      "100%|██████████| 13/13 [00:00<00:00, 17.72it/s]\n"
     ]
    },
    {
     "name": "stdout",
     "output_type": "stream",
     "text": [
      "Epoch 4/200, Loss: 0.5506790257417239\n"
     ]
    },
    {
     "name": "stderr",
     "output_type": "stream",
     "text": [
      "100%|██████████| 13/13 [00:00<00:00, 17.72it/s]\n"
     ]
    },
    {
     "name": "stdout",
     "output_type": "stream",
     "text": [
      "Epoch 5/200, Loss: 0.5649983424406785\n"
     ]
    },
    {
     "name": "stderr",
     "output_type": "stream",
     "text": [
      " 15%|█▌        | 2/13 [00:00<00:00, 17.73it/s]"
     ]
    },
    {
     "name": "stdout",
     "output_type": "stream",
     "text": [
      "Loss improved saving model\n"
     ]
    },
    {
     "name": "stderr",
     "output_type": "stream",
     "text": [
      "100%|██████████| 13/13 [00:00<00:00, 17.84it/s]\n"
     ]
    },
    {
     "name": "stdout",
     "output_type": "stream",
     "text": [
      "Epoch 6/200, Loss: 0.4397652091888281\n"
     ]
    },
    {
     "name": "stderr",
     "output_type": "stream",
     "text": [
      " 15%|█▌        | 2/13 [00:00<00:00, 17.63it/s]"
     ]
    },
    {
     "name": "stdout",
     "output_type": "stream",
     "text": [
      "Loss improved saving model\n"
     ]
    },
    {
     "name": "stderr",
     "output_type": "stream",
     "text": [
      "100%|██████████| 13/13 [00:00<00:00, 17.61it/s]\n"
     ]
    },
    {
     "name": "stdout",
     "output_type": "stream",
     "text": [
      "Epoch 7/200, Loss: 0.4295256630732463\n"
     ]
    },
    {
     "name": "stderr",
     "output_type": "stream",
     "text": [
      "100%|██████████| 13/13 [00:00<00:00, 17.67it/s]\n"
     ]
    },
    {
     "name": "stdout",
     "output_type": "stream",
     "text": [
      "Epoch 8/200, Loss: 0.45655263845737165\n"
     ]
    },
    {
     "name": "stderr",
     "output_type": "stream",
     "text": [
      "100%|██████████| 13/13 [00:00<00:00, 17.71it/s]\n"
     ]
    },
    {
     "name": "stdout",
     "output_type": "stream",
     "text": [
      "Epoch 9/200, Loss: 0.4304692212205667\n"
     ]
    },
    {
     "name": "stderr",
     "output_type": "stream",
     "text": [
      "100%|██████████| 13/13 [00:00<00:00, 17.67it/s]\n"
     ]
    },
    {
     "name": "stdout",
     "output_type": "stream",
     "text": [
      "Epoch 10/200, Loss: 0.39644251190699065\n"
     ]
    },
    {
     "name": "stderr",
     "output_type": "stream",
     "text": [
      " 15%|█▌        | 2/13 [00:00<00:00, 17.46it/s]"
     ]
    },
    {
     "name": "stdout",
     "output_type": "stream",
     "text": [
      "Loss improved saving model\n"
     ]
    },
    {
     "name": "stderr",
     "output_type": "stream",
     "text": [
      "100%|██████████| 13/13 [00:00<00:00, 17.79it/s]\n"
     ]
    },
    {
     "name": "stdout",
     "output_type": "stream",
     "text": [
      "Epoch 11/200, Loss: 0.29948984545010787\n"
     ]
    },
    {
     "name": "stderr",
     "output_type": "stream",
     "text": [
      "100%|██████████| 13/13 [00:00<00:00, 17.45it/s]\n"
     ]
    },
    {
     "name": "stdout",
     "output_type": "stream",
     "text": [
      "Epoch 12/200, Loss: 0.3437653355873548\n"
     ]
    },
    {
     "name": "stderr",
     "output_type": "stream",
     "text": [
      "100%|██████████| 13/13 [00:00<00:00, 17.97it/s]\n"
     ]
    },
    {
     "name": "stdout",
     "output_type": "stream",
     "text": [
      "Epoch 13/200, Loss: 0.2789249678070729\n"
     ]
    },
    {
     "name": "stderr",
     "output_type": "stream",
     "text": [
      "100%|██████████| 13/13 [00:00<00:00, 17.78it/s]\n"
     ]
    },
    {
     "name": "stdout",
     "output_type": "stream",
     "text": [
      "Epoch 14/200, Loss: 0.31733427425989735\n"
     ]
    },
    {
     "name": "stderr",
     "output_type": "stream",
     "text": [
      "100%|██████████| 13/13 [00:00<00:00, 18.00it/s]\n"
     ]
    },
    {
     "name": "stdout",
     "output_type": "stream",
     "text": [
      "Epoch 15/200, Loss: 0.22000538009720352\n"
     ]
    },
    {
     "name": "stderr",
     "output_type": "stream",
     "text": [
      "100%|██████████| 13/13 [00:00<00:00, 17.80it/s]\n"
     ]
    },
    {
     "name": "stdout",
     "output_type": "stream",
     "text": [
      "Epoch 16/200, Loss: 0.27834247797727585\n"
     ]
    },
    {
     "name": "stderr",
     "output_type": "stream",
     "text": [
      "100%|██████████| 13/13 [00:00<00:00, 17.73it/s]\n"
     ]
    },
    {
     "name": "stdout",
     "output_type": "stream",
     "text": [
      "Epoch 17/200, Loss: 0.21872481273917052\n"
     ]
    },
    {
     "name": "stderr",
     "output_type": "stream",
     "text": [
      "100%|██████████| 13/13 [00:00<00:00, 17.84it/s]\n"
     ]
    },
    {
     "name": "stdout",
     "output_type": "stream",
     "text": [
      "Epoch 18/200, Loss: 0.22220600339082572\n"
     ]
    },
    {
     "name": "stderr",
     "output_type": "stream",
     "text": [
      "100%|██████████| 13/13 [00:00<00:00, 17.70it/s]\n"
     ]
    },
    {
     "name": "stdout",
     "output_type": "stream",
     "text": [
      "Epoch 19/200, Loss: 0.13993590840926537\n"
     ]
    },
    {
     "name": "stderr",
     "output_type": "stream",
     "text": [
      "100%|██████████| 13/13 [00:00<00:00, 17.83it/s]\n"
     ]
    },
    {
     "name": "stdout",
     "output_type": "stream",
     "text": [
      "Epoch 20/200, Loss: 0.13834287283512262\n"
     ]
    },
    {
     "name": "stderr",
     "output_type": "stream",
     "text": [
      " 15%|█▌        | 2/13 [00:00<00:00, 17.75it/s]"
     ]
    },
    {
     "name": "stdout",
     "output_type": "stream",
     "text": [
      "Loss improved saving model\n"
     ]
    },
    {
     "name": "stderr",
     "output_type": "stream",
     "text": [
      "100%|██████████| 13/13 [00:00<00:00, 17.70it/s]\n"
     ]
    },
    {
     "name": "stdout",
     "output_type": "stream",
     "text": [
      "Epoch 21/200, Loss: 0.20626885673174492\n"
     ]
    },
    {
     "name": "stderr",
     "output_type": "stream",
     "text": [
      "100%|██████████| 13/13 [00:00<00:00, 17.87it/s]\n"
     ]
    },
    {
     "name": "stdout",
     "output_type": "stream",
     "text": [
      "Epoch 22/200, Loss: 0.19487563635294253\n"
     ]
    },
    {
     "name": "stderr",
     "output_type": "stream",
     "text": [
      "100%|██████████| 13/13 [00:00<00:00, 17.77it/s]\n"
     ]
    },
    {
     "name": "stdout",
     "output_type": "stream",
     "text": [
      "Epoch 23/200, Loss: 0.20127680209966806\n"
     ]
    },
    {
     "name": "stderr",
     "output_type": "stream",
     "text": [
      "100%|██████████| 13/13 [00:00<00:00, 17.52it/s]\n"
     ]
    },
    {
     "name": "stdout",
     "output_type": "stream",
     "text": [
      "Epoch 24/200, Loss: 0.16204523696349218\n"
     ]
    },
    {
     "name": "stderr",
     "output_type": "stream",
     "text": [
      "100%|██████████| 13/13 [00:00<00:00, 17.89it/s]\n"
     ]
    },
    {
     "name": "stdout",
     "output_type": "stream",
     "text": [
      "Epoch 25/200, Loss: 0.1727561463530247\n"
     ]
    },
    {
     "name": "stderr",
     "output_type": "stream",
     "text": [
      " 15%|█▌        | 2/13 [00:00<00:00, 17.16it/s]"
     ]
    },
    {
     "name": "stdout",
     "output_type": "stream",
     "text": [
      "Loss improved saving model\n"
     ]
    },
    {
     "name": "stderr",
     "output_type": "stream",
     "text": [
      "100%|██████████| 13/13 [00:00<00:00, 17.65it/s]\n"
     ]
    },
    {
     "name": "stdout",
     "output_type": "stream",
     "text": [
      "Epoch 26/200, Loss: 0.11779056718716255\n"
     ]
    },
    {
     "name": "stderr",
     "output_type": "stream",
     "text": [
      "100%|██████████| 13/13 [00:00<00:00, 17.66it/s]\n"
     ]
    },
    {
     "name": "stdout",
     "output_type": "stream",
     "text": [
      "Epoch 27/200, Loss: 0.08020254683036071\n"
     ]
    },
    {
     "name": "stderr",
     "output_type": "stream",
     "text": [
      "100%|██████████| 13/13 [00:00<00:00, 17.61it/s]\n"
     ]
    },
    {
     "name": "stdout",
     "output_type": "stream",
     "text": [
      "Epoch 28/200, Loss: 0.07961213560058521\n"
     ]
    },
    {
     "name": "stderr",
     "output_type": "stream",
     "text": [
      "100%|██████████| 13/13 [00:00<00:00, 17.79it/s]\n"
     ]
    },
    {
     "name": "stdout",
     "output_type": "stream",
     "text": [
      "Epoch 29/200, Loss: 0.070015960587905\n"
     ]
    },
    {
     "name": "stderr",
     "output_type": "stream",
     "text": [
      "100%|██████████| 13/13 [00:00<00:00, 17.93it/s]\n"
     ]
    },
    {
     "name": "stdout",
     "output_type": "stream",
     "text": [
      "Epoch 30/200, Loss: 0.09842607665520448\n"
     ]
    },
    {
     "name": "stderr",
     "output_type": "stream",
     "text": [
      "100%|██████████| 13/13 [00:00<00:00, 17.70it/s]\n"
     ]
    },
    {
     "name": "stdout",
     "output_type": "stream",
     "text": [
      "Epoch 31/200, Loss: 0.06736997572275308\n"
     ]
    },
    {
     "name": "stderr",
     "output_type": "stream",
     "text": [
      " 15%|█▌        | 2/13 [00:00<00:00, 17.09it/s]"
     ]
    },
    {
     "name": "stdout",
     "output_type": "stream",
     "text": [
      "Loss improved saving model\n",
      "Loss improved saving model\n",
      "Loss improved saving model\n"
     ]
    },
    {
     "name": "stderr",
     "output_type": "stream",
     "text": [
      " 31%|███       | 4/13 [00:00<00:00, 16.76it/s]"
     ]
    },
    {
     "name": "stdout",
     "output_type": "stream",
     "text": [
      "Loss improved saving model\n"
     ]
    },
    {
     "name": "stderr",
     "output_type": "stream",
     "text": [
      "100%|██████████| 13/13 [00:00<00:00, 17.27it/s]\n"
     ]
    },
    {
     "name": "stdout",
     "output_type": "stream",
     "text": [
      "Epoch 32/200, Loss: 0.060999303769606814\n"
     ]
    },
    {
     "name": "stderr",
     "output_type": "stream",
     "text": [
      " 15%|█▌        | 2/13 [00:00<00:00, 17.75it/s]"
     ]
    },
    {
     "name": "stdout",
     "output_type": "stream",
     "text": [
      "Loss improved saving model\n"
     ]
    },
    {
     "name": "stderr",
     "output_type": "stream",
     "text": [
      "100%|██████████| 13/13 [00:00<00:00, 17.89it/s]\n"
     ]
    },
    {
     "name": "stdout",
     "output_type": "stream",
     "text": [
      "Epoch 33/200, Loss: 0.02653383005123872\n"
     ]
    },
    {
     "name": "stderr",
     "output_type": "stream",
     "text": [
      " 15%|█▌        | 2/13 [00:00<00:00, 17.14it/s]"
     ]
    },
    {
     "name": "stdout",
     "output_type": "stream",
     "text": [
      "Loss improved saving model\n",
      "Loss improved saving model\n"
     ]
    },
    {
     "name": "stderr",
     "output_type": "stream",
     "text": [
      "100%|██████████| 13/13 [00:00<00:00, 17.52it/s]\n"
     ]
    },
    {
     "name": "stdout",
     "output_type": "stream",
     "text": [
      "Epoch 34/200, Loss: 0.025827845457780104\n"
     ]
    },
    {
     "name": "stderr",
     "output_type": "stream",
     "text": [
      "100%|██████████| 13/13 [00:00<00:00, 17.71it/s]\n"
     ]
    },
    {
     "name": "stdout",
     "output_type": "stream",
     "text": [
      "Epoch 35/200, Loss: 0.03457820931306252\n"
     ]
    },
    {
     "name": "stderr",
     "output_type": "stream",
     "text": [
      "100%|██████████| 13/13 [00:00<00:00, 17.51it/s]\n"
     ]
    },
    {
     "name": "stdout",
     "output_type": "stream",
     "text": [
      "Epoch 36/200, Loss: 0.07698381162033631\n"
     ]
    },
    {
     "name": "stderr",
     "output_type": "stream",
     "text": [
      " 15%|█▌        | 2/13 [00:00<00:00, 16.81it/s]"
     ]
    },
    {
     "name": "stdout",
     "output_type": "stream",
     "text": [
      "Loss improved saving model\n"
     ]
    },
    {
     "name": "stderr",
     "output_type": "stream",
     "text": [
      "100%|██████████| 13/13 [00:00<00:00, 17.73it/s]\n"
     ]
    },
    {
     "name": "stdout",
     "output_type": "stream",
     "text": [
      "Epoch 37/200, Loss: 0.04677743636644804\n"
     ]
    },
    {
     "name": "stderr",
     "output_type": "stream",
     "text": [
      " 15%|█▌        | 2/13 [00:00<00:00, 17.48it/s]"
     ]
    },
    {
     "name": "stdout",
     "output_type": "stream",
     "text": [
      "Loss improved saving model\n"
     ]
    },
    {
     "name": "stderr",
     "output_type": "stream",
     "text": [
      "100%|██████████| 13/13 [00:00<00:00, 17.87it/s]\n"
     ]
    },
    {
     "name": "stdout",
     "output_type": "stream",
     "text": [
      "Epoch 38/200, Loss: 0.050634047732903406\n"
     ]
    },
    {
     "name": "stderr",
     "output_type": "stream",
     "text": [
      "100%|██████████| 13/13 [00:00<00:00, 17.74it/s]\n"
     ]
    },
    {
     "name": "stdout",
     "output_type": "stream",
     "text": [
      "Epoch 39/200, Loss: 0.02312018149174177\n"
     ]
    },
    {
     "name": "stderr",
     "output_type": "stream",
     "text": [
      " 15%|█▌        | 2/13 [00:00<00:00, 16.96it/s]"
     ]
    },
    {
     "name": "stdout",
     "output_type": "stream",
     "text": [
      "Loss improved saving model\n",
      "Loss improved saving model\n",
      "Loss improved saving model\n"
     ]
    },
    {
     "name": "stderr",
     "output_type": "stream",
     "text": [
      "100%|██████████| 13/13 [00:00<00:00, 17.67it/s]\n"
     ]
    },
    {
     "name": "stdout",
     "output_type": "stream",
     "text": [
      "Epoch 40/200, Loss: 0.02983466822367448\n"
     ]
    },
    {
     "name": "stderr",
     "output_type": "stream",
     "text": [
      " 15%|█▌        | 2/13 [00:00<00:00, 17.50it/s]"
     ]
    },
    {
     "name": "stdout",
     "output_type": "stream",
     "text": [
      "Loss improved saving model\n",
      "Loss improved saving model\n",
      "Loss improved saving model\n"
     ]
    },
    {
     "name": "stderr",
     "output_type": "stream",
     "text": [
      " 31%|███       | 4/13 [00:00<00:00, 17.58it/s]"
     ]
    },
    {
     "name": "stdout",
     "output_type": "stream",
     "text": [
      "Loss improved saving model\n"
     ]
    },
    {
     "name": "stderr",
     "output_type": "stream",
     "text": [
      "100%|██████████| 13/13 [00:00<00:00, 17.79it/s]\n"
     ]
    },
    {
     "name": "stdout",
     "output_type": "stream",
     "text": [
      "Epoch 41/200, Loss: 0.034569342549030595\n"
     ]
    },
    {
     "name": "stderr",
     "output_type": "stream",
     "text": [
      " 15%|█▌        | 2/13 [00:00<00:00, 16.68it/s]"
     ]
    },
    {
     "name": "stdout",
     "output_type": "stream",
     "text": [
      "Loss improved saving model\n",
      "Loss improved saving model\n",
      "Loss improved saving model\n"
     ]
    },
    {
     "name": "stderr",
     "output_type": "stream",
     "text": [
      " 31%|███       | 4/13 [00:00<00:00, 16.88it/s]"
     ]
    },
    {
     "name": "stdout",
     "output_type": "stream",
     "text": [
      "Loss improved saving model\n"
     ]
    },
    {
     "name": "stderr",
     "output_type": "stream",
     "text": [
      "100%|██████████| 13/13 [00:00<00:00, 17.40it/s]\n"
     ]
    },
    {
     "name": "stdout",
     "output_type": "stream",
     "text": [
      "Epoch 42/200, Loss: 0.028018601811849154\n"
     ]
    },
    {
     "name": "stderr",
     "output_type": "stream",
     "text": [
      " 15%|█▌        | 2/13 [00:00<00:00, 16.89it/s]"
     ]
    },
    {
     "name": "stdout",
     "output_type": "stream",
     "text": [
      "Loss improved saving model\n"
     ]
    },
    {
     "name": "stderr",
     "output_type": "stream",
     "text": [
      "100%|██████████| 13/13 [00:00<00:00, 17.49it/s]\n"
     ]
    },
    {
     "name": "stdout",
     "output_type": "stream",
     "text": [
      "Epoch 43/200, Loss: 0.018137793701428633\n"
     ]
    },
    {
     "name": "stderr",
     "output_type": "stream",
     "text": [
      "100%|██████████| 13/13 [00:00<00:00, 17.80it/s]\n"
     ]
    },
    {
     "name": "stdout",
     "output_type": "stream",
     "text": [
      "Epoch 44/200, Loss: 0.02541512021651635\n"
     ]
    },
    {
     "name": "stderr",
     "output_type": "stream",
     "text": [
      "100%|██████████| 13/13 [00:00<00:00, 17.63it/s]\n"
     ]
    },
    {
     "name": "stdout",
     "output_type": "stream",
     "text": [
      "Epoch 45/200, Loss: 0.013655432714865757\n"
     ]
    },
    {
     "name": "stderr",
     "output_type": "stream",
     "text": [
      " 15%|█▌        | 2/13 [00:00<00:00, 17.46it/s]"
     ]
    },
    {
     "name": "stdout",
     "output_type": "stream",
     "text": [
      "Loss improved saving model\n"
     ]
    },
    {
     "name": "stderr",
     "output_type": "stream",
     "text": [
      "100%|██████████| 13/13 [00:00<00:00, 17.71it/s]\n"
     ]
    },
    {
     "name": "stdout",
     "output_type": "stream",
     "text": [
      "Epoch 46/200, Loss: 0.011192471362077273\n"
     ]
    },
    {
     "name": "stderr",
     "output_type": "stream",
     "text": [
      "100%|██████████| 13/13 [00:00<00:00, 17.66it/s]\n"
     ]
    },
    {
     "name": "stdout",
     "output_type": "stream",
     "text": [
      "Epoch 47/200, Loss: 0.011504713159341078\n"
     ]
    },
    {
     "name": "stderr",
     "output_type": "stream",
     "text": [
      "100%|██████████| 13/13 [00:00<00:00, 17.64it/s]\n"
     ]
    },
    {
     "name": "stdout",
     "output_type": "stream",
     "text": [
      "Epoch 48/200, Loss: 0.02381223554794605\n"
     ]
    },
    {
     "name": "stderr",
     "output_type": "stream",
     "text": [
      " 15%|█▌        | 2/13 [00:00<00:00, 17.42it/s]"
     ]
    },
    {
     "name": "stdout",
     "output_type": "stream",
     "text": [
      "Loss improved saving model\n",
      "Loss improved saving model\n",
      "Loss improved saving model\n"
     ]
    },
    {
     "name": "stderr",
     "output_type": "stream",
     "text": [
      "100%|██████████| 13/13 [00:00<00:00, 17.59it/s]\n"
     ]
    },
    {
     "name": "stdout",
     "output_type": "stream",
     "text": [
      "Epoch 49/200, Loss: 0.040214501321315765\n"
     ]
    },
    {
     "name": "stderr",
     "output_type": "stream",
     "text": [
      " 15%|█▌        | 2/13 [00:00<00:00, 17.19it/s]"
     ]
    },
    {
     "name": "stdout",
     "output_type": "stream",
     "text": [
      "Loss improved saving model\n",
      "Loss improved saving model\n",
      "Loss improved saving model\n"
     ]
    },
    {
     "name": "stderr",
     "output_type": "stream",
     "text": [
      " 31%|███       | 4/13 [00:00<00:00, 17.38it/s]"
     ]
    },
    {
     "name": "stdout",
     "output_type": "stream",
     "text": [
      "Loss improved saving model\n"
     ]
    },
    {
     "name": "stderr",
     "output_type": "stream",
     "text": [
      "100%|██████████| 13/13 [00:00<00:00, 17.47it/s]\n"
     ]
    },
    {
     "name": "stdout",
     "output_type": "stream",
     "text": [
      "Epoch 50/200, Loss: 0.02036947298508424\n"
     ]
    },
    {
     "name": "stderr",
     "output_type": "stream",
     "text": [
      " 15%|█▌        | 2/13 [00:00<00:00, 16.71it/s]"
     ]
    },
    {
     "name": "stdout",
     "output_type": "stream",
     "text": [
      "Loss improved saving model\n",
      "Loss improved saving model\n",
      "Loss improved saving model\n"
     ]
    },
    {
     "name": "stderr",
     "output_type": "stream",
     "text": [
      " 31%|███       | 4/13 [00:00<00:00, 17.07it/s]"
     ]
    },
    {
     "name": "stdout",
     "output_type": "stream",
     "text": [
      "Loss improved saving model\n"
     ]
    },
    {
     "name": "stderr",
     "output_type": "stream",
     "text": [
      " 46%|████▌     | 6/13 [00:00<00:00, 16.82it/s]"
     ]
    },
    {
     "name": "stdout",
     "output_type": "stream",
     "text": [
      "Loss improved saving model\n",
      "Loss improved saving model\n"
     ]
    },
    {
     "name": "stderr",
     "output_type": "stream",
     "text": [
      "100%|██████████| 13/13 [00:00<00:00, 17.31it/s]\n"
     ]
    },
    {
     "name": "stdout",
     "output_type": "stream",
     "text": [
      "Epoch 51/200, Loss: 0.010757784430797283\n"
     ]
    },
    {
     "name": "stderr",
     "output_type": "stream",
     "text": [
      " 15%|█▌        | 2/13 [00:00<00:00, 17.33it/s]"
     ]
    },
    {
     "name": "stdout",
     "output_type": "stream",
     "text": [
      "Loss improved saving model\n",
      "Loss improved saving model\n",
      "Loss improved saving model\n"
     ]
    },
    {
     "name": "stderr",
     "output_type": "stream",
     "text": [
      " 31%|███       | 4/13 [00:00<00:00, 17.13it/s]"
     ]
    },
    {
     "name": "stdout",
     "output_type": "stream",
     "text": [
      "Loss improved saving model\n"
     ]
    },
    {
     "name": "stderr",
     "output_type": "stream",
     "text": [
      " 46%|████▌     | 6/13 [00:00<00:00, 17.25it/s]"
     ]
    },
    {
     "name": "stdout",
     "output_type": "stream",
     "text": [
      "Loss improved saving model\n",
      "Loss improved saving model\n"
     ]
    },
    {
     "name": "stderr",
     "output_type": "stream",
     "text": [
      "100%|██████████| 13/13 [00:00<00:00, 17.50it/s]\n"
     ]
    },
    {
     "name": "stdout",
     "output_type": "stream",
     "text": [
      "Epoch 52/200, Loss: 0.009225555337392367\n"
     ]
    },
    {
     "name": "stderr",
     "output_type": "stream",
     "text": [
      "100%|██████████| 13/13 [00:00<00:00, 17.67it/s]\n"
     ]
    },
    {
     "name": "stdout",
     "output_type": "stream",
     "text": [
      "Epoch 53/200, Loss: 0.02213007344219547\n"
     ]
    },
    {
     "name": "stderr",
     "output_type": "stream",
     "text": [
      " 15%|█▌        | 2/13 [00:00<00:00, 16.68it/s]"
     ]
    },
    {
     "name": "stdout",
     "output_type": "stream",
     "text": [
      "Loss improved saving model\n",
      "Loss improved saving model\n"
     ]
    },
    {
     "name": "stderr",
     "output_type": "stream",
     "text": [
      "100%|██████████| 13/13 [00:00<00:00, 17.52it/s]\n"
     ]
    },
    {
     "name": "stdout",
     "output_type": "stream",
     "text": [
      "Epoch 54/200, Loss: 0.029687409217541035\n"
     ]
    },
    {
     "name": "stderr",
     "output_type": "stream",
     "text": [
      " 15%|█▌        | 2/13 [00:00<00:00, 17.79it/s]"
     ]
    },
    {
     "name": "stdout",
     "output_type": "stream",
     "text": [
      "Loss improved saving model\n"
     ]
    },
    {
     "name": "stderr",
     "output_type": "stream",
     "text": [
      "100%|██████████| 13/13 [00:00<00:00, 17.51it/s]\n"
     ]
    },
    {
     "name": "stdout",
     "output_type": "stream",
     "text": [
      "Epoch 55/200, Loss: 0.018197955993505623\n"
     ]
    },
    {
     "name": "stderr",
     "output_type": "stream",
     "text": [
      " 15%|█▌        | 2/13 [00:00<00:00, 17.08it/s]"
     ]
    },
    {
     "name": "stdout",
     "output_type": "stream",
     "text": [
      "Loss improved saving model\n",
      "Loss improved saving model\n"
     ]
    },
    {
     "name": "stderr",
     "output_type": "stream",
     "text": [
      "100%|██████████| 13/13 [00:00<00:00, 17.57it/s]\n"
     ]
    },
    {
     "name": "stdout",
     "output_type": "stream",
     "text": [
      "Epoch 56/200, Loss: 0.014204668884093944\n"
     ]
    },
    {
     "name": "stderr",
     "output_type": "stream",
     "text": [
      "100%|██████████| 13/13 [00:00<00:00, 17.81it/s]\n"
     ]
    },
    {
     "name": "stdout",
     "output_type": "stream",
     "text": [
      "Epoch 57/200, Loss: 0.00914481167609875\n"
     ]
    },
    {
     "name": "stderr",
     "output_type": "stream",
     "text": [
      " 15%|█▌        | 2/13 [00:00<00:00, 17.53it/s]"
     ]
    },
    {
     "name": "stdout",
     "output_type": "stream",
     "text": [
      "Loss improved saving model\n"
     ]
    },
    {
     "name": "stderr",
     "output_type": "stream",
     "text": [
      "100%|██████████| 13/13 [00:00<00:00, 17.55it/s]\n"
     ]
    },
    {
     "name": "stdout",
     "output_type": "stream",
     "text": [
      "Epoch 58/200, Loss: 0.02030585018488077\n"
     ]
    },
    {
     "name": "stderr",
     "output_type": "stream",
     "text": [
      " 15%|█▌        | 2/13 [00:00<00:00, 17.26it/s]"
     ]
    },
    {
     "name": "stdout",
     "output_type": "stream",
     "text": [
      "Loss improved saving model\n"
     ]
    },
    {
     "name": "stderr",
     "output_type": "stream",
     "text": [
      "100%|██████████| 13/13 [00:00<00:00, 17.24it/s]\n"
     ]
    },
    {
     "name": "stdout",
     "output_type": "stream",
     "text": [
      "Epoch 59/200, Loss: 0.01447649414722736\n"
     ]
    },
    {
     "name": "stderr",
     "output_type": "stream",
     "text": [
      "100%|██████████| 13/13 [00:00<00:00, 17.24it/s]\n"
     ]
    },
    {
     "name": "stdout",
     "output_type": "stream",
     "text": [
      "Epoch 60/200, Loss: 0.004477103169147785\n"
     ]
    },
    {
     "name": "stderr",
     "output_type": "stream",
     "text": [
      "100%|██████████| 13/13 [00:00<00:00, 17.83it/s]\n"
     ]
    },
    {
     "name": "stdout",
     "output_type": "stream",
     "text": [
      "Epoch 61/200, Loss: 0.02739072533754202\n"
     ]
    },
    {
     "name": "stderr",
     "output_type": "stream",
     "text": [
      " 15%|█▌        | 2/13 [00:00<00:00, 16.86it/s]"
     ]
    },
    {
     "name": "stdout",
     "output_type": "stream",
     "text": [
      "Loss improved saving model\n",
      "Loss improved saving model\n",
      "Loss improved saving model\n"
     ]
    },
    {
     "name": "stderr",
     "output_type": "stream",
     "text": [
      " 31%|███       | 4/13 [00:00<00:00, 16.79it/s]"
     ]
    },
    {
     "name": "stdout",
     "output_type": "stream",
     "text": [
      "Loss improved saving model\n"
     ]
    },
    {
     "name": "stderr",
     "output_type": "stream",
     "text": [
      " 46%|████▌     | 6/13 [00:00<00:00, 16.51it/s]"
     ]
    },
    {
     "name": "stdout",
     "output_type": "stream",
     "text": [
      "Loss improved saving model\n"
     ]
    },
    {
     "name": "stderr",
     "output_type": "stream",
     "text": [
      "100%|██████████| 13/13 [00:00<00:00, 17.33it/s]\n"
     ]
    },
    {
     "name": "stdout",
     "output_type": "stream",
     "text": [
      "Epoch 62/200, Loss: 0.004299476742744446\n"
     ]
    },
    {
     "name": "stderr",
     "output_type": "stream",
     "text": [
      " 15%|█▌        | 2/13 [00:00<00:00, 16.76it/s]"
     ]
    },
    {
     "name": "stdout",
     "output_type": "stream",
     "text": [
      "Loss improved saving model\n",
      "Loss improved saving model\n",
      "Loss improved saving model\n"
     ]
    },
    {
     "name": "stderr",
     "output_type": "stream",
     "text": [
      " 31%|███       | 4/13 [00:00<00:00, 16.86it/s]"
     ]
    },
    {
     "name": "stdout",
     "output_type": "stream",
     "text": [
      "Loss improved saving model\n"
     ]
    },
    {
     "name": "stderr",
     "output_type": "stream",
     "text": [
      " 46%|████▌     | 6/13 [00:00<00:00, 17.02it/s]"
     ]
    },
    {
     "name": "stdout",
     "output_type": "stream",
     "text": [
      "Loss improved saving model\n"
     ]
    },
    {
     "name": "stderr",
     "output_type": "stream",
     "text": [
      "100%|██████████| 13/13 [00:00<00:00, 17.47it/s]\n"
     ]
    },
    {
     "name": "stdout",
     "output_type": "stream",
     "text": [
      "Epoch 63/200, Loss: 0.016512177884578705\n"
     ]
    },
    {
     "name": "stderr",
     "output_type": "stream",
     "text": [
      " 15%|█▌        | 2/13 [00:00<00:00, 17.47it/s]"
     ]
    },
    {
     "name": "stdout",
     "output_type": "stream",
     "text": [
      "Loss improved saving model\n",
      "Loss improved saving model\n",
      "Loss improved saving model\n"
     ]
    },
    {
     "name": "stderr",
     "output_type": "stream",
     "text": [
      " 31%|███       | 4/13 [00:00<00:00, 17.29it/s]"
     ]
    },
    {
     "name": "stdout",
     "output_type": "stream",
     "text": [
      "Loss improved saving model\n"
     ]
    },
    {
     "name": "stderr",
     "output_type": "stream",
     "text": [
      " 46%|████▌     | 6/13 [00:00<00:00, 17.09it/s]"
     ]
    },
    {
     "name": "stdout",
     "output_type": "stream",
     "text": [
      "Loss improved saving model\n",
      "Loss improved saving model\n",
      "Loss improved saving model\n"
     ]
    },
    {
     "name": "stderr",
     "output_type": "stream",
     "text": [
      " 62%|██████▏   | 8/13 [00:00<00:00, 17.08it/s]"
     ]
    },
    {
     "name": "stdout",
     "output_type": "stream",
     "text": [
      "Loss improved saving model\n"
     ]
    },
    {
     "name": "stderr",
     "output_type": "stream",
     "text": [
      "100%|██████████| 13/13 [00:00<00:00, 17.48it/s]\n"
     ]
    },
    {
     "name": "stdout",
     "output_type": "stream",
     "text": [
      "Epoch 64/200, Loss: 0.00703108196075146\n"
     ]
    },
    {
     "name": "stderr",
     "output_type": "stream",
     "text": [
      " 15%|█▌        | 2/13 [00:00<00:00, 16.94it/s]"
     ]
    },
    {
     "name": "stdout",
     "output_type": "stream",
     "text": [
      "Loss improved saving model\n",
      "Loss improved saving model\n",
      "Loss improved saving model\n"
     ]
    },
    {
     "name": "stderr",
     "output_type": "stream",
     "text": [
      " 31%|███       | 4/13 [00:00<00:00, 17.15it/s]"
     ]
    },
    {
     "name": "stdout",
     "output_type": "stream",
     "text": [
      "Loss improved saving model\n"
     ]
    },
    {
     "name": "stderr",
     "output_type": "stream",
     "text": [
      "100%|██████████| 13/13 [00:00<00:00, 17.59it/s]\n"
     ]
    },
    {
     "name": "stdout",
     "output_type": "stream",
     "text": [
      "Epoch 65/200, Loss: 0.012935184515439548\n"
     ]
    },
    {
     "name": "stderr",
     "output_type": "stream",
     "text": [
      " 15%|█▌        | 2/13 [00:00<00:00, 17.11it/s]"
     ]
    },
    {
     "name": "stdout",
     "output_type": "stream",
     "text": [
      "Loss improved saving model\n",
      "Loss improved saving model\n",
      "Loss improved saving model\n"
     ]
    },
    {
     "name": "stderr",
     "output_type": "stream",
     "text": [
      "100%|██████████| 13/13 [00:00<00:00, 17.56it/s]\n"
     ]
    },
    {
     "name": "stdout",
     "output_type": "stream",
     "text": [
      "Epoch 66/200, Loss: 0.009051931019012745\n"
     ]
    },
    {
     "name": "stderr",
     "output_type": "stream",
     "text": [
      " 15%|█▌        | 2/13 [00:00<00:00, 16.82it/s]"
     ]
    },
    {
     "name": "stdout",
     "output_type": "stream",
     "text": [
      "Loss improved saving model\n",
      "Loss improved saving model\n",
      "Loss improved saving model\n"
     ]
    },
    {
     "name": "stderr",
     "output_type": "stream",
     "text": [
      "100%|██████████| 13/13 [00:00<00:00, 17.63it/s]\n"
     ]
    },
    {
     "name": "stdout",
     "output_type": "stream",
     "text": [
      "Epoch 67/200, Loss: 0.012335973290296702\n"
     ]
    },
    {
     "name": "stderr",
     "output_type": "stream",
     "text": [
      " 15%|█▌        | 2/13 [00:00<00:00, 16.12it/s]"
     ]
    },
    {
     "name": "stdout",
     "output_type": "stream",
     "text": [
      "Loss improved saving model\n",
      "Loss improved saving model\n",
      "Loss improved saving model\n"
     ]
    },
    {
     "name": "stderr",
     "output_type": "stream",
     "text": [
      " 31%|███       | 4/13 [00:00<00:00, 16.39it/s]"
     ]
    },
    {
     "name": "stdout",
     "output_type": "stream",
     "text": [
      "Loss improved saving model\n"
     ]
    },
    {
     "name": "stderr",
     "output_type": "stream",
     "text": [
      " 46%|████▌     | 6/13 [00:00<00:00, 16.76it/s]"
     ]
    },
    {
     "name": "stdout",
     "output_type": "stream",
     "text": [
      "Loss improved saving model\n",
      "Loss improved saving model\n"
     ]
    },
    {
     "name": "stderr",
     "output_type": "stream",
     "text": [
      "100%|██████████| 13/13 [00:00<00:00, 17.10it/s]\n"
     ]
    },
    {
     "name": "stdout",
     "output_type": "stream",
     "text": [
      "Epoch 68/200, Loss: 0.010039025774368873\n"
     ]
    },
    {
     "name": "stderr",
     "output_type": "stream",
     "text": [
      "100%|██████████| 13/13 [00:00<00:00, 17.66it/s]\n"
     ]
    },
    {
     "name": "stdout",
     "output_type": "stream",
     "text": [
      "Epoch 69/200, Loss: 0.01436717464373662\n"
     ]
    },
    {
     "name": "stderr",
     "output_type": "stream",
     "text": [
      "100%|██████████| 13/13 [00:00<00:00, 17.53it/s]\n"
     ]
    },
    {
     "name": "stdout",
     "output_type": "stream",
     "text": [
      "Epoch 70/200, Loss: 0.0001382140012887808\n"
     ]
    },
    {
     "name": "stderr",
     "output_type": "stream",
     "text": [
      " 15%|█▌        | 2/13 [00:00<00:00, 16.83it/s]"
     ]
    },
    {
     "name": "stdout",
     "output_type": "stream",
     "text": [
      "Loss improved saving model\n",
      "Loss improved saving model\n",
      "Loss improved saving model\n"
     ]
    },
    {
     "name": "stderr",
     "output_type": "stream",
     "text": [
      " 31%|███       | 4/13 [00:00<00:00, 16.64it/s]"
     ]
    },
    {
     "name": "stdout",
     "output_type": "stream",
     "text": [
      "Loss improved saving model\n"
     ]
    },
    {
     "name": "stderr",
     "output_type": "stream",
     "text": [
      " 46%|████▌     | 6/13 [00:00<00:00, 16.79it/s]"
     ]
    },
    {
     "name": "stdout",
     "output_type": "stream",
     "text": [
      "Loss improved saving model\n"
     ]
    },
    {
     "name": "stderr",
     "output_type": "stream",
     "text": [
      "100%|██████████| 13/13 [00:00<00:00, 17.10it/s]\n"
     ]
    },
    {
     "name": "stdout",
     "output_type": "stream",
     "text": [
      "Epoch 71/200, Loss: 0.002301214549403924\n"
     ]
    },
    {
     "name": "stderr",
     "output_type": "stream",
     "text": [
      " 15%|█▌        | 2/13 [00:00<00:00, 16.52it/s]"
     ]
    },
    {
     "name": "stdout",
     "output_type": "stream",
     "text": [
      "Loss improved saving model\n",
      "Loss improved saving model\n",
      "Loss improved saving model\n"
     ]
    },
    {
     "name": "stderr",
     "output_type": "stream",
     "text": [
      " 31%|███       | 4/13 [00:00<00:00, 17.01it/s]"
     ]
    },
    {
     "name": "stdout",
     "output_type": "stream",
     "text": [
      "Loss improved saving model\n"
     ]
    },
    {
     "name": "stderr",
     "output_type": "stream",
     "text": [
      " 46%|████▌     | 6/13 [00:00<00:00, 16.96it/s]"
     ]
    },
    {
     "name": "stdout",
     "output_type": "stream",
     "text": [
      "Loss improved saving model\n",
      "Loss improved saving model\n",
      "Loss improved saving model\n"
     ]
    },
    {
     "name": "stderr",
     "output_type": "stream",
     "text": [
      " 62%|██████▏   | 8/13 [00:00<00:00, 16.92it/s]"
     ]
    },
    {
     "name": "stdout",
     "output_type": "stream",
     "text": [
      "Loss improved saving model\n"
     ]
    },
    {
     "name": "stderr",
     "output_type": "stream",
     "text": [
      " 77%|███████▋  | 10/13 [00:00<00:00, 16.81it/s]"
     ]
    },
    {
     "name": "stdout",
     "output_type": "stream",
     "text": [
      "Loss improved saving model\n",
      "Loss improved saving model\n"
     ]
    },
    {
     "name": "stderr",
     "output_type": "stream",
     "text": [
      "100%|██████████| 13/13 [00:00<00:00, 17.09it/s]\n"
     ]
    },
    {
     "name": "stdout",
     "output_type": "stream",
     "text": [
      "Epoch 72/200, Loss: 0.00028671324253082275\n"
     ]
    },
    {
     "name": "stderr",
     "output_type": "stream",
     "text": [
      " 15%|█▌        | 2/13 [00:00<00:00, 16.78it/s]"
     ]
    },
    {
     "name": "stdout",
     "output_type": "stream",
     "text": [
      "Loss improved saving model\n"
     ]
    },
    {
     "name": "stderr",
     "output_type": "stream",
     "text": [
      "100%|██████████| 13/13 [00:00<00:00, 17.63it/s]\n"
     ]
    },
    {
     "name": "stdout",
     "output_type": "stream",
     "text": [
      "Epoch 73/200, Loss: 0.004119537770748138\n"
     ]
    },
    {
     "name": "stderr",
     "output_type": "stream",
     "text": [
      " 15%|█▌        | 2/13 [00:00<00:00, 17.21it/s]"
     ]
    },
    {
     "name": "stdout",
     "output_type": "stream",
     "text": [
      "Loss improved saving model\n",
      "Loss improved saving model\n",
      "Loss improved saving model\n"
     ]
    },
    {
     "name": "stderr",
     "output_type": "stream",
     "text": [
      "100%|██████████| 13/13 [00:00<00:00, 17.70it/s]\n"
     ]
    },
    {
     "name": "stdout",
     "output_type": "stream",
     "text": [
      "Epoch 74/200, Loss: 0.0031944656601318945\n"
     ]
    },
    {
     "name": "stderr",
     "output_type": "stream",
     "text": [
      " 15%|█▌        | 2/13 [00:00<00:00, 16.01it/s]"
     ]
    },
    {
     "name": "stdout",
     "output_type": "stream",
     "text": [
      "Loss improved saving model\n"
     ]
    },
    {
     "name": "stderr",
     "output_type": "stream",
     "text": [
      "100%|██████████| 13/13 [00:00<00:00, 17.37it/s]\n"
     ]
    },
    {
     "name": "stdout",
     "output_type": "stream",
     "text": [
      "Epoch 75/200, Loss: 0.0019499934636629545\n"
     ]
    },
    {
     "name": "stderr",
     "output_type": "stream",
     "text": [
      " 15%|█▌        | 2/13 [00:00<00:00, 14.44it/s]"
     ]
    },
    {
     "name": "stdout",
     "output_type": "stream",
     "text": [
      "Loss improved saving model\n",
      "Loss improved saving model\n",
      "Loss improved saving model\n"
     ]
    },
    {
     "name": "stderr",
     "output_type": "stream",
     "text": [
      " 31%|███       | 4/13 [00:00<00:00, 15.81it/s]"
     ]
    },
    {
     "name": "stdout",
     "output_type": "stream",
     "text": [
      "Loss improved saving model\n"
     ]
    },
    {
     "name": "stderr",
     "output_type": "stream",
     "text": [
      " 46%|████▌     | 6/13 [00:00<00:00, 16.27it/s]"
     ]
    },
    {
     "name": "stdout",
     "output_type": "stream",
     "text": [
      "Loss improved saving model\n",
      "Loss improved saving model\n",
      "Loss improved saving model\n"
     ]
    },
    {
     "name": "stderr",
     "output_type": "stream",
     "text": [
      " 62%|██████▏   | 8/13 [00:00<00:00, 16.34it/s]"
     ]
    },
    {
     "name": "stdout",
     "output_type": "stream",
     "text": [
      "Loss improved saving model\n"
     ]
    },
    {
     "name": "stderr",
     "output_type": "stream",
     "text": [
      " 77%|███████▋  | 10/13 [00:00<00:00, 16.54it/s]"
     ]
    },
    {
     "name": "stdout",
     "output_type": "stream",
     "text": [
      "Loss improved saving model\n",
      "Loss improved saving model\n",
      "Loss improved saving model\n"
     ]
    },
    {
     "name": "stderr",
     "output_type": "stream",
     "text": [
      " 92%|█████████▏| 12/13 [00:00<00:00, 16.63it/s]"
     ]
    },
    {
     "name": "stdout",
     "output_type": "stream",
     "text": [
      "Loss improved saving model\n"
     ]
    },
    {
     "name": "stderr",
     "output_type": "stream",
     "text": [
      "100%|██████████| 13/13 [00:00<00:00, 16.55it/s]\n"
     ]
    },
    {
     "name": "stdout",
     "output_type": "stream",
     "text": [
      "Epoch 76/200, Loss: 0.009419021125023182\n"
     ]
    },
    {
     "name": "stderr",
     "output_type": "stream",
     "text": [
      " 15%|█▌        | 2/13 [00:00<00:00, 17.37it/s]"
     ]
    },
    {
     "name": "stdout",
     "output_type": "stream",
     "text": [
      "Loss improved saving model\n",
      "Loss improved saving model\n"
     ]
    },
    {
     "name": "stderr",
     "output_type": "stream",
     "text": [
      "100%|██████████| 13/13 [00:00<00:00, 17.55it/s]\n"
     ]
    },
    {
     "name": "stdout",
     "output_type": "stream",
     "text": [
      "Epoch 77/200, Loss: 0.01124722109391139\n"
     ]
    },
    {
     "name": "stderr",
     "output_type": "stream",
     "text": [
      "100%|██████████| 13/13 [00:00<00:00, 17.51it/s]\n"
     ]
    },
    {
     "name": "stdout",
     "output_type": "stream",
     "text": [
      "Epoch 78/200, Loss: 0.010847737009708699\n"
     ]
    },
    {
     "name": "stderr",
     "output_type": "stream",
     "text": [
      " 15%|█▌        | 2/13 [00:00<00:00, 17.29it/s]"
     ]
    },
    {
     "name": "stdout",
     "output_type": "stream",
     "text": [
      "Loss improved saving model\n",
      "Loss improved saving model\n",
      "Loss improved saving model\n"
     ]
    },
    {
     "name": "stderr",
     "output_type": "stream",
     "text": [
      " 31%|███       | 4/13 [00:00<00:00, 17.18it/s]"
     ]
    },
    {
     "name": "stdout",
     "output_type": "stream",
     "text": [
      "Loss improved saving model\n"
     ]
    },
    {
     "name": "stderr",
     "output_type": "stream",
     "text": [
      " 46%|████▌     | 6/13 [00:00<00:00, 17.13it/s]"
     ]
    },
    {
     "name": "stdout",
     "output_type": "stream",
     "text": [
      "Loss improved saving model\n",
      "Loss improved saving model\n",
      "Loss improved saving model\n"
     ]
    },
    {
     "name": "stderr",
     "output_type": "stream",
     "text": [
      "100%|██████████| 13/13 [00:00<00:00, 17.43it/s]\n"
     ]
    },
    {
     "name": "stdout",
     "output_type": "stream",
     "text": [
      "Epoch 79/200, Loss: 0.0023570845906551066\n"
     ]
    },
    {
     "name": "stderr",
     "output_type": "stream",
     "text": [
      " 15%|█▌        | 2/13 [00:00<00:00, 16.55it/s]"
     ]
    },
    {
     "name": "stdout",
     "output_type": "stream",
     "text": [
      "Loss improved saving model\n",
      "Loss improved saving model\n",
      "Loss improved saving model\n"
     ]
    },
    {
     "name": "stderr",
     "output_type": "stream",
     "text": [
      " 31%|███       | 4/13 [00:00<00:00, 16.87it/s]"
     ]
    },
    {
     "name": "stdout",
     "output_type": "stream",
     "text": [
      "Loss improved saving model\n"
     ]
    },
    {
     "name": "stderr",
     "output_type": "stream",
     "text": [
      " 46%|████▌     | 6/13 [00:00<00:00, 17.04it/s]"
     ]
    },
    {
     "name": "stdout",
     "output_type": "stream",
     "text": [
      "Loss improved saving model\n",
      "Loss improved saving model\n"
     ]
    },
    {
     "name": "stderr",
     "output_type": "stream",
     "text": [
      "100%|██████████| 13/13 [00:00<00:00, 17.46it/s]\n"
     ]
    },
    {
     "name": "stdout",
     "output_type": "stream",
     "text": [
      "Epoch 80/200, Loss: 0.0015029809795893156\n"
     ]
    },
    {
     "name": "stderr",
     "output_type": "stream",
     "text": [
      " 15%|█▌        | 2/13 [00:00<00:00, 17.10it/s]"
     ]
    },
    {
     "name": "stdout",
     "output_type": "stream",
     "text": [
      "Loss improved saving model\n",
      "Loss improved saving model\n"
     ]
    },
    {
     "name": "stderr",
     "output_type": "stream",
     "text": [
      "100%|██████████| 13/13 [00:00<00:00, 17.71it/s]\n"
     ]
    },
    {
     "name": "stdout",
     "output_type": "stream",
     "text": [
      "Epoch 81/200, Loss: 0.012453910249930162\n"
     ]
    },
    {
     "name": "stderr",
     "output_type": "stream",
     "text": [
      " 15%|█▌        | 2/13 [00:00<00:00, 17.83it/s]"
     ]
    },
    {
     "name": "stdout",
     "output_type": "stream",
     "text": [
      "Loss improved saving model\n"
     ]
    },
    {
     "name": "stderr",
     "output_type": "stream",
     "text": [
      " 77%|███████▋  | 10/13 [00:00<00:00, 17.69it/s]"
     ]
    }
   ],
   "source": [
    "from tqdm import tqdm\n",
    "best_loss = 100.0\n",
    "num_epochs = 200\n",
    "epoch_loss_list = []\n",
    "model_name = \"FlakyXbert_IDoFT_project_\" + project_name + '_final.pth'\n",
    "for epoch in range(num_epochs):\n",
    "    total_loss = 0.0\n",
    "    siamese_network.train()\n",
    "    for batch in tqdm(train_dataloader):\n",
    "\n",
    "        labels = (batch['label']).to(device)\n",
    "        batch_anchor = (batch['anchor']).to(device)\n",
    "        batch_positive = (batch['positive']).to(device)\n",
    "        batch_negative = (batch['negative']).to(device)\n",
    "\n",
    "        anchor_output = siamese_network(batch_anchor)\n",
    "        positive_out = siamese_network(batch_positive)\n",
    "        negative_out = siamese_network(batch_negative)\n",
    "\n",
    "        loss = criterion(anchor_output, positive_out, negative_out)\n",
    "        optimizer.zero_grad()\n",
    "        loss.backward()\n",
    "        # torch.nn.utils.clip_grad_norm_(siamese_network.parameters(), max_norm=2.0)        \n",
    "        optimizer.step()\n",
    "        # scheduler.step()\n",
    "\n",
    "        total_loss += loss.item()\n",
    "        if total_loss <= best_loss:\n",
    "            # print(f\"Epoch {epoch+1}/{num_epochs}, Loss: {total_loss / len(train_dataloader)}\")\n",
    "            print(\"Loss improved saving model\")\n",
    "            torch.save(siamese_network.state_dict(), model_name)\n",
    "            best_loss = total_loss\n",
    "        \n",
    "            \n",
    "    print(f\"Epoch {epoch+1}/{num_epochs}, Loss: {total_loss / len(train_dataloader)}\")\n",
    "    # The line `epoch_loss_list.append(f\"Epoch {epoch+1}/{num_epochs}, Loss: {total_loss / len(train_dataloader)}\")` is attempting to append a formatted string to a list named `epoch_loss_list`. This string contains information about the current epoch number, total number of epochs, and the average loss calculated for that epoch. However, in the provided code snippet, the `epoch_loss_list` list is not defined or used anywhere else in the code.\n",
    "    epoch_loss_list.append(f\"Epoch {epoch+1}/{num_epochs}, Loss: {total_loss / len(train_dataloader)}\")\n",
    "    "
   ]
  },
  {
   "cell_type": "code",
   "execution_count": null,
   "metadata": {},
   "outputs": [
    {
     "data": {
      "text/plain": [
       "['Epoch 151/200, Loss: 0.007889396869219266',\n",
       " 'Epoch 152/200, Loss: 0.009008479806093069',\n",
       " 'Epoch 153/200, Loss: 0.0040962501214100765',\n",
       " 'Epoch 154/200, Loss: 0.004096490259353931',\n",
       " 'Epoch 155/200, Loss: 0.026434933336881492',\n",
       " 'Epoch 156/200, Loss: 0.03154889723429313',\n",
       " 'Epoch 157/200, Loss: 0.0016348872047204238',\n",
       " 'Epoch 158/200, Loss: 0.010110030953700725',\n",
       " 'Epoch 159/200, Loss: 0.015543878651582278',\n",
       " 'Epoch 160/200, Loss: 0.024352449637192946',\n",
       " 'Epoch 161/200, Loss: 0.008248588213553796',\n",
       " 'Epoch 162/200, Loss: 0.017553168420608226',\n",
       " 'Epoch 163/200, Loss: 0.013986292366798107',\n",
       " 'Epoch 164/200, Loss: 0.02490553718346816',\n",
       " 'Epoch 165/200, Loss: 0.018893863146121685',\n",
       " 'Epoch 166/200, Loss: 0.002733714305437528',\n",
       " 'Epoch 167/200, Loss: 0.021111742235147037',\n",
       " 'Epoch 168/200, Loss: 0.02010980764260659',\n",
       " 'Epoch 169/200, Loss: 0.0005488389959702125',\n",
       " 'Epoch 170/200, Loss: 0.01887608548769584',\n",
       " 'Epoch 171/200, Loss: 0.01857945781487685',\n",
       " 'Epoch 172/200, Loss: 0.0017946075934630174',\n",
       " 'Epoch 173/200, Loss: 0.029820790657630332',\n",
       " 'Epoch 174/200, Loss: 0.011040345407449283',\n",
       " 'Epoch 175/200, Loss: 0.015076736991222087',\n",
       " 'Epoch 176/200, Loss: 0.0004543054562348586',\n",
       " 'Epoch 177/200, Loss: 0.005120594914142902',\n",
       " 'Epoch 178/200, Loss: 0.006855519345173469',\n",
       " 'Epoch 179/200, Loss: 0.009637068097408',\n",
       " 'Epoch 180/200, Loss: 0.012088015102423154']"
      ]
     },
     "execution_count": 28,
     "metadata": {},
     "output_type": "execute_result"
    }
   ],
   "source": [
    "epoch_loss_list[-50:-20]"
   ]
  },
  {
   "cell_type": "code",
   "execution_count": null,
   "id": "5b4c67a7-7394-46cc-b2a9-ed00d8fee7b1",
   "metadata": {},
   "outputs": [
    {
     "data": {
      "text/plain": [
       "<All keys matched successfully>"
      ]
     },
     "execution_count": 29,
     "metadata": {},
     "output_type": "execute_result"
    }
   ],
   "source": [
    "siamese_network.load_state_dict(torch.load(model_name))\n"
   ]
  },
  {
   "cell_type": "code",
   "execution_count": null,
   "id": "612f73b7-df72-4391-84f2-1916dbf75d38",
   "metadata": {},
   "outputs": [
    {
     "name": "stderr",
     "output_type": "stream",
     "text": [
      "100%|██████████| 104/104 [00:02<00:00, 48.25it/s]\n"
     ]
    }
   ],
   "source": [
    "siamese_network.to(device).eval()\n",
    "post_train_embed = []\n",
    "post_train_label = []\n",
    "with torch.no_grad():\n",
    "    for item in tqdm(train_dataset):\n",
    "        post_train_embed.append(siamese_network(item['anchor']))\n",
    "        post_train_label.append(item['label'])"
   ]
  },
  {
   "cell_type": "code",
   "execution_count": null,
   "id": "9e658fd0-88ec-4643-b738-5e5d8908c753",
   "metadata": {
    "tags": []
   },
   "outputs": [
    {
     "data": {
      "text/plain": [
       "<matplotlib.collections.PathCollection at 0x78cf001c6710>"
      ]
     },
     "execution_count": 31,
     "metadata": {},
     "output_type": "execute_result"
    },
    {
     "data": {
      "image/png": "[encoded data removed]",
      "text/plain": [
       "<Figure size 640x480 with 1 Axes>"
      ]
     },
     "metadata": {},
     "output_type": "display_data"
    }
   ],
   "source": [
    "%matplotlib inline\n",
    "\n",
    "X = torch.stack(post_train_embed).cpu()\n",
    "X_np = X.numpy()\n",
    "labelsNums = post_train_label\n",
    "X_embedded= TSNE(n_components=2, init='random').fit_transform(X_np)\n",
    "plt.scatter(X_embedded[:, 0], X_embedded[:, 1] , c=labelsNums[:len(X_embedded)], s=10, cmap= cc , alpha=1 )\n"
   ]
  },
  {
   "cell_type": "code",
   "execution_count": null,
   "id": "12bda447-8372-4997-979a-bf702ae2a38a",
   "metadata": {
    "tags": []
   },
   "outputs": [],
   "source": [
    "def clsembed(snippet):\n",
    "    inputs = tokenizer(snippet, padding='max_length', max_length=218, truncation=True, return_tensors='pt').to(device)\n",
    "    #tokens = [self.tokenizer.cls_token] + inputs  + [self.tokenizer.sep_token]\n",
    "    if(len(inputs)<512):\n",
    "        with torch.no_grad():\n",
    "            outs = model_codebert(**inputs)\n",
    "        cls = outs.last_hidden_state[:, 0, :].squeeze().detach()\n",
    "        return cls\n",
    "    else:\n",
    "        print('longtest')\n",
    "        i = 0\n",
    "        part_vector =  []\n",
    "        while ( i < len(inputs)-200) :\n",
    "            #tokens = [self.tokenizer.cls_token] + inputs[i:i+250] +[self.tokenizer.sep_token]\n",
    "            #tokens_ids= self.tokenizer.convert_tokens_to_ids(tokens)\n",
    "            input_seg = [tokenizer.cls_token] + inputs[i:i+250] +[tokenizer.sep_token]\n",
    "            with torch.no_grad():\n",
    "                ots = model_codebert(**input_seg)\n",
    "            cls = ots.last_hidden_state[:, 0, :].squeeze().detach()\n",
    "            #cls = model_codebert(torch.tensor(inputs)[None,:])[1]\n",
    "            #vector = cls[0].detach().numpy()\n",
    "            parts.append(cls)\n",
    "            i = i+100\n",
    "        return parts"
   ]
  },
  {
   "cell_type": "code",
   "execution_count": null,
   "id": "a3f34b1b-1577-4ab2-ad41-8d0314224b7b",
   "metadata": {
    "tags": []
   },
   "outputs": [],
   "source": [
    "import numpy as np\n",
    "from numpy import dot\n",
    "from numpy.linalg import norm\n",
    "#labels_all = ['async wait','unordered collections','concurrency','time']\n",
    "def get_class_rep(post_train_embed, post_train_label):\n",
    "    # Move each tensor to CPU, convert to numpy, and collect in a list\n",
    "    #post_train_embed = [x.cpu().numpy() for x in post_train_embed]\n",
    "    # If you want to combine them into a single array (assuming they have the same shape)\n",
    "    #post_train_embed = np.concatenate(post_train_embed, axis=0)\n",
    "    representatives = [None] * 2\n",
    "    for label in range(2):\n",
    "        indices = np.where(np.atleast_1d(post_train_label) == label)[0]  # Get the indices as an array\n",
    "        class_vectors = [post_train_embed[i] for i in indices]  # Access each index individually\n",
    "        class_vectors = [x.cpu().numpy() for x in class_vectors]\n",
    "        representatives[label] = np.mean(class_vectors, axis=0)\n",
    "    return representatives\n",
    "\n",
    "def calculate_normalized_distance(vec1, vec2):\n",
    "    # Ensure vec1 and vec2 are numpy arrays\n",
    "    if not isinstance(vec1, np.ndarray):\n",
    "        vec1 = vec1.cpu().detach().numpy()\n",
    "    if not isinstance(vec2, np.ndarray):\n",
    "        vec2 = vec2.cpu().detach().numpy()\n",
    "    \n",
    "    # Normalize each vector to have unit length\n",
    "    norm_vec1 = vec1 / np.linalg.norm(vec1)\n",
    "    norm_vec2 = vec2 / np.linalg.norm(vec2)\n",
    "    \n",
    "    # Calculate Euclidean (L2) distance between the normalized vectors\n",
    "    distance = np.linalg.norm(norm_vec1 - norm_vec2)\n",
    "    \n",
    "    return distance\n"
   ]
  },
  {
   "cell_type": "code",
   "execution_count": null,
   "id": "8cb7de38-849a-4fb5-bc68-9b2cbfe269ec",
   "metadata": {
    "tags": []
   },
   "outputs": [],
   "source": [
    "int_to_label={\n",
    "    0: 'ID',\n",
    "    1: 'NDOD',\n",
    "    2: 'NOD',\n",
    "}\n",
    "\n",
    "\n",
    "def get_closest_cluster(cluster_representatives, projected_vector):\n",
    "    distances = [calculate_normalized_distance(rep, projected_vector) for rep in cluster_representatives]\n",
    "    for i in range(len(distances)):\n",
    "        distances[i] = np.mean(distances[i])\n",
    "    closest_cluster_idx = np.argmin(distances)\n",
    "    return int_to_label[closest_cluster_idx]"
   ]
  },
  {
   "cell_type": "code",
   "execution_count": null,
   "id": "1e1fbe07-7b67-4485-976a-8eb8f0691f2e",
   "metadata": {
    "tags": []
   },
   "outputs": [],
   "source": [
    "embed = post_train_embed\n",
    "labels = post_train_label\n",
    "def predict(input_vector):\n",
    "    modified_vector = siamese_network(input_vector)\n",
    "    representatives = get_class_rep(embed, labels)\n",
    "    return get_closest_cluster(representatives, modified_vector)\n",
    "    \n"
   ]
  },
  {
   "cell_type": "code",
   "execution_count": null,
   "id": "769adf53-42ad-40e3-a2c5-3a46039a2ead",
   "metadata": {},
   "outputs": [
    {
     "data": {
      "image/png": "[encoded data removed]",
      "text/plain": [
       "<Figure size 640x480 with 1 Axes>"
      ]
     },
     "metadata": {},
     "output_type": "display_data"
    }
   ],
   "source": [
    "import matplotlib.pyplot as plt\n",
    "from sklearn.manifold import TSNE\n",
    "import torch\n",
    "\n",
    "# Assuming post_train_embed and post_train_label are defined\n",
    "X = torch.stack(post_train_embed).cpu()\n",
    "X_np = X.numpy()\n",
    "labelsNums = post_train_label\n",
    "\n",
    "# Define vibrant colors for each category (same as used in the bar plot)\n",
    "colors = ['skyblue', 'lightgreen', 'salmon', 'gold', 'orchid', 'grey']\n",
    "\n",
    "# Ensure labels are within the range of colors [0, 1, 2, 3, 4]\n",
    "# Filter out invalid labels (-1) and keep only valid labels [0, 1, 2, 3, 4]\n",
    "valid_indices = [i for i, label in enumerate(labelsNums) if label in [0, 1]\n",
    "X_np_filtered = X_np[valid_indices]\n",
    "labelsNums_filtered = [labelsNums[i] for i in valid_indices]\n",
    "\n",
    "# Dimensionality reduction with t-SNE\n",
    "X_embedded = TSNE(n_components=2, init='random').fit_transform(X_np_filtered)\n",
    "\n",
    "# Scatter plot\n",
    "for i, label in enumerate(labelsNums_filtered):\n",
    "    plt.scatter(X_embedded[i, 0], X_embedded[i, 1], color=colors[label], s=10, alpha=1, edgecolor='none', marker='o')\n",
    "\n",
    "# Create legend with category labels\n",
    "legend_labels = ['order-dependent (OD)', 'non-idempotent-outcome (NIO)', 'implementation-dependent (ID)', 'non-deterministic order- dependent (NDOD)', 'non-order-dependent (NOD)', 'unknown dependency (UD)']\n",
    "plt.legend(handles=[plt.Line2D([0], [0], marker='o', color='w', markerfacecolor=color, markersize=10) for color in colors], labels=legend_labels,bbox_to_anchor=(1.05, 1), \n",
    "                    loc='upper left')\n",
    "\n",
    "plt.show()\n"
   ]
  },
  {
   "cell_type": "code",
   "execution_count": null,
   "id": "dc3b222a-9cdb-4de4-aff7-49ae9d357e5e",
   "metadata": {
    "tags": []
   },
   "outputs": [
    {
     "data": {
      "image/png": "[encoded data removed]",
      "text/plain": [
       "<Figure size 640x480 with 1 Axes>"
      ]
     },
     "metadata": {},
     "output_type": "display_data"
    }
   ],
   "source": [
    "import matplotlib.pyplot as plt\n",
    "import numpy as np\n",
    "from sklearn.manifold import TSNE\n",
    "import torch\n",
    "\n",
    "# Assuming post_train_embed, post_train_label, and labelsNums are defined\n",
    "X = torch.stack(post_train_embed).cpu()\n",
    "X_np = X.numpy()\n",
    "X_embedded = TSNE(n_components=2, init='random').fit_transform(X_np)\n",
    "\n",
    "# Plot the data points\n",
    "scatter = plt.scatter(X_embedded[:, 0], X_embedded[:, 1], c=labelsNums[:len(X_embedded)], s=10, cmap='viridis', alpha=0.6)\n",
    "\n",
    "# Calculate class representatives\n",
    "representatives = get_class_rep(post_train_embed, post_train_label)  # Make sure this function returns what you expect\n",
    "\n",
    "# Get unique labels and their colors from the scatter plot\n",
    "unique_labels = np.unique(labelsNums[:len(X_embedded)])\n",
    "legend1 = plt.legend(*scatter.legend_elements(), title=\"Classes\")\n",
    "plt.gca().add_artist(legend1)\n",
    "\n",
    "# For each class representative, find the closest point and plot it\n",
    "for i, rep in enumerate(representatives):\n",
    "    if rep is not None:\n",
    "        # Find the closest data point in the original space to this representative\n",
    "        distances = np.linalg.norm(X_np - rep, axis=1)\n",
    "        closest_point_index = np.argmin(distances)\n",
    "        # Use the label of the closest data point to get the correct color\n",
    "        label_of_closest = labelsNums[closest_point_index]\n",
    "        color = scatter.cmap(scatter.norm(label_of_closest))\n",
    "        plt.scatter(X_embedded[closest_point_index, 0], X_embedded[closest_point_index, 1], color=color, edgecolors='red', s=100, marker='X')\n",
    "\n",
    "# You might want to adjust the legend to make sure it correctly represents your data\n",
    "# plt.legend()\n",
    "plt.show()\n"
   ]
  },
  {
   "cell_type": "code",
   "execution_count": null,
   "id": "e68d86a1-f3e7-410b-9eb4-dcc73045fd03",
   "metadata": {},
   "outputs": [],
   "source": [
    "# from sklearn.metrics import silhouette_score, davies_bouldin_score, calinski_harabasz_score\n",
    "\n",
    "# # Assuming 'X_embedded' is your t-SNE result and 'labelsNums' are your labels\n",
    "\n",
    "# # Silhouette Score:\n",
    "# # - Measures how similar an object is to its own cluster compared to other clusters.\n",
    "# # - Range: -1 (incorrect clustering) to 1 (highly dense clustering). \n",
    "# #   A score close to 1 means that the clusters are well separated and clearly defined.\n",
    "# silhouette_avg = silhouette_score(X_embedded, labelsNums[:len(X_embedded)])\n",
    "# print(f\"Silhouette Score: {silhouette_avg}\")\n",
    "\n",
    "# # Davies-Bouldin Index:\n",
    "# # - Evaluates the clustering quality by measuring the average 'similarity' between each cluster \n",
    "# #   and its most similar one. The similarity is based on a ratio of within-cluster distances to between-cluster distances.\n",
    "# # - Range: 0 to +∞. Lower scores indicate better clustering quality.\n",
    "# davies_bouldin = davies_bouldin_score(X_embedded, labelsNums[:len(X_embedded)])\n",
    "# print(f\"Davies-Bouldin Index: {davies_bouldin}\")\n",
    "\n",
    "# # Calinski-Harabasz Index:\n",
    "# # - Measures the cluster validity based on the ratio between the within-cluster dispersion and the between-cluster dispersion.\n",
    "# # - Range: Higher values indicate better clustering quality, with no upper limit. Low values indicate clusters with high overlap.\n",
    "# calinski_harabasz = calinski_harabasz_score(X_embedded, labelsNums[:len(X_embedded)])\n",
    "# print(f\"Calinski-Harabasz Index: {calinski_harabasz}\")\n"
   ]
  },
  {
   "cell_type": "code",
   "execution_count": null,
   "id": "f6bb278b-9a32-458a-ad5d-e1029f424957",
   "metadata": {},
   "outputs": [
    {
     "name": "stdout",
     "output_type": "stream",
     "text": [
      "1 Predicted: 2 True: 2\n",
      "2 Predicted: 2 True: 2\n",
      "3 Predicted: 1 True: 2\n",
      "4 Predicted: 2 True: 2\n",
      "5 Predicted: 2 True: 2\n",
      "6 Predicted: 1 True: 1\n",
      "7 Predicted: 2 True: 2\n",
      "8 Predicted: 2 True: 2\n",
      "9 Predicted: 2 True: 2\n",
      "10 Predicted: 2 True: 2\n",
      "11 Predicted: 2 True: 2\n",
      "12 Predicted: 2 True: 2\n",
      "13 Predicted: 2 True: 2\n",
      "14 Predicted: 2 True: 2\n",
      "15 Predicted: 2 True: 2\n",
      "16 Predicted: 2 True: 2\n",
      "17 Predicted: 2 True: 2\n",
      "18 Predicted: 2 True: 2\n",
      "19 Predicted: 2 True: 2\n",
      "20 Predicted: 2 True: 2\n",
      "21 Predicted: 2 True: 2\n",
      "22 Predicted: 2 True: 2\n",
      "23 Predicted: 1 True: 1\n"
     ]
    },
    {
     "name": "stdout",
     "output_type": "stream",
     "text": [
      "24 Predicted: 2 True: 2\n",
      "25 Predicted: 2 True: 2\n",
      "26 Predicted: 2 True: 2\n",
      "27 Predicted: 2 True: 2\n",
      "Loop completed\n",
      "F1 Score: 0.9662887377173092\n"
     ]
    }
   ],
   "source": [
    "from sklearn.metrics import f1_score\n",
    " # Create reverse mapping\n",
    "\n",
    "count = 0\n",
    "\n",
    "# Assuming val_dataset is iterable and has 'anchor' and 'label' keys\n",
    "predicted_labels = []\n",
    "true_labels = []\n",
    "\n",
    "for item in val_dataset:\n",
    "    count += 1\n",
    "    input_vector = item['anchor']  # Your input vector for prediction\n",
    "    \n",
    "    # Get predicted cluster/label\n",
    "    predicted_label_str = predict(input_vector)\n",
    "    \n",
    "    # Ensure predicted_label is in the valid range\n",
    "    if predicted_label_str in label_to_int:\n",
    "        predicted_label = label_to_int[predicted_label_str]\n",
    "        predicted_labels.append(predicted_label)\n",
    "    else:\n",
    "        print(f\"Warning: Encountered unknown predicted label {predicted_label_str}\")\n",
    "        continue\n",
    "\n",
    "    # True label\n",
    "    true_label_int = int(item['label'])  # Assuming 'label' contains the true label as integer\n",
    "    if true_label_int in int_to_label:\n",
    "        true_labels.append(true_label_int)\n",
    "    else:\n",
    "        print(f\"Warning: Encountered unknown true label {true_label_int}\")\n",
    "        continue\n",
    "\n",
    "    print(count, \"Predicted:\", predicted_label, \"True:\", true_label_int)\n",
    "\n",
    "# Filter out any invalid entries where predicted or true labels are missing\n",
    "valid_indices = [i for i in range(len(true_labels)) if true_labels[i] in int_to_label and predicted_labels[i] in int_to_label]\n",
    "filtered_true_labels = [true_labels[i] for i in valid_indices]\n",
    "filtered_predicted_labels = [predicted_labels[i] for i in valid_indices]\n",
    "\n",
    "print(\"Loop completed\")\n",
    "\n",
    "# Calculate F1 Score, ignoring unknown labels\n",
    "f1 = f1_score(filtered_true_labels, filtered_predicted_labels, average='weighted', zero_division=0)  # Adjust 'average' as necessary\n",
    "print(f\"F1 Score: {f1}\")\n"
   ]
  },
  {
   "cell_type": "code",
   "execution_count": null,
   "id": "e77c254a-151d-407c-ae6e-9ae13b457340",
   "metadata": {
    "tags": []
   },
   "outputs": [
    {
     "name": "stdout",
     "output_type": "stream",
     "text": [
      "              precision    recall  f1-score   support\n",
      "\n",
      "           1       0.67      1.00      0.80         2\n",
      "           2       1.00      0.96      0.98        25\n",
      "\n",
      "    accuracy                           0.96        27\n",
      "   macro avg       0.83      0.98      0.89        27\n",
      "weighted avg       0.98      0.96      0.97        27\n",
      "\n",
      "\n",
      " - Accuracy :  0.96\n",
      " - Precision :  0.98\n",
      " - Recall :  0.96\n",
      " - F1 score :  0.97\n",
      " - MCC :  0.8\n",
      " - AUC :  0.98\n",
      "\n",
      "\n",
      "Performances by categories\n",
      "\n"
     ]
    },
    {
     "data": {
      "image/png": "[encoded data removed]",
      "text/plain": [
       "<Figure size 640x480 with 1 Axes>"
      ]
     },
     "metadata": {},
     "output_type": "display_data"
    },
    {
     "name": "stdout",
     "output_type": "stream",
     "text": [
      "\n",
      "\n",
      "Confusion Matrix \n"
     ]
    },
    {
     "data": {
      "text/plain": [
       "<AxesSubplot:>"
      ]
     },
     "execution_count": 40,
     "metadata": {},
     "output_type": "execute_result"
    },
    {
     "data": {
      "image/png": "[encoded data removed]",
      "text/plain": [
       "<Figure size 1000x800 with 2 Axes>"
      ]
     },
     "metadata": {},
     "output_type": "display_data"
    }
   ],
   "source": [
    "import warnings\n",
    "import matplotlib.pyplot as plt\n",
    "import numpy as np\n",
    "import pandas as pd\n",
    "import seaborn as sn\n",
    "from sklearn import metrics\n",
    "from sklearn.preprocessing import LabelBinarizer\n",
    "from sklearn.metrics import roc_auc_score, classification_report, confusion_matrix\n",
    "\n",
    "%matplotlib inline\n",
    "warnings.filterwarnings(\"ignore\")\n",
    "\n",
    "def multiclass_roc_auc_score(truth, pred, average=\"weighted\"):\n",
    "    lb = LabelBinarizer()\n",
    "    lb.fit(truth)\n",
    "    truth = lb.transform(truth)\n",
    "    pred = lb.transform(pred)\n",
    "    return roc_auc_score(truth, pred, average=average)\n",
    "\n",
    "# Assuming predicted_labels and true_labels are already defined\n",
    "predicted = predicted_labels\n",
    "labels = true_labels\n",
    "\n",
    "# Filter out 'unknown' labels\n",
    "valid_indices = [i for i, label in enumerate(labels) if label != 'unknown']\n",
    "filtered_labels = [labels[i] for i in valid_indices]\n",
    "filtered_predicted = [predicted[i] for i in valid_indices]\n",
    "\n",
    "unique_labels = list(set(filtered_labels))\n",
    "print(classification_report(filtered_labels, filtered_predicted))\n",
    "\n",
    "print('\\n - Accuracy : ', np.round(metrics.accuracy_score(filtered_labels, filtered_predicted), 2))\n",
    "print(' - Precision : ', np.round(metrics.precision_score(filtered_labels, filtered_predicted, average='weighted'), 2))\n",
    "print(' - Recall : ', np.round(metrics.recall_score(filtered_labels, filtered_predicted, average='weighted'), 2))\n",
    "print(' - F1 score : ', np.round(metrics.f1_score(filtered_labels, filtered_predicted, average='weighted'), 2))\n",
    "print(' - MCC : ', np.round(metrics.matthews_corrcoef(filtered_labels, filtered_predicted), 2))\n",
    "print(' - AUC : ', np.round(multiclass_roc_auc_score(filtered_labels, filtered_predicted), 2))\n",
    "\n",
    "print(\"\\n\\nPerformances by categories\\n\")\n",
    "\n",
    "ind = np.arange(len(unique_labels)) \n",
    "width = 0.35\n",
    "fig, ax = plt.subplots()\n",
    "precision = metrics.precision_recall_fscore_support(filtered_labels, filtered_predicted, labels=unique_labels)[0]\n",
    "recall = metrics.precision_recall_fscore_support(filtered_labels, filtered_predicted, labels=unique_labels)[1]\n",
    "ax.barh(ind - width/2, precision, width, label='Precision')\n",
    "ax.barh(ind + width/2, recall, width, label='Recall')\n",
    "ax.set(yticks=ind, yticklabels=np.array(unique_labels), ylim=[2*width - 1, len(ind)])\n",
    "plt.xlim(0, 1)\n",
    "ax.legend(loc='lower left')\n",
    "ax.set_ylabel(\"Performances\")\n",
    "ax.set_xlabel(\"Categories\")\n",
    "plt.show()\n",
    "\n",
    "print(\"\\n\\nConfusion Matrix \")\n",
    "\n",
    "mat = confusion_matrix(filtered_labels, filtered_predicted, labels=unique_labels)\n",
    "df_cm = pd.DataFrame(mat, index=[i for i in unique_labels], columns=[i for i in unique_labels])\n",
    "plt.figure(figsize=(10, 8))\n",
    "sn.heatmap(df_cm / np.sum(df_cm), annot=True, fmt='.3%', cmap='Blues')\n"
   ]
  },
  {
   "cell_type": "code",
   "execution_count": null,
   "metadata": {},
   "outputs": [
    {
     "data": {
      "image/png": "[encoded data removed]",
      "text/plain": [
       "<Figure size 640x480 with 1 Axes>"
      ]
     },
     "metadata": {},
     "output_type": "display_data"
    }
   ],
   "source": [
    "import matplotlib.pyplot as plt\n",
    "from sklearn.metrics import f1_score\n",
    "shortened_labels = {\n",
    "    'OD': 'OD',\n",
    "    'NIO': 'NIO',\n",
    "    'ID': 'ID',\n",
    "    'NDOD': 'NDOD',\n",
    "    'NOD': 'NOD',\n",
    "    'UD': 'UD'\n",
    "}\n",
    "# Assuming you have the predicted and true labels as per your previous code\n",
    "# predicted_labels and true_labels should be lists of labels\n",
    "# Filter out invalid labels from both true and predicted labels\n",
    "valid_indices = [i for i in range(len(true_labels)) if true_labels[i] in int_to_label.keys() and predicted_labels[i] in int_to_label.keys()]\n",
    "filtered_true_labels = [true_labels[i] for i in valid_indices]\n",
    "filtered_predicted_labels = [predicted_labels[i] for i in valid_indices]\n",
    "\n",
    "# Calculate F1 scores for each category\n",
    "f1_scores = []\n",
    "categories = list(int_to_label.keys())\n",
    "for category in categories:\n",
    "    true_bin = [1 if label == category else 0 for label in filtered_true_labels]\n",
    "    pred_bin = [1 if label == category else 0 for label in filtered_predicted_labels]\n",
    "    f1 = f1_score(true_bin, pred_bin, zero_division=0)\n",
    "    f1_scores.append(f1)\n",
    "\n",
    "# Define vibrant colors for each category\n",
    "colors = ['skyblue', 'lightgreen', 'salmon', 'gold', 'orchid', 'grey']\n",
    "\n",
    "# Create bar plot with shortened category names and vibrant colors\n",
    "shortened_categories = [shortened_labels[int_to_label[category]] for category in categories]\n",
    "fig, ax = plt.subplots()\n",
    "bars = ax.bar(shortened_categories, f1_scores, color=colors)\n",
    "\n",
    "# Add F1 scores on top of each bar\n",
    "for bar in bars:\n",
    "    height = bar.get_height()\n",
    "    ax.annotate(f'{height:.2f}', xy=(bar.get_x() + bar.get_width() / 2, height),\n",
    "                xytext=(0, 0),  \n",
    "                textcoords=\"offset points\", ha='center', va='bottom')\n",
    "\n",
    "# Customize the plot\n",
    "ax.set_xlabel('Categories')\n",
    "ax.set_ylabel('F1 Score')\n",
    "ax.set_title('F1 Scores by Category')\n",
    "\n",
    "# Display the plot\n",
    "plt.xticks(rotation=0)\n",
    "plt.tight_layout()\n",
    "plt.show()\n"
   ]
  },
  {
   "cell_type": "code",
   "execution_count": null,
   "metadata": {},
   "outputs": [],
   "source": []
  },
  {
   "cell_type": "code",
   "execution_count": null,
   "id": "ccfdbdb6-f97c-4d63-a64f-48e3f5a76ab2",
   "metadata": {
    "tags": []
   },
   "outputs": [],
   "source": [
    "# file_path = 'test_data_predictions.csv'\n",
    "\n",
    "# # Load the compressed CSV file into a DataFrame\n",
    "# df = pd.read_csv(file_path)\n",
    "\n",
    "# # Extract the 'TrueLabel' and 'PredictedLabel' columns into separate variables\n",
    "# labels_flaky = df['TrueLabel'].tolist()\n",
    "# predicted_flaky = df['PredictedLabel'].tolist()\n",
    "\n",
    "# print (classification_report(labels, predicted))\n",
    "\n",
    "# print('\\n - Accuracy : ' , np.round( metrics.accuracy_score(labels_flaky,  predicted_flaky) , 2))\n",
    "# print(' - Precision : ' , np.round( metrics.precision_score(labels_flaky,  predicted_flaky , average='weighted') , 2))\n",
    "# print(' - Recall : ' , np.round( metrics.recall_score(labels_flaky,  predicted_flaky , average='weighted') , 2))\n",
    "# print(' - F1 score : ' , np.round( metrics.f1_score(labels_flaky,  predicted_flaky , average='weighted') , 2))\n",
    "# print(' - MCC : ' , np.round( metrics.matthews_corrcoef(labels_flaky,  predicted_flaky) , 2))\n",
    "# print(' - AUC : ' , np.round( multiclass_roc_auc_score(labels_flaky,  predicted_flaky),2) )\n",
    "\n",
    "# print(\"\\n\\nPerfomnaces by categories\\n\")\n",
    "\n",
    "\n",
    "# ind = np.arange(len(unique_labels)) \n",
    "# width = 0.35\n",
    "# fig, ax = plt.subplots()\n",
    "# precision = metrics.precision_recall_fscore_support(labels_flaky,  predicted_flaky ,  labels=unique_labels )[0]\n",
    "# recall = metrics.precision_recall_fscore_support(labels_flaky,  predicted_flaky ,  labels=unique_labels )[1]\n",
    "# ax.barh(ind - width/2, precision, width, label='Precision')\n",
    "# ax.barh(ind + width/2, recall, width, label='Recall')\n",
    "# ax.set(yticks=ind + width, yticklabels=np.array(unique_labels),\n",
    "# ylim=[2*width - 1, len(ind)])\n",
    "# plt.xlim(0,1)\n",
    "# ax.legend(loc='upper right')\n",
    "# ax.set_xlabel(\"Performances\")\n",
    "# ax.set_ylabel(\"Categories\")\n",
    "# plt.show()\n",
    "\n",
    "# print(\"\\n\\nConfusion Matrix \")\n",
    "\n",
    "# mat = confusion_matrix(labels_flaky,  predicted_flaky, labels=unique_labels)\n",
    "# df_cm = pd.DataFrame(mat, index = [i for i in unique_labels], columns = [i for i in unique_labels])\n",
    "# plt.figure(figsize = (10,8))\n",
    "# sn.heatmap(df_cm/np.sum(df_cm), annot=True, fmt='.3%', cmap='Blues')"
   ]
  },
  {
   "cell_type": "code",
   "execution_count": null,
   "id": "c5ebf722-fc1a-4768-b4fa-9d998c33542b",
   "metadata": {
    "tags": []
   },
   "outputs": [],
   "source": [
    "# import matplotlib.pyplot as plt\n",
    "# import numpy as np\n",
    "# from sklearn import metrics\n",
    "\n",
    "# precision_our_model = metrics.precision_recall_fscore_support(labels, predicted, labels=unique_labels)[0]\n",
    "# recall_our_model = metrics.precision_recall_fscore_support(labels, predicted, labels=unique_labels)[1]\n",
    "# # And assuming 'unique_labels' is defined as before\n",
    "\n",
    "# ind = np.arange(len(unique_labels))  # the x locations for the groups\n",
    "# width = 0.2  # the width of the bars\n",
    "\n",
    "# fig, ax = plt.subplots(figsize=(14, 10))  # Adjust the figure size as needed\n",
    "\n",
    "# # Using a set of contrasting, darker colors\n",
    "# colors = ['blue', 'green', 'red', 'orange']\n",
    "\n",
    "# # Plotting Precision and Recall for Your Model\n",
    "# rects1 = ax.bar(ind - width*1.5, precision_our_model, width, label='Our Precision', color=colors[0])\n",
    "# rects2 = ax.bar(ind - width/2, recall_our_model, width, label='Our Recall', color=colors[1])\n",
    "\n",
    "# # Plotting Precision and Recall for Flaky Model\n",
    "# rects3 = ax.bar(ind + width/2, precision_flaky, width, label='FlakyCat Precision', color=colors[2])\n",
    "# rects4 = ax.bar(ind + width*1.5, recall_flaky, width, label='FlakyCat Recall', color=colors[3])\n",
    "\n",
    "# # Add some text for labels, title, and custom x-axis tick labels, etc.\n",
    "# ax.set_ylabel('Scores')\n",
    "# ax.set_title('Class-wise Precision and Recall for Our Model vs. FlakyCat Model')\n",
    "# ax.set_xticks(ind)\n",
    "# ax.set_xticklabels(unique_labels, rotation=45, ha=\"right\")  # Rotate for better label visibility\n",
    "# ax.legend(loc='upper left', bbox_to_anchor=(1, 1))  # Place the legend outside the figure\n",
    "\n",
    "# # Optional: Adding scores above bars\n",
    "# ax.bar_label(rects1, padding=3, fmt='%.2f')\n",
    "# ax.bar_label(rects2, padding=3, fmt='%.2f')\n",
    "# ax.bar_label(rects3, padding=3, fmt='%.2f')\n",
    "# ax.bar_label(rects4, padding=3, fmt='%.2f')\n",
    "\n",
    "# fig.tight_layout(rect=[0, 0, 0.85, 1])  # Adjust the rect to make space for the legend outside\n",
    "\n",
    "# plt.show()\n"
   ]
  },
  {
   "cell_type": "code",
   "execution_count": null,
   "id": "9f921c81-ca68-4042-b8d3-9977de72766b",
   "metadata": {
    "tags": []
   },
   "outputs": [],
   "source": [
    "# import matplotlib.pyplot as plt\n",
    "# import numpy as np\n",
    "\n",
    "# # Assuming metrics have been calculated and stored in variables for both models.\n",
    "# # Example metric variables: accuracy, precision, recall, f1_score, mcc, auc for the original model\n",
    "# # And similarly named variables with a '_flaky' suffix for the comparison model.\n",
    "\n",
    "# metrics_labels = ['Accuracy', 'Precision', 'Recall', 'F1 Score', 'MCC', 'AUC']\n",
    "# your_model_metrics = [\n",
    "#     np.round(metrics.accuracy_score(labels, predicted), 2),\n",
    "#     np.round(metrics.precision_score(labels, predicted, average='weighted'), 2),\n",
    "#     np.round(metrics.recall_score(labels, predicted, average='weighted'), 2),\n",
    "#     np.round(metrics.f1_score(labels, predicted, average='weighted'), 2),\n",
    "#     np.round(metrics.matthews_corrcoef(labels, predicted), 2),\n",
    "#     np.round(multiclass_roc_auc_score(labels, predicted), 2)\n",
    "# ]\n",
    "\n",
    "# flaky_model_metrics = [\n",
    "#     np.round(metrics.accuracy_score(labels_flaky, predicted_flaky), 2),\n",
    "#     np.round(metrics.precision_score(labels_flaky, predicted_flaky, average='weighted'), 2),\n",
    "#     np.round(metrics.recall_score(labels_flaky, predicted_flaky, average='weighted'), 2),\n",
    "#     np.round(metrics.f1_score(labels_flaky, predicted_flaky, average='weighted'), 2),\n",
    "#     np.round(metrics.matthews_corrcoef(labels_flaky, predicted_flaky), 2),\n",
    "#     np.round(multiclass_roc_auc_score(labels_flaky, predicted_flaky), 2)\n",
    "# ]\n",
    "\n",
    "# x = np.arange(len(metrics_labels))  # the label locations\n",
    "# width = 0.35  # the width of the bars\n",
    "\n",
    "# fig, ax = plt.subplots()\n",
    "# rects1 = ax.bar(x - width/2, your_model_metrics, width, label='Our Model')\n",
    "# rects2 = ax.bar(x + width/2, flaky_model_metrics, width, label='FlakyCat Model')\n",
    "\n",
    "# # Add some text for labels, title and custom x-axis tick labels, etc.\n",
    "# ax.set_ylabel('Scores')\n",
    "# ax.set_title('Metrics Comparison between Our Model and FlakyCat Model')\n",
    "# ax.set_xticks(x)\n",
    "# ax.set_xticklabels(metrics_labels)\n",
    "# ax.legend()\n",
    "\n",
    "# ax.bar_label(rects1, padding=3)\n",
    "# ax.bar_label(rects2, padding=3)\n",
    "\n",
    "# fig.tight_layout()\n",
    "\n",
    "# plt.show()\n"
   ]
  },
  {
   "cell_type": "code",
   "execution_count": null,
   "metadata": {},
   "outputs": [],
   "source": [
    "# from sklearn.ensemble import RandomForestClassifier\n",
    "# from sklearn.svm import SVC\n",
    "# from sklearn.metrics import accuracy_score\n",
    "# def extract_projections(siamese_network, dataloader):\n",
    "#     projections = []\n",
    "#     labels = []\n",
    "#     for batch in dataloader:\n",
    "#         label = batch[\"label\"]\n",
    "#         anchor = batch[\"anchor\"]\n",
    "#         projection = siamese_network(anchor)\n",
    "        \n",
    "#         projections.append(projection.cpu().detach().numpy())\n",
    "#         labels.append(label.numpy())\n",
    "#     projections = np.vstack(projections)\n",
    "#     labels = np.hstack(labels)\n",
    "#     return projections, labels"
   ]
  },
  {
   "cell_type": "code",
   "execution_count": null,
   "metadata": {},
   "outputs": [],
   "source": [
    "# projections, labels = extract_projections(siamese_network, train_dataloader)\n",
    "# val_projections, val_labels = extract_projections(siamese_network, val_dataloader)"
   ]
  },
  {
   "cell_type": "code",
   "execution_count": null,
   "metadata": {},
   "outputs": [],
   "source": [
    "# print(len(projections), len(train_dataloader))"
   ]
  },
  {
   "cell_type": "code",
   "execution_count": null,
   "metadata": {},
   "outputs": [],
   "source": [
    "# rf_classifier = RandomForestClassifier(n_estimators=100, random_state=42)\n",
    "# rf_classifier.fit(projections, labels)\n",
    "\n",
    "# # Train SVM Classifier\n",
    "# svm_classifier = SVC(kernel='linear', random_state=42)\n",
    "# svm_classifier.fit(projections, labels)"
   ]
  },
  {
   "cell_type": "code",
   "execution_count": null,
   "metadata": {},
   "outputs": [],
   "source": [
    "# # Evaluate Random Forest Classifier\n",
    "# rf_predictions = rf_classifier.predict(val_projections)\n",
    "# rf_accuracy = accuracy_score(val_labels, rf_predictions)\n",
    "# rf_f1 = f1_score(val_labels, rf_predictions, average='weighted')\n",
    "# print(f\"Random Forest Classifier Accuracy: {rf_accuracy}, F1: {rf_f1}\")\n",
    "\n",
    "# # Evaluate SVM Classifier\n",
    "# svm_predictions = svm_classifier.predict(val_projections)\n",
    "# svm_accuracy = accuracy_score(val_labels, svm_predictions)\n",
    "# svm_f1 = f1_score(val_labels, svm_predictions, average='weighted')\n",
    "# print(f\"SVM Classifier Accuracy: {svm_accuracy}, F1:{svm_f1}\")"
   ]
  },
  {
   "cell_type": "code",
   "execution_count": null,
   "metadata": {},
   "outputs": [],
   "source": []
  }
 ],
 "metadata": {
  "kernelspec": {
   "display_name": "sdp_venv",
   "language": "python",
   "name": "sdp_venv"
  },
  "language_info": {
   "codemirror_mode": {
    "name": "ipython",
    "version": 3
   },
   "file_extension": ".py",
   "mimetype": "text/x-python",
   "name": "python",
   "nbconvert_exporter": "python",
   "pygments_lexer": "ipython3",
   "version": "3.10.12"
  }
 },
 "nbformat": 4,
 "nbformat_minor": 5
}

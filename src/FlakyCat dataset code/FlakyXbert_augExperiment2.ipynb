{
 "cells": [
  {
   "cell_type": "code",
   "execution_count": 2,
   "id": "574a9f90-818c-46c6-a98c-4c75e556ca55",
   "metadata": {
    "tags": []
   },
   "outputs": [],
   "source": [
    "# import trax\n",
    "# from trax import layers as tl\n",
    "# import trax.fastmath.numpy as fastnp\n",
    "# from trax.supervised import training\n",
    "from functools import partial\n",
    "import numpy as np\n",
    "from itertools import combinations\n",
    "import random as rnd\n",
    "from random import sample\n",
    "import json\n",
    "import sklearn.metrics as metrics\n",
    "from sklearn.metrics import classification_report , confusion_matrix, roc_auc_score, confusion_matrix\n",
    "from sklearn.manifold import TSNE\n",
    "from sklearn.preprocessing import LabelBinarizer\n",
    "import matplotlib.pyplot as plt\n",
    "import seaborn as sn\n",
    "import pandas as pd\n",
    "import copy\n",
    "import torch\n",
    "import os\n",
    "import warnings\n",
    "from scipy.spatial import distance\n",
    "from os import walk\n",
    "from transformers import AutoTokenizer, AutoModel\n",
    "device = torch.device(\"cuda\" if torch.cuda.is_available() else \"cpu\")\n",
    "#initialize codebert\n",
    "tokenizer = AutoTokenizer.from_pretrained(\"microsoft/codebert-base\")\n",
    "model_codebert = AutoModel.from_pretrained(\"microsoft/codebert-base\").to(device)\n",
    "np.random.seed(123456)"
   ]
  },
  {
   "cell_type": "code",
   "execution_count": 3,
   "metadata": {},
   "outputs": [],
   "source": [
    "# import trax\n",
    "# from trax import layers as tl\n",
    "# import trax.fastmath.numpy as fastnp\n",
    "# from trax.supervised import training\n",
    "from functools import partial\n",
    "import numpy as np\n",
    "from itertools import combinations\n",
    "import random as rnd\n",
    "from random import sample\n",
    "import json\n",
    "import sklearn.metrics as metrics\n",
    "from sklearn.metrics import classification_report , confusion_matrix, roc_auc_score, confusion_matrix\n",
    "from sklearn.manifold import TSNE\n",
    "from sklearn.preprocessing import LabelBinarizer\n",
    "import matplotlib.pyplot as plt\n",
    "import seaborn as sn\n",
    "import pandas as pd\n",
    "import copy\n",
    "import torch\n",
    "import os\n",
    "import warnings\n",
    "from scipy.spatial import distance\n",
    "from os import walk\n",
    "from transformers import AutoTokenizer, AutoModel\n",
    "device = torch.device(\"cuda\" if torch.cuda.is_available() else \"cpu\")\n",
    "#initialize codebert\n",
    "tokenizer = AutoTokenizer.from_pretrained(\"microsoft/codebert-base\")\n",
    "model_codebert = AutoModel.from_pretrained(\"microsoft/codebert-base\").to(device)\n",
    "np.random.seed(123456)"
   ]
  },
  {
   "cell_type": "code",
   "execution_count": 4,
   "id": "ba519fdf-c698-498d-893c-53d864148bde",
   "metadata": {
    "tags": []
   },
   "outputs": [],
   "source": [
    "import torch\n",
    "import torch.nn as nn\n",
    "import torch.optim as optim\n",
    "from torch.utils.data import DataLoader, Dataset\n",
    "from sklearn.model_selection import train_test_split\n",
    "\n",
    "from transformers import AutoTokenizer, AutoModel\n",
    "from sklearn.model_selection import train_test_split\n",
    "from os import walk\n",
    "\n",
    "from transformers import AutoModelForCausalLM\n",
    "device = torch.device(\"cuda\" if torch.cuda.is_available() else \"cpu\")"
   ]
  },
  {
   "cell_type": "code",
   "execution_count": 5,
   "id": "9d1ce577-e164-455f-a525-1768f3801bc4",
   "metadata": {},
   "outputs": [
    {
     "name": "stdout",
     "output_type": "stream",
     "text": [
      "\n",
      "==> All data : \n",
      "\n",
      "test order dependency 291\n",
      "randomness 50\n",
      "time 122\n",
      "network 93\n",
      "platform dependency 6\n",
      "resource leak 28\n",
      "async wait 376\n",
      "test case timeout 42\n",
      "concurrency 144\n",
      "unordered collections 153\n",
      "floating point operations 9\n",
      "too restrictive range 9\n",
      "i_o 6\n"
     ]
    }
   ],
   "source": [
    "v0_data_dir = '../data/test_files_v0'\n",
    "v12_data_dir = '../data/test_files_v12'\n",
    "\n",
    "\n",
    "# Replace the path with your own. \n",
    "filenames_v0 = next(walk(v0_data_dir), (None, None, []))[2] \n",
    "filenames_v12 = next(walk(v12_data_dir), (None, None, []))[2] \n",
    "\n",
    "\n",
    "categories =  {}\n",
    "for file in filenames_v0:\n",
    "    label = (file.split(\"@\")[1]).split('.')[0].strip().lower() \n",
    "    if label not in categories.keys() : \n",
    "        categories[label] = 0\n",
    "    categories[label] += 1 \n",
    "\n",
    "for file in filenames_v12:\n",
    "    label = (file.split(\"@\")[1]).split('.')[0].strip().lower() \n",
    "    if label not in categories.keys() : \n",
    "        categories[label] = 0\n",
    "    categories[label] += 1   \n",
    "    \n",
    "print(\"\\n==> All data : \\n\")\n",
    "for x , y in categories.items() :\n",
    "    print(x , y)\n",
    "\n"
   ]
  },
  {
   "cell_type": "code",
   "execution_count": 6,
   "metadata": {},
   "outputs": [
    {
     "name": "stdout",
     "output_type": "stream",
     "text": [
      "Category-wise file counts in Training Set:\n",
      "async wait: total=99, v0=98, v1=0, v2=1\n",
      "test order dependency: total=79, v0=79, v1=0, v2=0\n",
      "unordered collections: total=44, v0=44, v1=0, v2=0\n",
      "time: total=34, v0=34, v1=0, v2=0\n",
      "concurrency: total=39, v0=39, v1=0, v2=0\n",
      "\n",
      "Category-wise file counts in Testing Set:\n",
      "test order dependency: total=24, v0=24, v1=0, v2=0\n",
      "unordered collections: total=7, v0=7, v1=0, v2=0\n",
      "time: total=8, v0=8, v1=0, v2=0\n",
      "async wait: total=26, v0=26, v1=0, v2=0\n",
      "concurrency: total=9, v0=9, v1=0, v2=0\n",
      "\n",
      "Category-wise file counts in Testing2 Set:\n",
      "test order dependency: total=188, v0=0, v1=94, v2=94\n",
      "time: total=80, v0=0, v1=40, v2=40\n",
      "async wait: total=251, v0=0, v1=124, v2=127\n",
      "concurrency: total=96, v0=0, v1=48, v2=48\n",
      "unordered collections: total=102, v0=0, v1=51, v2=51\n",
      "\n"
     ]
    }
   ],
   "source": [
    "from sklearn.model_selection import train_test_split\n",
    "import os\n",
    "from collections import defaultdict\n",
    "\n",
    "# Assuming these are the directories where the files are located\n",
    "dir_v0 = '../data/test_files_v0'\n",
    "dir_v12 = '../data/test_files_v12'\n",
    "\n",
    "filenames_v0 = os.listdir(dir_v0)  # Adjust the path as needed\n",
    "filenames_v12 = os.listdir(dir_v12)  # Adjust the path as needed\n",
    "\n",
    "# Helper function to normalize labels\n",
    "def normalize_label(label):\n",
    "    return label.strip().lower()\n",
    "\n",
    "# Dictionary for the categories of interest\n",
    "label_to_int = {\n",
    "    'async wait': 0,\n",
    "    'unordered collections': 1,\n",
    "    'concurrency': 2,\n",
    "    'time': 3,\n",
    "    'test order dependency': 4\n",
    "}\n",
    "\n",
    "# Initialize lists\n",
    "file_groups = {}\n",
    "\n",
    "for file in filenames_v0:\n",
    "    if \"@\" in file:\n",
    "        label = normalize_label((file.split(\"@\")[1]).split('.')[0])\n",
    "        if label in label_to_int:\n",
    "            base_name = file.split(\"@\")[0]\n",
    "            if base_name not in file_groups:\n",
    "                file_groups[base_name] = {\"v0\": None, \"v1\": None, \"v2\": None}\n",
    "            file_groups[base_name][\"v0\"] = file\n",
    "\n",
    "for file in filenames_v12:\n",
    "    if \"@\" in file:\n",
    "        label = normalize_label((file.split(\"@\")[1]).split('.')[0])\n",
    "        if label in label_to_int:\n",
    "            base_name = file.split(\"@\")[0].split(\"_\", 1)[1]  # Remove the v1_ or v2_ prefix\n",
    "            if base_name not in file_groups:\n",
    "                file_groups[base_name] = {\"v0\": None, \"v1\": None, \"v2\": None}\n",
    "            if file.startswith(\"v1_\"):\n",
    "                file_groups[base_name][\"v1\"] = file\n",
    "            elif file.startswith(\"v2_\"):\n",
    "                file_groups[base_name][\"v2\"] = file\n",
    "\n",
    "# Split groups into train and test sets\n",
    "group_keys = list(file_groups.keys())\n",
    "train_keys, test_keys = train_test_split(group_keys, test_size=0.2, random_state=42)  # 40% split first\n",
    "\n",
    "# Split the 40% further into 50-50 for testing and validation\n",
    "\n",
    "\n",
    "train_buggy_code = []\n",
    "test_buggy_code = []\n",
    "test2_buggy_code = []\n",
    "\n",
    "train_filenames = []\n",
    "test_filenames = []\n",
    "test2_filenames = []\n",
    "\n",
    "# Function to read files and append content\n",
    "def read_files_and_append(file_group, code_list, filename_list, base_path_v0, base_path_v12, include_v0=True, include_v12=False):\n",
    "    for version in ['v0', 'v1', 'v2']:\n",
    "        file = file_group[version]\n",
    "        if file:\n",
    "            if version == 'v0' and include_v0:\n",
    "                with open(os.path.join(base_path_v0, file), 'r') as buggy_file:\n",
    "                    code_list.append(buggy_file.read())\n",
    "                filename_list.append(file)\n",
    "            elif version in ['v1', 'v2'] and include_v12:\n",
    "                with open(os.path.join(base_path_v12, file), 'r') as buggy_file:\n",
    "                    code_list.append(buggy_file.read())\n",
    "                filename_list.append(file)\n",
    "\n",
    "base_path_v0 = '../data/test_files_v0'\n",
    "base_path_v12 = '../data/test_files_v12'\n",
    "\n",
    "for key in train_keys:\n",
    "    read_files_and_append(file_groups[key], train_buggy_code, train_filenames, base_path_v0, base_path_v12, include_v0=True, include_v12=False)\n",
    "\n",
    "for key in test_keys:\n",
    "    read_files_and_append(file_groups[key], test_buggy_code, test_filenames, base_path_v0, base_path_v12, include_v0=True, include_v12=False)\n",
    "\n",
    "for key in group_keys:\n",
    "    read_files_and_append(file_groups[key], test2_buggy_code, test2_filenames, base_path_v0, base_path_v12, include_v0=False, include_v12=True)\n",
    "\n",
    "# Count categories in train and test sets\n",
    "train_category_counts = defaultdict(lambda: defaultdict(int))\n",
    "test_category_counts = defaultdict(lambda: defaultdict(int))\n",
    "test2_category_counts = defaultdict(lambda: defaultdict(int))\n",
    "\n",
    "def count_categories_and_versions(filenames, category_counts):\n",
    "    for file in filenames:\n",
    "        if \"@\" in file:\n",
    "            label = normalize_label((file.split(\"@\")[1]).split('.')[0])\n",
    "            if label in label_to_int:\n",
    "                version = 'v2' if 'v2' in file else 'v1' if 'v1' in file else 'v0'\n",
    "                category_counts[label][version] += 1\n",
    "\n",
    "count_categories_and_versions(train_filenames, train_category_counts)\n",
    "count_categories_and_versions(test_filenames, test_category_counts)\n",
    "count_categories_and_versions(test2_filenames, test2_category_counts)\n",
    "\n",
    "# Print the category-wise numbers\n",
    "def print_category_counts(title, category_counts):\n",
    "    print(title)\n",
    "    for category, counts in category_counts.items():\n",
    "        print(f\"{category}: total={sum(counts.values())}, v0={counts['v0']}, v1={counts['v1']}, v2={counts['v2']}\")\n",
    "    print()\n",
    "\n",
    "print_category_counts(\"Category-wise file counts in Training Set:\", train_category_counts)\n",
    "print_category_counts(\"Category-wise file counts in Testing Set:\", test_category_counts)\n",
    "print_category_counts(\"Category-wise file counts in Testing2 Set:\", test2_category_counts)\n"
   ]
  },
  {
   "cell_type": "code",
   "execution_count": 7,
   "id": "1fabaf50-c824-40f5-b1d2-6cff19b7999c",
   "metadata": {},
   "outputs": [],
   "source": [
    "label_to_int= {\n",
    "    'async wait': 0,\n",
    "    'unordered collections': 1,\n",
    "    'concurrency': 2,\n",
    "    'time': 3,\n",
    "    'test order dependency': 4\n",
    "}"
   ]
  },
  {
   "cell_type": "code",
   "execution_count": 12,
   "id": "3484d8fd-6b01-4aea-8a01-81dfc5371418",
   "metadata": {},
   "outputs": [],
   "source": [
    "from torch.utils.data import Dataset\n",
    "import numpy as np\n",
    "import random\n",
    "m_len = 3402\n",
    "class SiameseDataset(Dataset):\n",
    "    def __init__(self, buggy_code, tokenizer, codebert, filenames, split):\n",
    "        self.buggy_code = buggy_code\n",
    "        self.tokenizer = tokenizer\n",
    "        self.codebert = codebert.to(device)\n",
    "        self.filenames = filenames\n",
    "        self.split = split\n",
    "        self.max_len = 0\n",
    "        \n",
    "        # Preprocess filenames to map labels to indices\n",
    "        self.label_to_indices = {}\n",
    "        for index, filename in enumerate(filenames):\n",
    "            label = self._extract_label(filename)\n",
    "            if label not in self.label_to_indices:\n",
    "                self.label_to_indices[label] = []\n",
    "            self.label_to_indices[label].append(index)\n",
    "\n",
    "        # For negative sampling\n",
    "        self.labels = [self._extract_label(filename) for filename in filenames]\n",
    "        self.unique_labels = list(set(self.labels))\n",
    "\n",
    "    def __len__(self):\n",
    "        return len(self.buggy_code)\n",
    "\n",
    "    def __getitem__(self, idx):\n",
    "        if self.split == 'train':\n",
    "            # Anchor label\n",
    "            anchor_label = self._extract_label(self.filenames[idx])\n",
    "\n",
    "            # Positive sample\n",
    "            positive_idx = idx\n",
    "            while positive_idx == idx:  # Ensure different indices for anchor and positive\n",
    "                positive_idx = random.choice(self.label_to_indices[anchor_label])\n",
    "\n",
    "            # Negative sample\n",
    "            negative_label = random.choice([lab for lab in self.unique_labels if lab != anchor_label])\n",
    "            negative_idx = random.choice(self.label_to_indices[negative_label])\n",
    "\n",
    "\n",
    "            anchor = self._process_snippet(self.buggy_code[idx])\n",
    "            positive = self._process_snippet(self.buggy_code[positive_idx])\n",
    "            negative = self._process_snippet(self.buggy_code[negative_idx])\n",
    "            if len(anchor) <= 768:\n",
    "                short_data = True\n",
    "            else:\n",
    "                short_data = False\n",
    "\n",
    "            return {\n",
    "                'anchor': torch.nn.functional.pad(anchor, (0, m_len - anchor.size(0))),\n",
    "                'positive': torch.nn.functional.pad(positive, (0, m_len - positive.size(0))),\n",
    "                'negative': torch.nn.functional.pad(negative, (0, m_len - negative.size(0))),\n",
    "                'label': anchor_label,  # Optional, depends on how you want to use it\n",
    "                'short_data_flag': short_data\n",
    "            }\n",
    "        elif self.split =='val':\n",
    "            anchor_label = self._extract_label(self.filenames[idx])\n",
    "            anchor = self._process_snippet(self.buggy_code[idx])\n",
    "            \n",
    "            return {\n",
    "                'anchor': torch.nn.functional.pad(anchor, (0, m_len - anchor.size(0))),\n",
    "                'label': anchor_label  # Optional, depends on how you want to use it\n",
    "            }\n",
    "        \n",
    "    def _extract_label(self, filename):\n",
    "        # Implement logic to extract label from filename\n",
    "        return label_to_int[(filename.split(\"@\")[1]).split('.')[0].strip().lower()]\n",
    "\n",
    "    def _process_snippet(self, snippet):\n",
    "        import torch\n",
    "\n",
    "        device = torch.device(\"cuda\" if torch.cuda.is_available() else \"cpu\")\n",
    "        # Tokenize input without the max_length constraint\n",
    "        inputs = self.tokenizer(snippet, return_tensors='pt').to(device)\n",
    "\n",
    "        if inputs['input_ids'].shape[1] < 512:\n",
    "\n",
    "            with torch.no_grad():\n",
    "                outs = self.codebert(**inputs)\n",
    "            cls = outs.last_hidden_state[:, 0, :].squeeze().detach()\n",
    "            return cls  # Move to CPU to save GPU memory\n",
    "        else:\n",
    "\n",
    "            total_length = inputs['input_ids'].shape[1]\n",
    "            # if total_length >= self.max_len:\n",
    "            #     self.max_len = total_length\n",
    "            #     print(self.max_len)\n",
    "        \n",
    "            parts = []\n",
    "            step_size = 100\n",
    "            chunk_size = 512\n",
    "\n",
    "            for start_index in range(0, total_length, step_size):\n",
    "                end_index = min(start_index + chunk_size, total_length)\n",
    "                input_segment = {key: val[:, start_index:end_index].to(device) for key, val in inputs.items()}\n",
    "\n",
    "                with torch.no_grad():\n",
    "                    output_segment = self.codebert(**input_segment)\n",
    "                cls_segment = output_segment.last_hidden_state[:, 0, :].squeeze().detach()\n",
    "                parts.append(cls_segment)  # Move to CPU\n",
    "\n",
    "                # del input_segment, output_segment, cls_segment  # Free up memory\n",
    "                # torch.cuda.empty_cache()  # Clear cache\n",
    "                # gc.collect()  # Invoke garbage collector\n",
    "\n",
    "            concatenated_parts = torch.cat(parts, dim=0)\n",
    "            return concatenated_parts\n",
    "\n",
    "\n",
    "        \n",
    "        # #CHECKING WHAT HAPPENS WHEN WE REMOVE MAX LENGTH CONSTRAINT\n",
    "        # inputs = self.tokenizer(snippet, return_tensors='pt').to(device)\n",
    "        # #tokens = [self.tokenizer.cls_token] + inputs  + [self.tokenizer.sep_token]\n",
    "        # print(inputs['input_ids'].shape[1])\n",
    "        # if((inputs['input_ids'].shape[1])<512):\n",
    "        #     with torch.no_grad():\n",
    "        #         outs = self.codebert(**inputs)\n",
    "        #     cls = outs.last_hidden_state[:, 0, :].squeeze().detach()\n",
    "        #     return cls\n",
    "        # else:\n",
    "        #     print('longtest')\n",
    "        #     i = 0\n",
    "        #     part_vector =  []\n",
    "        #     while ( i < (inputs['input_ids'].shape[1])-200) :\n",
    "        #         print('in while')\n",
    "        #         #tokens = [self.tokenizer.cls_token] + inputs[i:i+250] +[self.tokenizer.sep_token]\n",
    "        #         #tokens_ids= self.tokenizer.convert_tokens_to_ids(tokens)\n",
    "        #         input_seg = [self.tokenizer.cls_token] + inputs['input_ids'][1][i:i+250] +[self.tokenizer.sep_token]\n",
    "        #         with torch.no_grad():\n",
    "        #             ots = self.codebert(**input_seg)\n",
    "        #         cls = ots.last_hidden_state[:, 0, :].squeeze().detach()\n",
    "        #         #cls = model_codebert(torch.tensor(inputs)[None,:])[1]\n",
    "        #         #vector = cls[0].detach().numpy()\n",
    "        #         parts.append(cls)\n",
    "        #         i = i+100\n",
    "        #     return parts\n",
    "            \n",
    "            "
   ]
  },
  {
   "cell_type": "code",
   "execution_count": 37,
   "id": "f2b89d78-363f-4c3a-a263-db4faf2fd905",
   "metadata": {},
   "outputs": [],
   "source": [
    "# Create instances of the custom dataset class\n",
    "train_dataset = SiameseDataset(train_buggy_code, tokenizer, model_codebert, train_filenames, 'train')\n",
    "val_dataset = SiameseDataset(test2_buggy_code, tokenizer, model_codebert, test2_filenames, 'val')\n",
    "\n",
    "# Create dataloaders for training and validation\n",
    "batch_size = 8\n",
    "train_dataloader = DataLoader(train_dataset, batch_size=batch_size, shuffle=True)\n",
    "val_dataloader = DataLoader(val_dataset, batch_size=batch_size)\n"
   ]
  },
  {
   "cell_type": "code",
   "execution_count": 38,
   "id": "0bf15857-574e-482c-a611-a01868ac7b9d",
   "metadata": {
    "tags": []
   },
   "outputs": [],
   "source": [
    "import numpy as np\n",
    "\n",
    "def sample_triplet_data(data, sample_size_ratio):\n",
    "    \"\"\"\n",
    "    Samples a subset of triplet data (anchor, positive, negative) while preserving class distribution.\n",
    "    \n",
    "    Parameters:\n",
    "    - data: list of dictionaries, where each dictionary has keys 'anchor', 'positive', 'negative', 'label'.\n",
    "    - sample_size_ratio: float, the fraction of the data to sample (0 < sample_size_ratio <= 1).\n",
    "    \n",
    "    Returns:\n",
    "    - sampled_data: list of dictionaries, the sampled subset of the original data.\n",
    "    \"\"\"\n",
    "    # Extract labels to understand the class distribution\n",
    "    labels = [item['label'] for item in data]\n",
    "    unique_classes = np.unique(labels)\n",
    "    \n",
    "    sampled_data = []\n",
    "    \n",
    "    for cls in unique_classes:\n",
    "        # Find all items belonging to the current class\n",
    "        class_items = [item for item in data if item['label'] == cls]\n",
    "        # Calculate the number of items to sample from this class\n",
    "        num_samples = int(np.ceil(len(class_items) * sample_size_ratio))\n",
    "        # Randomly sample items without replacement\n",
    "        sampled_items = np.random.choice(class_items, size=num_samples, replace=False)\n",
    "        # Append the sampled items to the output list\n",
    "        sampled_data.extend(sampled_items)\n",
    "    \n",
    "    # Optionally, shuffle the sampled dataset to mix classes\n",
    "    np.random.shuffle(sampled_data)\n",
    "\n",
    "    return sampled_data\n"
   ]
  },
  {
   "cell_type": "code",
   "execution_count": 39,
   "id": "09bd5b27-3069-47df-b712-6acc8f5b85f3",
   "metadata": {
    "tags": []
   },
   "outputs": [
    {
     "name": "stderr",
     "output_type": "stream",
     "text": [
      "  0%|          | 0/295 [00:00<?, ?it/s]Token indices sequence length is longer than the specified maximum sequence length for this model (1004 > 512). Running this sequence through the model will result in indexing errors\n",
      "Token indices sequence length is longer than the specified maximum sequence length for this model (1004 > 512). Running this sequence through the model will result in indexing errors\n",
      "100%|██████████| 295/295 [00:11<00:00, 24.93it/s]\n"
     ]
    }
   ],
   "source": [
    "import gc\n",
    "from tqdm import tqdm\n",
    "plot_data = []\n",
    "plot_labels = []\n",
    "short_data_flags = []\n",
    "for item in tqdm(train_dataset):\n",
    "    \n",
    "    plot_data.append(item['anchor'])\n",
    "    plot_labels.append(item['label'])\n",
    "    short_data_flags.append(item['short_data_flag'])\n"
   ]
  },
  {
   "cell_type": "code",
   "execution_count": 40,
   "id": "34e95823-2083-40ab-b419-b02dc414c97b",
   "metadata": {
    "tags": []
   },
   "outputs": [],
   "source": [
    "\n",
    "# Assuming plot_data is a list of 1D tensors of different lengths\n",
    "max_length = max(tensor.size(0) for tensor in plot_data)\n",
    "padded_data = [torch.nn.functional.pad(tensor, (0, max_length - tensor.size(0))) for tensor in plot_data]"
   ]
  },
  {
   "cell_type": "code",
   "execution_count": 41,
   "id": "c9a91236-be05-46d0-b434-53e8ae9a2c12",
   "metadata": {
    "tags": []
   },
   "outputs": [
    {
     "data": {
      "text/plain": [
       "3402"
      ]
     },
     "execution_count": 41,
     "metadata": {},
     "output_type": "execute_result"
    }
   ],
   "source": [
    "max_length"
   ]
  },
  {
   "cell_type": "code",
   "execution_count": 42,
   "id": "673065dd-b188-4a75-92c7-e13e43c19ea3",
   "metadata": {
    "tags": []
   },
   "outputs": [],
   "source": [
    "colors = ['skyblue', 'lightgreen', 'salmon', 'gold', 'orchid'] \n",
    "import matplotlib.pyplot as plt\n",
    "from matplotlib.colors import LinearSegmentedColormap\n",
    "# Create a custom colormap\n",
    "cc = LinearSegmentedColormap.from_list(\"cc\", colors, N=5)\n"
   ]
  },
  {
   "cell_type": "code",
   "execution_count": null,
   "metadata": {},
   "outputs": [],
   "source": [
    "# !python3 -m pip install matplotlib==3.5.2"
   ]
  },
  {
   "cell_type": "code",
   "execution_count": 43,
   "id": "19e4c425-13f3-45e4-a5b7-b4547e49fd20",
   "metadata": {
    "tags": []
   },
   "outputs": [
    {
     "data": {
      "image/png": "[encoded data removed]",
      "text/plain": [
       "<Figure size 1000x1000 with 1 Axes>"
      ]
     },
     "metadata": {},
     "output_type": "display_data"
    }
   ],
   "source": [
    "import matplotlib.pyplot as plt\n",
    "from sklearn.manifold import TSNE\n",
    "import torch\n",
    "import numpy as np\n",
    "\n",
    "# Assuming X, plot_data, and plot_labels are defined as before\n",
    "# Also assuming bool_values is your list/array of boolean values\n",
    "\n",
    "X = torch.stack(plot_data).cpu().numpy()\n",
    "\n",
    "# Extract labels for each point\n",
    "labelsNums = plot_labels\n",
    "\n",
    "# Perform t-SNE dimensionality reduction\n",
    "X_embedded = TSNE(n_components=2, init='random').fit_transform(X)\n",
    "\n",
    "# Assuming 'cc' is a colormap, you might need to adjust this to fit your actual colormap variable\n",
    "# Generate an array of colors for each label\n",
    "unique_labels = np.unique(labelsNums)\n",
    "colors = plt.cm.get_cmap(cc, len(unique_labels))  # Adjust 'cc' as needed to your colormap name\n",
    "label_to_color = {label: colors(i / len(unique_labels)) for i, label in enumerate(unique_labels)}\n",
    "colors_array = np.array([label_to_color[label] for label in labelsNums])\n",
    "\n",
    "# Create the scatter plot\n",
    "plt.figure(figsize=(10, 10))\n",
    "\n",
    "# Iterate through each datapoint\n",
    "for i in range(len(X_embedded)):\n",
    "    marker = 'x' if short_data_flags[i] else 'o'  # Choose the marker based on the boolean value\n",
    "    plt.scatter(X_embedded[i, 0], X_embedded[i, 1], color=colors_array[i], s=20, alpha=0.6, marker=marker)\n",
    "\n",
    "# Set the background color to black\n",
    "plt.gca().set_facecolor('black')\n",
    "# Adjust the color of the ticks and labels for better visibility\n",
    "plt.tick_params(axis='x', colors='white')\n",
    "plt.tick_params(axis='y', colors='white')\n",
    "plt.xlabel('Component 1', color='white')\n",
    "plt.ylabel('Component 2', color='white')\n",
    "\n",
    "plt.show()\n"
   ]
  },
  {
   "cell_type": "code",
   "execution_count": null,
   "id": "e11913d0-a525-4e37-a7b5-4d2ea9ad926f",
   "metadata": {
    "tags": []
   },
   "outputs": [],
   "source": [
    "# import matplotlib.pyplot as plt\n",
    "# from sklearn.manifold import TSNE\n",
    "# import torch\n",
    "# from sklearn.preprocessing import MinMaxScaler\n",
    "\n",
    "# X = torch.stack(plot_data).cpu().numpy()\n",
    "# labelsNums = plot_labels\n",
    "\n",
    "# # Perform t-SNE dimensionality reduction\n",
    "# X_embedded = TSNE(n_components=2, init='random').fit_transform(X)\n",
    "\n",
    "# # Normalize the points\n",
    "# scaler = MinMaxScaler()\n",
    "# X_embedded_normalized = scaler.fit_transform(X_embedded)\n",
    "\n",
    "# # Create the scatter plot\n",
    "# plt.figure(figsize=(10, 10))\n",
    "# for i in range(len(X_embedded_normalized)):\n",
    "#     marker = 'x' if short_data_flags[i] else 'o'  # Choose the marker based on the boolean value\n",
    "#     plt.scatter(X_embedded_normalized[i, 0], X_embedded_normalized[i, 1], color=colors_array[i], s=20, alpha=0.6, marker=marker)\n",
    "\n",
    "# # Set the background color to black\n",
    "# plt.gca().set_facecolor('black')\n",
    "# # Adjust the color of the ticks and labels for better visibility\n",
    "# plt.tick_params(axis='x', colors='white')\n",
    "# plt.tick_params(axis='y', colors='white')\n",
    "\n",
    "# plt.show()\n"
   ]
  },
  {
   "cell_type": "code",
   "execution_count": 44,
   "id": "299a5325-7def-42b0-a3a3-7298c8c04cd2",
   "metadata": {},
   "outputs": [],
   "source": [
    "# Load the CodeBERT tokenizer (adjust the model_name as needed)\n",
    "model_name = \"microsoft/codebert-base\"\n",
    "codebert_model = AutoModel.from_pretrained(model_name)\n",
    "tokenizer = AutoTokenizer.from_pretrained(model_name)\n",
    "\n",
    "\n",
    "class SiameseNetwork(nn.Module):\n",
    "    def __init__(self, embedding_size):\n",
    "        super(SiameseNetwork, self).__init__()\n",
    "        self.fc = nn.Sequential(\n",
    "            nn.Linear(embedding_size, int(embedding_size/2)),\n",
    "            nn.ReLU(inplace=True),\n",
    "            nn.Linear(int(embedding_size/2), int(embedding_size/4)),\n",
    "            nn.ReLU(inplace=True),\n",
    "            nn.Linear(int(embedding_size/4), embedding_size)\n",
    "        )\n",
    "\n",
    "    def forward(self, x):\n",
    "        output = self.fc(x)\n",
    "        return output"
   ]
  },
  {
   "cell_type": "code",
   "execution_count": 45,
   "id": "97f65d80-555a-4967-8265-19ba8dc9f296",
   "metadata": {},
   "outputs": [],
   "source": [
    "class TripletLoss(nn.Module):\n",
    "    def __init__(self, margin=1.0):\n",
    "        super(TripletLoss, self).__init__()\n",
    "        self.margin = margin\n",
    "\n",
    "    def forward(self, anchor, positive, negative):\n",
    "        distance_positive = (anchor - positive).pow(2).sum(1)\n",
    "        distance_negative = (anchor - negative).pow(2).sum(1)\n",
    "        losses = torch.relu(distance_positive - distance_negative + self.margin)\n",
    "        return losses.mean()"
   ]
  },
  {
   "cell_type": "code",
   "execution_count": 46,
   "id": "167eeaca-6023-4ec4-885f-01fc9d00c4c5",
   "metadata": {},
   "outputs": [],
   "source": [
    "learning_rate = 1e-5\n",
    "num_epochs = 200\n",
    "embed_size = m_len  # This should match the output size of CodeBERT\n",
    "siamese_network = SiameseNetwork(embed_size).to(device)\n",
    "criterion = TripletLoss(margin=1.0)\n",
    "optimizer = optim.Adam(siamese_network.parameters(), lr=learning_rate)\n",
    "triplet_loss = TripletLoss().to(device)"
   ]
  },
  {
   "cell_type": "code",
   "execution_count": null,
   "metadata": {},
   "outputs": [],
   "source": [
    "# from transformers import get_linear_schedule_with_warmup\n",
    "# warmup_Frac = 0.1\n",
    "# total_iter = num_epochs * len(train_dataloader)\n",
    "# scheduler = get_linear_schedule_with_warmup(optimizer, int(warmup_Frac * total_iter), total_iter)"
   ]
  },
  {
   "cell_type": "markdown",
   "id": "2fe7b516-21fd-4d0c-b967-a7f8fd6f253e",
   "metadata": {},
   "source": []
  },
  {
   "cell_type": "code",
   "execution_count": 23,
   "id": "16b89e25-f11e-4ceb-828e-43aa9c4a7977",
   "metadata": {
    "tags": []
   },
   "outputs": [
    {
     "name": "stderr",
     "output_type": "stream",
     "text": [
      "2024-06-21 14:30:21.882831: I tensorflow/core/util/port.cc:111] oneDNN custom operations are on. You may see slightly different numerical results due to floating-point round-off errors from different computation orders. To turn them off, set the environment variable `TF_ENABLE_ONEDNN_OPTS=0`.\n",
      "2024-06-21 14:30:21.897362: E tensorflow/compiler/xla/stream_executor/cuda/cuda_dnn.cc:9342] Unable to register cuDNN factory: Attempting to register factory for plugin cuDNN when one has already been registered\n",
      "2024-06-21 14:30:21.897380: E tensorflow/compiler/xla/stream_executor/cuda/cuda_fft.cc:609] Unable to register cuFFT factory: Attempting to register factory for plugin cuFFT when one has already been registered\n",
      "2024-06-21 14:30:21.897393: E tensorflow/compiler/xla/stream_executor/cuda/cuda_blas.cc:1518] Unable to register cuBLAS factory: Attempting to register factory for plugin cuBLAS when one has already been registered\n",
      "2024-06-21 14:30:21.900806: I tensorflow/core/platform/cpu_feature_guard.cc:182] This TensorFlow binary is optimized to use available CPU instructions in performance-critical operations.\n",
      "To enable the following instructions: AVX2 AVX_VNNI FMA, in other operations, rebuild TensorFlow with the appropriate compiler flags.\n",
      "  3%|▎         | 1/37 [00:00<00:16,  2.20it/s]"
     ]
    },
    {
     "name": "stdout",
     "output_type": "stream",
     "text": [
      "Loss improved saving model\n"
     ]
    },
    {
     "name": "stderr",
     "output_type": "stream",
     "text": [
      "100%|██████████| 37/37 [00:11<00:00,  3.22it/s]\n"
     ]
    },
    {
     "name": "stdout",
     "output_type": "stream",
     "text": [
      "Epoch 1/200, Loss: 1.2389910046474353\n"
     ]
    },
    {
     "name": "stderr",
     "output_type": "stream",
     "text": [
      "  0%|          | 0/37 [00:00<?, ?it/s]"
     ]
    },
    {
     "name": "stdout",
     "output_type": "stream",
     "text": [
      "Loss improved saving model\n"
     ]
    },
    {
     "name": "stderr",
     "output_type": "stream",
     "text": [
      "100%|██████████| 37/37 [00:11<00:00,  3.18it/s]\n"
     ]
    },
    {
     "name": "stdout",
     "output_type": "stream",
     "text": [
      "Epoch 2/200, Loss: 0.9305796351948299\n"
     ]
    },
    {
     "name": "stderr",
     "output_type": "stream",
     "text": [
      "  3%|▎         | 1/37 [00:00<00:17,  2.08it/s]"
     ]
    },
    {
     "name": "stdout",
     "output_type": "stream",
     "text": [
      "Loss improved saving model\n"
     ]
    },
    {
     "name": "stderr",
     "output_type": "stream",
     "text": [
      "100%|██████████| 37/37 [00:12<00:00,  3.08it/s]\n"
     ]
    },
    {
     "name": "stdout",
     "output_type": "stream",
     "text": [
      "Epoch 3/200, Loss: 0.9530432919553807\n"
     ]
    },
    {
     "name": "stderr",
     "output_type": "stream",
     "text": [
      "100%|██████████| 37/37 [00:11<00:00,  3.23it/s]\n"
     ]
    },
    {
     "name": "stdout",
     "output_type": "stream",
     "text": [
      "Epoch 4/200, Loss: 0.8990808518512828\n"
     ]
    },
    {
     "name": "stderr",
     "output_type": "stream",
     "text": [
      "100%|██████████| 37/37 [00:12<00:00,  2.99it/s]\n"
     ]
    },
    {
     "name": "stdout",
     "output_type": "stream",
     "text": [
      "Epoch 5/200, Loss: 0.9057033169269562\n"
     ]
    },
    {
     "name": "stderr",
     "output_type": "stream",
     "text": [
      "100%|██████████| 37/37 [00:12<00:00,  2.99it/s]\n"
     ]
    },
    {
     "name": "stdout",
     "output_type": "stream",
     "text": [
      "Epoch 6/200, Loss: 0.9334759247625196\n"
     ]
    },
    {
     "name": "stderr",
     "output_type": "stream",
     "text": [
      "100%|██████████| 37/37 [00:12<00:00,  2.98it/s]\n"
     ]
    },
    {
     "name": "stdout",
     "output_type": "stream",
     "text": [
      "Epoch 7/200, Loss: 0.9231551984838536\n"
     ]
    },
    {
     "name": "stderr",
     "output_type": "stream",
     "text": [
      "100%|██████████| 37/37 [00:12<00:00,  2.95it/s]\n"
     ]
    },
    {
     "name": "stdout",
     "output_type": "stream",
     "text": [
      "Epoch 8/200, Loss: 0.9336147375364561\n"
     ]
    },
    {
     "name": "stderr",
     "output_type": "stream",
     "text": [
      "  3%|▎         | 1/37 [00:00<00:16,  2.23it/s]"
     ]
    },
    {
     "name": "stdout",
     "output_type": "stream",
     "text": [
      "Loss improved saving model\n"
     ]
    },
    {
     "name": "stderr",
     "output_type": "stream",
     "text": [
      "100%|██████████| 37/37 [00:12<00:00,  3.07it/s]\n"
     ]
    },
    {
     "name": "stdout",
     "output_type": "stream",
     "text": [
      "Epoch 9/200, Loss: 0.8547874659460943\n"
     ]
    },
    {
     "name": "stderr",
     "output_type": "stream",
     "text": [
      "100%|██████████| 37/37 [00:12<00:00,  3.02it/s]\n"
     ]
    },
    {
     "name": "stdout",
     "output_type": "stream",
     "text": [
      "Epoch 10/200, Loss: 0.8817342522337629\n"
     ]
    },
    {
     "name": "stderr",
     "output_type": "stream",
     "text": [
      "100%|██████████| 37/37 [00:11<00:00,  3.09it/s]\n"
     ]
    },
    {
     "name": "stdout",
     "output_type": "stream",
     "text": [
      "Epoch 11/200, Loss: 0.8583108906165973\n"
     ]
    },
    {
     "name": "stderr",
     "output_type": "stream",
     "text": [
      "  3%|▎         | 1/37 [00:00<00:16,  2.23it/s]"
     ]
    },
    {
     "name": "stdout",
     "output_type": "stream",
     "text": [
      "Loss improved saving model\n"
     ]
    },
    {
     "name": "stderr",
     "output_type": "stream",
     "text": [
      "100%|██████████| 37/37 [00:12<00:00,  2.95it/s]\n"
     ]
    },
    {
     "name": "stdout",
     "output_type": "stream",
     "text": [
      "Epoch 12/200, Loss: 0.8484197873682588\n"
     ]
    },
    {
     "name": "stderr",
     "output_type": "stream",
     "text": [
      "100%|██████████| 37/37 [00:13<00:00,  2.80it/s]\n"
     ]
    },
    {
     "name": "stdout",
     "output_type": "stream",
     "text": [
      "Epoch 13/200, Loss: 0.8357343603791417\n"
     ]
    },
    {
     "name": "stderr",
     "output_type": "stream",
     "text": [
      "100%|██████████| 37/37 [00:13<00:00,  2.82it/s]\n"
     ]
    },
    {
     "name": "stdout",
     "output_type": "stream",
     "text": [
      "Epoch 14/200, Loss: 0.8339990057816375\n"
     ]
    },
    {
     "name": "stderr",
     "output_type": "stream",
     "text": [
      "100%|██████████| 37/37 [00:12<00:00,  2.89it/s]\n"
     ]
    },
    {
     "name": "stdout",
     "output_type": "stream",
     "text": [
      "Epoch 15/200, Loss: 0.8246731438507904\n"
     ]
    },
    {
     "name": "stderr",
     "output_type": "stream",
     "text": [
      "100%|██████████| 37/37 [00:11<00:00,  3.23it/s]\n"
     ]
    },
    {
     "name": "stdout",
     "output_type": "stream",
     "text": [
      "Epoch 16/200, Loss: 0.7481192111324619\n"
     ]
    },
    {
     "name": "stderr",
     "output_type": "stream",
     "text": [
      "100%|██████████| 37/37 [00:12<00:00,  3.04it/s]\n"
     ]
    },
    {
     "name": "stdout",
     "output_type": "stream",
     "text": [
      "Epoch 17/200, Loss: 0.796899523541734\n"
     ]
    },
    {
     "name": "stderr",
     "output_type": "stream",
     "text": [
      "100%|██████████| 37/37 [00:11<00:00,  3.20it/s]\n"
     ]
    },
    {
     "name": "stdout",
     "output_type": "stream",
     "text": [
      "Epoch 18/200, Loss: 0.8121885023568127\n"
     ]
    },
    {
     "name": "stderr",
     "output_type": "stream",
     "text": [
      "100%|██████████| 37/37 [00:12<00:00,  2.99it/s]\n"
     ]
    },
    {
     "name": "stdout",
     "output_type": "stream",
     "text": [
      "Epoch 19/200, Loss: 0.7446262234932667\n"
     ]
    },
    {
     "name": "stderr",
     "output_type": "stream",
     "text": [
      "100%|██████████| 37/37 [00:12<00:00,  2.98it/s]\n"
     ]
    },
    {
     "name": "stdout",
     "output_type": "stream",
     "text": [
      "Epoch 20/200, Loss: 0.7365877816161593\n"
     ]
    },
    {
     "name": "stderr",
     "output_type": "stream",
     "text": [
      "100%|██████████| 37/37 [00:11<00:00,  3.18it/s]\n"
     ]
    },
    {
     "name": "stdout",
     "output_type": "stream",
     "text": [
      "Epoch 21/200, Loss: 0.7082080976544199\n"
     ]
    },
    {
     "name": "stderr",
     "output_type": "stream",
     "text": [
      "100%|██████████| 37/37 [00:11<00:00,  3.23it/s]\n"
     ]
    },
    {
     "name": "stdout",
     "output_type": "stream",
     "text": [
      "Epoch 22/200, Loss: 0.7112595731503254\n"
     ]
    },
    {
     "name": "stderr",
     "output_type": "stream",
     "text": [
      "  3%|▎         | 1/37 [00:00<00:16,  2.19it/s]"
     ]
    },
    {
     "name": "stdout",
     "output_type": "stream",
     "text": [
      "Loss improved saving model\n"
     ]
    },
    {
     "name": "stderr",
     "output_type": "stream",
     "text": [
      "100%|██████████| 37/37 [00:12<00:00,  3.02it/s]\n"
     ]
    },
    {
     "name": "stdout",
     "output_type": "stream",
     "text": [
      "Epoch 23/200, Loss: 0.6822711666854652\n"
     ]
    },
    {
     "name": "stderr",
     "output_type": "stream",
     "text": [
      "100%|██████████| 37/37 [00:11<00:00,  3.24it/s]\n"
     ]
    },
    {
     "name": "stdout",
     "output_type": "stream",
     "text": [
      "Epoch 24/200, Loss: 0.6503012819225723\n"
     ]
    },
    {
     "name": "stderr",
     "output_type": "stream",
     "text": [
      "100%|██████████| 37/37 [00:12<00:00,  2.99it/s]\n"
     ]
    },
    {
     "name": "stdout",
     "output_type": "stream",
     "text": [
      "Epoch 25/200, Loss: 0.6858515137917286\n"
     ]
    },
    {
     "name": "stderr",
     "output_type": "stream",
     "text": [
      "  3%|▎         | 1/37 [00:00<00:09,  3.71it/s]"
     ]
    },
    {
     "name": "stdout",
     "output_type": "stream",
     "text": [
      "Loss improved saving model\n"
     ]
    },
    {
     "name": "stderr",
     "output_type": "stream",
     "text": [
      "100%|██████████| 37/37 [00:12<00:00,  3.02it/s]\n"
     ]
    },
    {
     "name": "stdout",
     "output_type": "stream",
     "text": [
      "Epoch 26/200, Loss: 0.7006655849476118\n"
     ]
    },
    {
     "name": "stderr",
     "output_type": "stream",
     "text": [
      "100%|██████████| 37/37 [00:12<00:00,  3.01it/s]\n"
     ]
    },
    {
     "name": "stdout",
     "output_type": "stream",
     "text": [
      "Epoch 27/200, Loss: 0.617757378655511\n"
     ]
    },
    {
     "name": "stderr",
     "output_type": "stream",
     "text": [
      "100%|██████████| 37/37 [00:12<00:00,  2.98it/s]\n"
     ]
    },
    {
     "name": "stdout",
     "output_type": "stream",
     "text": [
      "Epoch 28/200, Loss: 0.7308018477945714\n"
     ]
    },
    {
     "name": "stderr",
     "output_type": "stream",
     "text": [
      "100%|██████████| 37/37 [00:11<00:00,  3.09it/s]\n"
     ]
    },
    {
     "name": "stdout",
     "output_type": "stream",
     "text": [
      "Epoch 29/200, Loss: 0.6869348954671137\n"
     ]
    },
    {
     "name": "stderr",
     "output_type": "stream",
     "text": [
      "100%|██████████| 37/37 [00:12<00:00,  2.89it/s]\n"
     ]
    },
    {
     "name": "stdout",
     "output_type": "stream",
     "text": [
      "Epoch 30/200, Loss: 0.6042859500485497\n"
     ]
    },
    {
     "name": "stderr",
     "output_type": "stream",
     "text": [
      "  3%|▎         | 1/37 [00:00<00:12,  2.82it/s]"
     ]
    },
    {
     "name": "stdout",
     "output_type": "stream",
     "text": [
      "Loss improved saving model\n"
     ]
    },
    {
     "name": "stderr",
     "output_type": "stream",
     "text": [
      "100%|██████████| 37/37 [00:12<00:00,  3.00it/s]\n"
     ]
    },
    {
     "name": "stdout",
     "output_type": "stream",
     "text": [
      "Epoch 31/200, Loss: 0.5735321949623726\n"
     ]
    },
    {
     "name": "stderr",
     "output_type": "stream",
     "text": [
      "100%|██████████| 37/37 [00:11<00:00,  3.17it/s]\n"
     ]
    },
    {
     "name": "stdout",
     "output_type": "stream",
     "text": [
      "Epoch 32/200, Loss: 0.659185539484024\n"
     ]
    },
    {
     "name": "stderr",
     "output_type": "stream",
     "text": [
      "100%|██████████| 37/37 [00:12<00:00,  3.01it/s]\n"
     ]
    },
    {
     "name": "stdout",
     "output_type": "stream",
     "text": [
      "Epoch 33/200, Loss: 0.5693792067025158\n"
     ]
    },
    {
     "name": "stderr",
     "output_type": "stream",
     "text": [
      "  0%|          | 0/37 [00:00<?, ?it/s]"
     ]
    },
    {
     "name": "stdout",
     "output_type": "stream",
     "text": [
      "Loss improved saving model\n"
     ]
    },
    {
     "name": "stderr",
     "output_type": "stream",
     "text": [
      "100%|██████████| 37/37 [00:12<00:00,  2.86it/s]\n"
     ]
    },
    {
     "name": "stdout",
     "output_type": "stream",
     "text": [
      "Epoch 34/200, Loss: 0.5453601453916446\n"
     ]
    },
    {
     "name": "stderr",
     "output_type": "stream",
     "text": [
      "100%|██████████| 37/37 [00:12<00:00,  2.89it/s]\n"
     ]
    },
    {
     "name": "stdout",
     "output_type": "stream",
     "text": [
      "Epoch 35/200, Loss: 0.506729045687495\n"
     ]
    },
    {
     "name": "stderr",
     "output_type": "stream",
     "text": [
      "100%|██████████| 37/37 [00:12<00:00,  3.04it/s]\n"
     ]
    },
    {
     "name": "stdout",
     "output_type": "stream",
     "text": [
      "Epoch 36/200, Loss: 0.5441468706968667\n"
     ]
    },
    {
     "name": "stderr",
     "output_type": "stream",
     "text": [
      "100%|██████████| 37/37 [00:12<00:00,  2.89it/s]\n"
     ]
    },
    {
     "name": "stdout",
     "output_type": "stream",
     "text": [
      "Epoch 37/200, Loss: 0.5556097856808353\n"
     ]
    },
    {
     "name": "stderr",
     "output_type": "stream",
     "text": [
      "100%|██████████| 37/37 [00:12<00:00,  3.01it/s]\n"
     ]
    },
    {
     "name": "stdout",
     "output_type": "stream",
     "text": [
      "Epoch 38/200, Loss: 0.5972904493035497\n"
     ]
    },
    {
     "name": "stderr",
     "output_type": "stream",
     "text": [
      "100%|██████████| 37/37 [00:13<00:00,  2.76it/s]\n"
     ]
    },
    {
     "name": "stdout",
     "output_type": "stream",
     "text": [
      "Epoch 39/200, Loss: 0.42273405320741037\n"
     ]
    },
    {
     "name": "stderr",
     "output_type": "stream",
     "text": [
      "100%|██████████| 37/37 [00:12<00:00,  3.00it/s]\n"
     ]
    },
    {
     "name": "stdout",
     "output_type": "stream",
     "text": [
      "Epoch 40/200, Loss: 0.46446484051040693\n"
     ]
    },
    {
     "name": "stderr",
     "output_type": "stream",
     "text": [
      "100%|██████████| 37/37 [00:12<00:00,  2.85it/s]\n"
     ]
    },
    {
     "name": "stdout",
     "output_type": "stream",
     "text": [
      "Epoch 41/200, Loss: 0.48877532242117694\n"
     ]
    },
    {
     "name": "stderr",
     "output_type": "stream",
     "text": [
      "100%|██████████| 37/37 [00:12<00:00,  3.02it/s]\n"
     ]
    },
    {
     "name": "stdout",
     "output_type": "stream",
     "text": [
      "Epoch 42/200, Loss: 0.497811119757794\n"
     ]
    },
    {
     "name": "stderr",
     "output_type": "stream",
     "text": [
      "100%|██████████| 37/37 [00:12<00:00,  2.98it/s]\n"
     ]
    },
    {
     "name": "stdout",
     "output_type": "stream",
     "text": [
      "Epoch 43/200, Loss: 0.5201636486923372\n"
     ]
    },
    {
     "name": "stderr",
     "output_type": "stream",
     "text": [
      "100%|██████████| 37/37 [00:12<00:00,  2.98it/s]\n"
     ]
    },
    {
     "name": "stdout",
     "output_type": "stream",
     "text": [
      "Epoch 44/200, Loss: 0.48048262706479505\n"
     ]
    },
    {
     "name": "stderr",
     "output_type": "stream",
     "text": [
      "100%|██████████| 37/37 [00:12<00:00,  2.91it/s]\n"
     ]
    },
    {
     "name": "stdout",
     "output_type": "stream",
     "text": [
      "Epoch 45/200, Loss: 0.4955393332242965\n"
     ]
    },
    {
     "name": "stderr",
     "output_type": "stream",
     "text": [
      "  3%|▎         | 1/37 [00:00<00:12,  2.84it/s]"
     ]
    },
    {
     "name": "stdout",
     "output_type": "stream",
     "text": [
      "Loss improved saving model\n"
     ]
    },
    {
     "name": "stderr",
     "output_type": "stream",
     "text": [
      "100%|██████████| 37/37 [00:12<00:00,  3.07it/s]\n"
     ]
    },
    {
     "name": "stdout",
     "output_type": "stream",
     "text": [
      "Epoch 46/200, Loss: 0.5081290327374999\n"
     ]
    },
    {
     "name": "stderr",
     "output_type": "stream",
     "text": [
      "100%|██████████| 37/37 [00:12<00:00,  2.95it/s]\n"
     ]
    },
    {
     "name": "stdout",
     "output_type": "stream",
     "text": [
      "Epoch 47/200, Loss: 0.4378321990934578\n"
     ]
    },
    {
     "name": "stderr",
     "output_type": "stream",
     "text": [
      "100%|██████████| 37/37 [00:11<00:00,  3.21it/s]\n"
     ]
    },
    {
     "name": "stdout",
     "output_type": "stream",
     "text": [
      "Epoch 48/200, Loss: 0.4592783536218308\n"
     ]
    },
    {
     "name": "stderr",
     "output_type": "stream",
     "text": [
      "100%|██████████| 37/37 [00:12<00:00,  2.93it/s]\n"
     ]
    },
    {
     "name": "stdout",
     "output_type": "stream",
     "text": [
      "Epoch 49/200, Loss: 0.4082490268752382\n"
     ]
    },
    {
     "name": "stderr",
     "output_type": "stream",
     "text": [
      "100%|██████████| 37/37 [00:12<00:00,  2.86it/s]\n"
     ]
    },
    {
     "name": "stdout",
     "output_type": "stream",
     "text": [
      "Epoch 50/200, Loss: 0.4742677520416878\n"
     ]
    },
    {
     "name": "stderr",
     "output_type": "stream",
     "text": [
      "100%|██████████| 37/37 [00:12<00:00,  3.06it/s]\n"
     ]
    },
    {
     "name": "stdout",
     "output_type": "stream",
     "text": [
      "Epoch 51/200, Loss: 0.42968012096108615\n"
     ]
    },
    {
     "name": "stderr",
     "output_type": "stream",
     "text": [
      "  3%|▎         | 1/37 [00:00<00:18,  1.90it/s]"
     ]
    },
    {
     "name": "stdout",
     "output_type": "stream",
     "text": [
      "Loss improved saving model\n"
     ]
    },
    {
     "name": "stderr",
     "output_type": "stream",
     "text": [
      "100%|██████████| 37/37 [00:12<00:00,  2.96it/s]\n"
     ]
    },
    {
     "name": "stdout",
     "output_type": "stream",
     "text": [
      "Epoch 52/200, Loss: 0.5005211113836314\n"
     ]
    },
    {
     "name": "stderr",
     "output_type": "stream",
     "text": [
      "100%|██████████| 37/37 [00:12<00:00,  3.05it/s]\n"
     ]
    },
    {
     "name": "stdout",
     "output_type": "stream",
     "text": [
      "Epoch 53/200, Loss: 0.4635198523627745\n"
     ]
    },
    {
     "name": "stderr",
     "output_type": "stream",
     "text": [
      "100%|██████████| 37/37 [00:11<00:00,  3.22it/s]\n"
     ]
    },
    {
     "name": "stdout",
     "output_type": "stream",
     "text": [
      "Epoch 54/200, Loss: 0.3738129197906803\n"
     ]
    },
    {
     "name": "stderr",
     "output_type": "stream",
     "text": [
      "100%|██████████| 37/37 [00:12<00:00,  2.97it/s]\n"
     ]
    },
    {
     "name": "stdout",
     "output_type": "stream",
     "text": [
      "Epoch 55/200, Loss: 0.4456467916997703\n"
     ]
    },
    {
     "name": "stderr",
     "output_type": "stream",
     "text": [
      "100%|██████████| 37/37 [00:11<00:00,  3.13it/s]\n"
     ]
    },
    {
     "name": "stdout",
     "output_type": "stream",
     "text": [
      "Epoch 56/200, Loss: 0.43670532958733066\n"
     ]
    },
    {
     "name": "stderr",
     "output_type": "stream",
     "text": [
      "100%|██████████| 37/37 [00:12<00:00,  2.95it/s]\n"
     ]
    },
    {
     "name": "stdout",
     "output_type": "stream",
     "text": [
      "Epoch 57/200, Loss: 0.3965195119944779\n"
     ]
    },
    {
     "name": "stderr",
     "output_type": "stream",
     "text": [
      "100%|██████████| 37/37 [00:11<00:00,  3.19it/s]\n"
     ]
    },
    {
     "name": "stdout",
     "output_type": "stream",
     "text": [
      "Epoch 58/200, Loss: 0.5025993940556371\n"
     ]
    },
    {
     "name": "stderr",
     "output_type": "stream",
     "text": [
      "100%|██████████| 37/37 [00:12<00:00,  3.02it/s]\n"
     ]
    },
    {
     "name": "stdout",
     "output_type": "stream",
     "text": [
      "Epoch 59/200, Loss: 0.4202089437117448\n"
     ]
    },
    {
     "name": "stderr",
     "output_type": "stream",
     "text": [
      "100%|██████████| 37/37 [00:11<00:00,  3.12it/s]\n"
     ]
    },
    {
     "name": "stdout",
     "output_type": "stream",
     "text": [
      "Epoch 60/200, Loss: 0.36403459598083754\n"
     ]
    },
    {
     "name": "stderr",
     "output_type": "stream",
     "text": [
      "100%|██████████| 37/37 [00:11<00:00,  3.14it/s]\n"
     ]
    },
    {
     "name": "stdout",
     "output_type": "stream",
     "text": [
      "Epoch 61/200, Loss: 0.4498454773909336\n"
     ]
    },
    {
     "name": "stderr",
     "output_type": "stream",
     "text": [
      "100%|██████████| 37/37 [00:12<00:00,  3.01it/s]\n"
     ]
    },
    {
     "name": "stdout",
     "output_type": "stream",
     "text": [
      "Epoch 62/200, Loss: 0.37057569145350844\n"
     ]
    },
    {
     "name": "stderr",
     "output_type": "stream",
     "text": [
      "100%|██████████| 37/37 [00:12<00:00,  3.08it/s]\n"
     ]
    },
    {
     "name": "stdout",
     "output_type": "stream",
     "text": [
      "Epoch 63/200, Loss: 0.417578750421872\n"
     ]
    },
    {
     "name": "stderr",
     "output_type": "stream",
     "text": [
      "100%|██████████| 37/37 [00:12<00:00,  2.95it/s]\n"
     ]
    },
    {
     "name": "stdout",
     "output_type": "stream",
     "text": [
      "Epoch 64/200, Loss: 0.34953613000947076\n"
     ]
    },
    {
     "name": "stderr",
     "output_type": "stream",
     "text": [
      "100%|██████████| 37/37 [00:12<00:00,  2.98it/s]\n"
     ]
    },
    {
     "name": "stdout",
     "output_type": "stream",
     "text": [
      "Epoch 65/200, Loss: 0.3821049784244718\n"
     ]
    },
    {
     "name": "stderr",
     "output_type": "stream",
     "text": [
      "100%|██████████| 37/37 [00:11<00:00,  3.13it/s]\n"
     ]
    },
    {
     "name": "stdout",
     "output_type": "stream",
     "text": [
      "Epoch 66/200, Loss: 0.4309818864029807\n"
     ]
    },
    {
     "name": "stderr",
     "output_type": "stream",
     "text": [
      "100%|██████████| 37/37 [00:12<00:00,  2.94it/s]\n"
     ]
    },
    {
     "name": "stdout",
     "output_type": "stream",
     "text": [
      "Epoch 67/200, Loss: 0.3542425020884823\n"
     ]
    },
    {
     "name": "stderr",
     "output_type": "stream",
     "text": [
      "100%|██████████| 37/37 [00:11<00:00,  3.11it/s]\n"
     ]
    },
    {
     "name": "stdout",
     "output_type": "stream",
     "text": [
      "Epoch 68/200, Loss: 0.3430267454160226\n"
     ]
    },
    {
     "name": "stderr",
     "output_type": "stream",
     "text": [
      "100%|██████████| 37/37 [00:12<00:00,  2.90it/s]\n"
     ]
    },
    {
     "name": "stdout",
     "output_type": "stream",
     "text": [
      "Epoch 69/200, Loss: 0.39806631454744856\n"
     ]
    },
    {
     "name": "stderr",
     "output_type": "stream",
     "text": [
      "100%|██████████| 37/37 [00:12<00:00,  2.96it/s]\n"
     ]
    },
    {
     "name": "stdout",
     "output_type": "stream",
     "text": [
      "Epoch 70/200, Loss: 0.38937905839166126\n"
     ]
    },
    {
     "name": "stderr",
     "output_type": "stream",
     "text": [
      "100%|██████████| 37/37 [00:12<00:00,  3.04it/s]\n"
     ]
    },
    {
     "name": "stdout",
     "output_type": "stream",
     "text": [
      "Epoch 71/200, Loss: 0.3589821885324813\n"
     ]
    },
    {
     "name": "stderr",
     "output_type": "stream",
     "text": [
      "100%|██████████| 37/37 [00:12<00:00,  3.08it/s]\n"
     ]
    },
    {
     "name": "stdout",
     "output_type": "stream",
     "text": [
      "Epoch 72/200, Loss: 0.31735881927045617\n"
     ]
    },
    {
     "name": "stderr",
     "output_type": "stream",
     "text": [
      "100%|██████████| 37/37 [00:12<00:00,  2.99it/s]\n"
     ]
    },
    {
     "name": "stdout",
     "output_type": "stream",
     "text": [
      "Epoch 73/200, Loss: 0.36731996251924615\n"
     ]
    },
    {
     "name": "stderr",
     "output_type": "stream",
     "text": [
      "100%|██████████| 37/37 [00:11<00:00,  3.11it/s]\n"
     ]
    },
    {
     "name": "stdout",
     "output_type": "stream",
     "text": [
      "Epoch 74/200, Loss: 0.3224903478574108\n"
     ]
    },
    {
     "name": "stderr",
     "output_type": "stream",
     "text": [
      "  3%|▎         | 1/37 [00:00<00:14,  2.52it/s]"
     ]
    },
    {
     "name": "stdout",
     "output_type": "stream",
     "text": [
      "Loss improved saving model\n"
     ]
    },
    {
     "name": "stderr",
     "output_type": "stream",
     "text": [
      "100%|██████████| 37/37 [00:13<00:00,  2.80it/s]\n"
     ]
    },
    {
     "name": "stdout",
     "output_type": "stream",
     "text": [
      "Epoch 75/200, Loss: 0.2577089635665352\n"
     ]
    },
    {
     "name": "stderr",
     "output_type": "stream",
     "text": [
      "100%|██████████| 37/37 [00:12<00:00,  2.93it/s]\n"
     ]
    },
    {
     "name": "stdout",
     "output_type": "stream",
     "text": [
      "Epoch 76/200, Loss: 0.3099716461349178\n"
     ]
    },
    {
     "name": "stderr",
     "output_type": "stream",
     "text": [
      "100%|██████████| 37/37 [00:12<00:00,  2.94it/s]\n"
     ]
    },
    {
     "name": "stdout",
     "output_type": "stream",
     "text": [
      "Epoch 77/200, Loss: 0.36714057972302305\n"
     ]
    },
    {
     "name": "stderr",
     "output_type": "stream",
     "text": [
      "100%|██████████| 37/37 [00:11<00:00,  3.17it/s]\n"
     ]
    },
    {
     "name": "stdout",
     "output_type": "stream",
     "text": [
      "Epoch 78/200, Loss: 0.2693616311453484\n"
     ]
    },
    {
     "name": "stderr",
     "output_type": "stream",
     "text": [
      "100%|██████████| 37/37 [00:12<00:00,  3.05it/s]\n"
     ]
    },
    {
     "name": "stdout",
     "output_type": "stream",
     "text": [
      "Epoch 79/200, Loss: 0.3378718252782081\n"
     ]
    },
    {
     "name": "stderr",
     "output_type": "stream",
     "text": [
      "100%|██████████| 37/37 [00:12<00:00,  3.06it/s]\n"
     ]
    },
    {
     "name": "stdout",
     "output_type": "stream",
     "text": [
      "Epoch 80/200, Loss: 0.3170001769146404\n"
     ]
    },
    {
     "name": "stderr",
     "output_type": "stream",
     "text": [
      "100%|██████████| 37/37 [00:12<00:00,  2.89it/s]\n"
     ]
    },
    {
     "name": "stdout",
     "output_type": "stream",
     "text": [
      "Epoch 81/200, Loss: 0.2944831264743934\n"
     ]
    },
    {
     "name": "stderr",
     "output_type": "stream",
     "text": [
      "100%|██████████| 37/37 [00:12<00:00,  2.95it/s]\n"
     ]
    },
    {
     "name": "stdout",
     "output_type": "stream",
     "text": [
      "Epoch 82/200, Loss: 0.25343723097363036\n"
     ]
    },
    {
     "name": "stderr",
     "output_type": "stream",
     "text": [
      "100%|██████████| 37/37 [00:12<00:00,  2.95it/s]\n"
     ]
    },
    {
     "name": "stdout",
     "output_type": "stream",
     "text": [
      "Epoch 83/200, Loss: 0.33918753050469064\n"
     ]
    },
    {
     "name": "stderr",
     "output_type": "stream",
     "text": [
      "100%|██████████| 37/37 [00:11<00:00,  3.24it/s]\n"
     ]
    },
    {
     "name": "stdout",
     "output_type": "stream",
     "text": [
      "Epoch 84/200, Loss: 0.3660124522769773\n"
     ]
    },
    {
     "name": "stderr",
     "output_type": "stream",
     "text": [
      "100%|██████████| 37/37 [00:11<00:00,  3.09it/s]\n"
     ]
    },
    {
     "name": "stdout",
     "output_type": "stream",
     "text": [
      "Epoch 85/200, Loss: 0.3391025902612789\n"
     ]
    },
    {
     "name": "stderr",
     "output_type": "stream",
     "text": [
      "100%|██████████| 37/37 [00:11<00:00,  3.24it/s]\n"
     ]
    },
    {
     "name": "stdout",
     "output_type": "stream",
     "text": [
      "Epoch 86/200, Loss: 0.30921037379954314\n"
     ]
    },
    {
     "name": "stderr",
     "output_type": "stream",
     "text": [
      "100%|██████████| 37/37 [00:12<00:00,  2.97it/s]\n"
     ]
    },
    {
     "name": "stdout",
     "output_type": "stream",
     "text": [
      "Epoch 87/200, Loss: 0.3852650656651806\n"
     ]
    },
    {
     "name": "stderr",
     "output_type": "stream",
     "text": [
      "100%|██████████| 37/37 [00:12<00:00,  2.97it/s]\n"
     ]
    },
    {
     "name": "stdout",
     "output_type": "stream",
     "text": [
      "Epoch 88/200, Loss: 0.29028080026845676\n"
     ]
    },
    {
     "name": "stderr",
     "output_type": "stream",
     "text": [
      "100%|██████████| 37/37 [00:11<00:00,  3.15it/s]\n"
     ]
    },
    {
     "name": "stdout",
     "output_type": "stream",
     "text": [
      "Epoch 89/200, Loss: 0.23751728202040132\n"
     ]
    },
    {
     "name": "stderr",
     "output_type": "stream",
     "text": [
      "100%|██████████| 37/37 [00:12<00:00,  2.97it/s]\n"
     ]
    },
    {
     "name": "stdout",
     "output_type": "stream",
     "text": [
      "Epoch 90/200, Loss: 0.30356354413000314\n"
     ]
    },
    {
     "name": "stderr",
     "output_type": "stream",
     "text": [
      "100%|██████████| 37/37 [00:12<00:00,  3.01it/s]\n"
     ]
    },
    {
     "name": "stdout",
     "output_type": "stream",
     "text": [
      "Epoch 91/200, Loss: 0.288522954381801\n"
     ]
    },
    {
     "name": "stderr",
     "output_type": "stream",
     "text": [
      "100%|██████████| 37/37 [00:11<00:00,  3.10it/s]\n"
     ]
    },
    {
     "name": "stdout",
     "output_type": "stream",
     "text": [
      "Epoch 92/200, Loss: 0.22261805576247137\n"
     ]
    },
    {
     "name": "stderr",
     "output_type": "stream",
     "text": [
      "100%|██████████| 37/37 [00:11<00:00,  3.12it/s]\n"
     ]
    },
    {
     "name": "stdout",
     "output_type": "stream",
     "text": [
      "Epoch 93/200, Loss: 0.27612921742168633\n"
     ]
    },
    {
     "name": "stderr",
     "output_type": "stream",
     "text": [
      "100%|██████████| 37/37 [00:13<00:00,  2.74it/s]\n"
     ]
    },
    {
     "name": "stdout",
     "output_type": "stream",
     "text": [
      "Epoch 94/200, Loss: 0.31312917762511483\n"
     ]
    },
    {
     "name": "stderr",
     "output_type": "stream",
     "text": [
      "100%|██████████| 37/37 [00:11<00:00,  3.20it/s]\n"
     ]
    },
    {
     "name": "stdout",
     "output_type": "stream",
     "text": [
      "Epoch 95/200, Loss: 0.27349633024351017\n"
     ]
    },
    {
     "name": "stderr",
     "output_type": "stream",
     "text": [
      "100%|██████████| 37/37 [00:11<00:00,  3.18it/s]\n"
     ]
    },
    {
     "name": "stdout",
     "output_type": "stream",
     "text": [
      "Epoch 96/200, Loss: 0.2751170951128006\n"
     ]
    },
    {
     "name": "stderr",
     "output_type": "stream",
     "text": [
      "100%|██████████| 37/37 [00:12<00:00,  2.88it/s]\n"
     ]
    },
    {
     "name": "stdout",
     "output_type": "stream",
     "text": [
      "Epoch 97/200, Loss: 0.33161429381853824\n"
     ]
    },
    {
     "name": "stderr",
     "output_type": "stream",
     "text": [
      "100%|██████████| 37/37 [00:12<00:00,  3.05it/s]\n"
     ]
    },
    {
     "name": "stdout",
     "output_type": "stream",
     "text": [
      "Epoch 98/200, Loss: 0.28218993288439675\n"
     ]
    },
    {
     "name": "stderr",
     "output_type": "stream",
     "text": [
      "100%|██████████| 37/37 [00:12<00:00,  3.03it/s]\n"
     ]
    },
    {
     "name": "stdout",
     "output_type": "stream",
     "text": [
      "Epoch 99/200, Loss: 0.2924179173562978\n"
     ]
    },
    {
     "name": "stderr",
     "output_type": "stream",
     "text": [
      "100%|██████████| 37/37 [00:11<00:00,  3.23it/s]\n"
     ]
    },
    {
     "name": "stdout",
     "output_type": "stream",
     "text": [
      "Epoch 100/200, Loss: 0.2553482215307854\n"
     ]
    },
    {
     "name": "stderr",
     "output_type": "stream",
     "text": [
      "100%|██████████| 37/37 [00:12<00:00,  3.00it/s]\n"
     ]
    },
    {
     "name": "stdout",
     "output_type": "stream",
     "text": [
      "Epoch 101/200, Loss: 0.2767154798475472\n"
     ]
    },
    {
     "name": "stderr",
     "output_type": "stream",
     "text": [
      "100%|██████████| 37/37 [00:11<00:00,  3.11it/s]\n"
     ]
    },
    {
     "name": "stdout",
     "output_type": "stream",
     "text": [
      "Epoch 102/200, Loss: 0.29174576765782123\n"
     ]
    },
    {
     "name": "stderr",
     "output_type": "stream",
     "text": [
      "100%|██████████| 37/37 [00:12<00:00,  2.92it/s]\n"
     ]
    },
    {
     "name": "stdout",
     "output_type": "stream",
     "text": [
      "Epoch 103/200, Loss: 0.2804685372516916\n"
     ]
    },
    {
     "name": "stderr",
     "output_type": "stream",
     "text": [
      "100%|██████████| 37/37 [00:11<00:00,  3.21it/s]\n"
     ]
    },
    {
     "name": "stdout",
     "output_type": "stream",
     "text": [
      "Epoch 104/200, Loss: 0.2430491041251131\n"
     ]
    },
    {
     "name": "stderr",
     "output_type": "stream",
     "text": [
      "100%|██████████| 37/37 [00:11<00:00,  3.09it/s]\n"
     ]
    },
    {
     "name": "stdout",
     "output_type": "stream",
     "text": [
      "Epoch 105/200, Loss: 0.2638060616238697\n"
     ]
    },
    {
     "name": "stderr",
     "output_type": "stream",
     "text": [
      "  3%|▎         | 1/37 [00:00<00:09,  3.69it/s]"
     ]
    },
    {
     "name": "stdout",
     "output_type": "stream",
     "text": [
      "Loss improved saving model\n"
     ]
    },
    {
     "name": "stderr",
     "output_type": "stream",
     "text": [
      "100%|██████████| 37/37 [00:12<00:00,  3.00it/s]\n"
     ]
    },
    {
     "name": "stdout",
     "output_type": "stream",
     "text": [
      "Epoch 106/200, Loss: 0.3023555696171683\n"
     ]
    },
    {
     "name": "stderr",
     "output_type": "stream",
     "text": [
      "100%|██████████| 37/37 [00:11<00:00,  3.12it/s]\n"
     ]
    },
    {
     "name": "stdout",
     "output_type": "stream",
     "text": [
      "Epoch 107/200, Loss: 0.22341465955650483\n"
     ]
    },
    {
     "name": "stderr",
     "output_type": "stream",
     "text": [
      "100%|██████████| 37/37 [00:11<00:00,  3.17it/s]\n"
     ]
    },
    {
     "name": "stdout",
     "output_type": "stream",
     "text": [
      "Epoch 108/200, Loss: 0.2657149293696558\n"
     ]
    },
    {
     "name": "stderr",
     "output_type": "stream",
     "text": [
      "100%|██████████| 37/37 [00:13<00:00,  2.83it/s]\n"
     ]
    },
    {
     "name": "stdout",
     "output_type": "stream",
     "text": [
      "Epoch 109/200, Loss: 0.2354242654665801\n"
     ]
    },
    {
     "name": "stderr",
     "output_type": "stream",
     "text": [
      "100%|██████████| 37/37 [00:12<00:00,  2.94it/s]\n"
     ]
    },
    {
     "name": "stdout",
     "output_type": "stream",
     "text": [
      "Epoch 110/200, Loss: 0.2777082429302705\n"
     ]
    },
    {
     "name": "stderr",
     "output_type": "stream",
     "text": [
      "100%|██████████| 37/37 [00:12<00:00,  2.90it/s]\n"
     ]
    },
    {
     "name": "stdout",
     "output_type": "stream",
     "text": [
      "Epoch 111/200, Loss: 0.3110702557902078\n"
     ]
    },
    {
     "name": "stderr",
     "output_type": "stream",
     "text": [
      "100%|██████████| 37/37 [00:12<00:00,  3.03it/s]\n"
     ]
    },
    {
     "name": "stdout",
     "output_type": "stream",
     "text": [
      "Epoch 112/200, Loss: 0.2271203755688023\n"
     ]
    },
    {
     "name": "stderr",
     "output_type": "stream",
     "text": [
      "  3%|▎         | 1/37 [00:00<00:11,  3.16it/s]"
     ]
    },
    {
     "name": "stdout",
     "output_type": "stream",
     "text": [
      "Loss improved saving model\n"
     ]
    },
    {
     "name": "stderr",
     "output_type": "stream",
     "text": [
      "100%|██████████| 37/37 [00:12<00:00,  2.87it/s]\n"
     ]
    },
    {
     "name": "stdout",
     "output_type": "stream",
     "text": [
      "Epoch 113/200, Loss: 0.2884360117445121\n"
     ]
    },
    {
     "name": "stderr",
     "output_type": "stream",
     "text": [
      "100%|██████████| 37/37 [00:11<00:00,  3.21it/s]\n"
     ]
    },
    {
     "name": "stdout",
     "output_type": "stream",
     "text": [
      "Epoch 114/200, Loss: 0.2291345357250523\n"
     ]
    },
    {
     "name": "stderr",
     "output_type": "stream",
     "text": [
      "100%|██████████| 37/37 [00:11<00:00,  3.14it/s]\n"
     ]
    },
    {
     "name": "stdout",
     "output_type": "stream",
     "text": [
      "Epoch 115/200, Loss: 0.27106510591668054\n"
     ]
    },
    {
     "name": "stderr",
     "output_type": "stream",
     "text": [
      "100%|██████████| 37/37 [00:11<00:00,  3.35it/s]\n"
     ]
    },
    {
     "name": "stdout",
     "output_type": "stream",
     "text": [
      "Epoch 116/200, Loss: 0.2042807840576043\n"
     ]
    },
    {
     "name": "stderr",
     "output_type": "stream",
     "text": [
      "100%|██████████| 37/37 [00:11<00:00,  3.10it/s]\n"
     ]
    },
    {
     "name": "stdout",
     "output_type": "stream",
     "text": [
      "Epoch 117/200, Loss: 0.2643619494422062\n"
     ]
    },
    {
     "name": "stderr",
     "output_type": "stream",
     "text": [
      "  3%|▎         | 1/37 [00:00<00:12,  2.95it/s]"
     ]
    },
    {
     "name": "stdout",
     "output_type": "stream",
     "text": [
      "Loss improved saving model\n"
     ]
    },
    {
     "name": "stderr",
     "output_type": "stream",
     "text": [
      "100%|██████████| 37/37 [00:11<00:00,  3.14it/s]\n"
     ]
    },
    {
     "name": "stdout",
     "output_type": "stream",
     "text": [
      "Epoch 118/200, Loss: 0.1984510756586049\n"
     ]
    },
    {
     "name": "stderr",
     "output_type": "stream",
     "text": [
      "100%|██████████| 37/37 [00:11<00:00,  3.13it/s]\n"
     ]
    },
    {
     "name": "stdout",
     "output_type": "stream",
     "text": [
      "Epoch 119/200, Loss: 0.20703124940193987\n"
     ]
    },
    {
     "name": "stderr",
     "output_type": "stream",
     "text": [
      "100%|██████████| 37/37 [00:11<00:00,  3.29it/s]\n"
     ]
    },
    {
     "name": "stdout",
     "output_type": "stream",
     "text": [
      "Epoch 120/200, Loss: 0.20407314000097482\n"
     ]
    },
    {
     "name": "stderr",
     "output_type": "stream",
     "text": [
      "100%|██████████| 37/37 [00:11<00:00,  3.16it/s]\n"
     ]
    },
    {
     "name": "stdout",
     "output_type": "stream",
     "text": [
      "Epoch 121/200, Loss: 0.18090370282933518\n"
     ]
    },
    {
     "name": "stderr",
     "output_type": "stream",
     "text": [
      "100%|██████████| 37/37 [00:12<00:00,  2.92it/s]\n"
     ]
    },
    {
     "name": "stdout",
     "output_type": "stream",
     "text": [
      "Epoch 122/200, Loss: 0.19836456434952246\n"
     ]
    },
    {
     "name": "stderr",
     "output_type": "stream",
     "text": [
      "100%|██████████| 37/37 [00:12<00:00,  2.88it/s]\n"
     ]
    },
    {
     "name": "stdout",
     "output_type": "stream",
     "text": [
      "Epoch 123/200, Loss: 0.21785093366294292\n"
     ]
    },
    {
     "name": "stderr",
     "output_type": "stream",
     "text": [
      "100%|██████████| 37/37 [00:11<00:00,  3.16it/s]\n"
     ]
    },
    {
     "name": "stdout",
     "output_type": "stream",
     "text": [
      "Epoch 124/200, Loss: 0.2133338911066184\n"
     ]
    },
    {
     "name": "stderr",
     "output_type": "stream",
     "text": [
      "100%|██████████| 37/37 [00:11<00:00,  3.26it/s]\n"
     ]
    },
    {
     "name": "stdout",
     "output_type": "stream",
     "text": [
      "Epoch 125/200, Loss: 0.2044176526327391\n"
     ]
    },
    {
     "name": "stderr",
     "output_type": "stream",
     "text": [
      "100%|██████████| 37/37 [00:11<00:00,  3.20it/s]\n"
     ]
    },
    {
     "name": "stdout",
     "output_type": "stream",
     "text": [
      "Epoch 126/200, Loss: 0.18675257955854002\n"
     ]
    },
    {
     "name": "stderr",
     "output_type": "stream",
     "text": [
      "100%|██████████| 37/37 [00:13<00:00,  2.81it/s]\n"
     ]
    },
    {
     "name": "stdout",
     "output_type": "stream",
     "text": [
      "Epoch 127/200, Loss: 0.23025068384570044\n"
     ]
    },
    {
     "name": "stderr",
     "output_type": "stream",
     "text": [
      "  3%|▎         | 1/37 [00:00<00:13,  2.61it/s]"
     ]
    },
    {
     "name": "stdout",
     "output_type": "stream",
     "text": [
      "Loss improved saving model\n"
     ]
    },
    {
     "name": "stderr",
     "output_type": "stream",
     "text": [
      "100%|██████████| 37/37 [00:11<00:00,  3.10it/s]\n"
     ]
    },
    {
     "name": "stdout",
     "output_type": "stream",
     "text": [
      "Epoch 128/200, Loss: 0.21210592124913188\n"
     ]
    },
    {
     "name": "stderr",
     "output_type": "stream",
     "text": [
      "100%|██████████| 37/37 [00:11<00:00,  3.10it/s]\n"
     ]
    },
    {
     "name": "stdout",
     "output_type": "stream",
     "text": [
      "Epoch 129/200, Loss: 0.20797752644967388\n"
     ]
    },
    {
     "name": "stderr",
     "output_type": "stream",
     "text": [
      "100%|██████████| 37/37 [00:12<00:00,  2.95it/s]\n"
     ]
    },
    {
     "name": "stdout",
     "output_type": "stream",
     "text": [
      "Epoch 130/200, Loss: 0.1764182273761646\n"
     ]
    },
    {
     "name": "stderr",
     "output_type": "stream",
     "text": [
      "  0%|          | 0/37 [00:00<?, ?it/s]"
     ]
    },
    {
     "name": "stdout",
     "output_type": "stream",
     "text": [
      "Loss improved saving model\n"
     ]
    },
    {
     "name": "stderr",
     "output_type": "stream",
     "text": [
      "100%|██████████| 37/37 [00:12<00:00,  3.05it/s]\n"
     ]
    },
    {
     "name": "stdout",
     "output_type": "stream",
     "text": [
      "Epoch 131/200, Loss: 0.20811611218226922\n"
     ]
    },
    {
     "name": "stderr",
     "output_type": "stream",
     "text": [
      "100%|██████████| 37/37 [00:12<00:00,  3.05it/s]\n"
     ]
    },
    {
     "name": "stdout",
     "output_type": "stream",
     "text": [
      "Epoch 132/200, Loss: 0.24709045691264642\n"
     ]
    },
    {
     "name": "stderr",
     "output_type": "stream",
     "text": [
      "100%|██████████| 37/37 [00:12<00:00,  2.95it/s]\n"
     ]
    },
    {
     "name": "stdout",
     "output_type": "stream",
     "text": [
      "Epoch 133/200, Loss: 0.20120131813996547\n"
     ]
    },
    {
     "name": "stderr",
     "output_type": "stream",
     "text": [
      "100%|██████████| 37/37 [00:12<00:00,  3.00it/s]\n"
     ]
    },
    {
     "name": "stdout",
     "output_type": "stream",
     "text": [
      "Epoch 134/200, Loss: 0.20986080719007028\n"
     ]
    },
    {
     "name": "stderr",
     "output_type": "stream",
     "text": [
      "100%|██████████| 37/37 [00:13<00:00,  2.80it/s]\n"
     ]
    },
    {
     "name": "stdout",
     "output_type": "stream",
     "text": [
      "Epoch 135/200, Loss: 0.21273406258305988\n"
     ]
    },
    {
     "name": "stderr",
     "output_type": "stream",
     "text": [
      "  3%|▎         | 1/37 [00:00<00:11,  3.17it/s]"
     ]
    },
    {
     "name": "stdout",
     "output_type": "stream",
     "text": [
      "Loss improved saving model\n"
     ]
    },
    {
     "name": "stderr",
     "output_type": "stream",
     "text": [
      "100%|██████████| 37/37 [00:12<00:00,  2.90it/s]\n"
     ]
    },
    {
     "name": "stdout",
     "output_type": "stream",
     "text": [
      "Epoch 136/200, Loss: 0.21456939088331686\n"
     ]
    },
    {
     "name": "stderr",
     "output_type": "stream",
     "text": [
      "100%|██████████| 37/37 [00:12<00:00,  2.93it/s]\n"
     ]
    },
    {
     "name": "stdout",
     "output_type": "stream",
     "text": [
      "Epoch 137/200, Loss: 0.2321438093201534\n"
     ]
    },
    {
     "name": "stderr",
     "output_type": "stream",
     "text": [
      "100%|██████████| 37/37 [00:11<00:00,  3.16it/s]\n"
     ]
    },
    {
     "name": "stdout",
     "output_type": "stream",
     "text": [
      "Epoch 138/200, Loss: 0.27964691138750797\n"
     ]
    },
    {
     "name": "stderr",
     "output_type": "stream",
     "text": [
      "100%|██████████| 37/37 [00:12<00:00,  2.85it/s]\n"
     ]
    },
    {
     "name": "stdout",
     "output_type": "stream",
     "text": [
      "Epoch 139/200, Loss: 0.21430048130654\n"
     ]
    },
    {
     "name": "stderr",
     "output_type": "stream",
     "text": [
      "  3%|▎         | 1/37 [00:00<00:11,  3.10it/s]"
     ]
    },
    {
     "name": "stdout",
     "output_type": "stream",
     "text": [
      "Loss improved saving model\n"
     ]
    },
    {
     "name": "stderr",
     "output_type": "stream",
     "text": [
      "100%|██████████| 37/37 [00:12<00:00,  2.96it/s]\n"
     ]
    },
    {
     "name": "stdout",
     "output_type": "stream",
     "text": [
      "Epoch 140/200, Loss: 0.19316209576419882\n"
     ]
    },
    {
     "name": "stderr",
     "output_type": "stream",
     "text": [
      "100%|██████████| 37/37 [00:12<00:00,  2.95it/s]\n"
     ]
    },
    {
     "name": "stdout",
     "output_type": "stream",
     "text": [
      "Epoch 141/200, Loss: 0.1776883753731444\n"
     ]
    },
    {
     "name": "stderr",
     "output_type": "stream",
     "text": [
      "100%|██████████| 37/37 [00:12<00:00,  2.91it/s]\n"
     ]
    },
    {
     "name": "stdout",
     "output_type": "stream",
     "text": [
      "Epoch 142/200, Loss: 0.19458810849769695\n"
     ]
    },
    {
     "name": "stderr",
     "output_type": "stream",
     "text": [
      "  0%|          | 0/37 [00:00<?, ?it/s]"
     ]
    },
    {
     "name": "stdout",
     "output_type": "stream",
     "text": [
      "Loss improved saving model\n"
     ]
    },
    {
     "name": "stderr",
     "output_type": "stream",
     "text": [
      "100%|██████████| 37/37 [00:12<00:00,  2.99it/s]\n"
     ]
    },
    {
     "name": "stdout",
     "output_type": "stream",
     "text": [
      "Epoch 143/200, Loss: 0.22162624011168608\n"
     ]
    },
    {
     "name": "stderr",
     "output_type": "stream",
     "text": [
      "100%|██████████| 37/37 [00:12<00:00,  3.01it/s]\n"
     ]
    },
    {
     "name": "stdout",
     "output_type": "stream",
     "text": [
      "Epoch 144/200, Loss: 0.1799009305963645\n"
     ]
    },
    {
     "name": "stderr",
     "output_type": "stream",
     "text": [
      "100%|██████████| 37/37 [00:12<00:00,  2.96it/s]\n"
     ]
    },
    {
     "name": "stdout",
     "output_type": "stream",
     "text": [
      "Epoch 145/200, Loss: 0.2237645851357563\n"
     ]
    },
    {
     "name": "stderr",
     "output_type": "stream",
     "text": [
      "100%|██████████| 37/37 [00:12<00:00,  3.04it/s]\n"
     ]
    },
    {
     "name": "stdout",
     "output_type": "stream",
     "text": [
      "Epoch 146/200, Loss: 0.18650469109013273\n"
     ]
    },
    {
     "name": "stderr",
     "output_type": "stream",
     "text": [
      "  3%|▎         | 1/37 [00:00<00:13,  2.72it/s]"
     ]
    },
    {
     "name": "stdout",
     "output_type": "stream",
     "text": [
      "Loss improved saving model\n"
     ]
    },
    {
     "name": "stderr",
     "output_type": "stream",
     "text": [
      "100%|██████████| 37/37 [00:11<00:00,  3.10it/s]\n"
     ]
    },
    {
     "name": "stdout",
     "output_type": "stream",
     "text": [
      "Epoch 147/200, Loss: 0.20271450608968733\n"
     ]
    },
    {
     "name": "stderr",
     "output_type": "stream",
     "text": [
      "  3%|▎         | 1/37 [00:00<00:19,  1.82it/s]"
     ]
    },
    {
     "name": "stdout",
     "output_type": "stream",
     "text": [
      "Loss improved saving model\n"
     ]
    },
    {
     "name": "stderr",
     "output_type": "stream",
     "text": [
      "100%|██████████| 37/37 [00:12<00:00,  2.97it/s]\n"
     ]
    },
    {
     "name": "stdout",
     "output_type": "stream",
     "text": [
      "Epoch 148/200, Loss: 0.19353813361477207\n"
     ]
    },
    {
     "name": "stderr",
     "output_type": "stream",
     "text": [
      "100%|██████████| 37/37 [00:11<00:00,  3.10it/s]\n"
     ]
    },
    {
     "name": "stdout",
     "output_type": "stream",
     "text": [
      "Epoch 149/200, Loss: 0.22907917428661037\n"
     ]
    },
    {
     "name": "stderr",
     "output_type": "stream",
     "text": [
      "100%|██████████| 37/37 [00:12<00:00,  3.03it/s]\n"
     ]
    },
    {
     "name": "stdout",
     "output_type": "stream",
     "text": [
      "Epoch 150/200, Loss: 0.15592806489886463\n"
     ]
    },
    {
     "name": "stderr",
     "output_type": "stream",
     "text": [
      "100%|██████████| 37/37 [00:11<00:00,  3.34it/s]\n"
     ]
    },
    {
     "name": "stdout",
     "output_type": "stream",
     "text": [
      "Epoch 151/200, Loss: 0.15377275450004113\n"
     ]
    },
    {
     "name": "stderr",
     "output_type": "stream",
     "text": [
      "100%|██████████| 37/37 [00:12<00:00,  2.98it/s]\n"
     ]
    },
    {
     "name": "stdout",
     "output_type": "stream",
     "text": [
      "Epoch 152/200, Loss: 0.22601171185841432\n"
     ]
    },
    {
     "name": "stderr",
     "output_type": "stream",
     "text": [
      "100%|██████████| 37/37 [00:12<00:00,  3.07it/s]\n"
     ]
    },
    {
     "name": "stdout",
     "output_type": "stream",
     "text": [
      "Epoch 153/200, Loss: 0.14279470699058996\n"
     ]
    },
    {
     "name": "stderr",
     "output_type": "stream",
     "text": [
      "100%|██████████| 37/37 [00:11<00:00,  3.14it/s]\n"
     ]
    },
    {
     "name": "stdout",
     "output_type": "stream",
     "text": [
      "Epoch 154/200, Loss: 0.14752840538282652\n"
     ]
    },
    {
     "name": "stderr",
     "output_type": "stream",
     "text": [
      "100%|██████████| 37/37 [00:12<00:00,  3.00it/s]\n"
     ]
    },
    {
     "name": "stdout",
     "output_type": "stream",
     "text": [
      "Epoch 155/200, Loss: 0.18702353857356954\n"
     ]
    },
    {
     "name": "stderr",
     "output_type": "stream",
     "text": [
      "100%|██████████| 37/37 [00:11<00:00,  3.10it/s]\n"
     ]
    },
    {
     "name": "stdout",
     "output_type": "stream",
     "text": [
      "Epoch 156/200, Loss: 0.18356105690872346\n"
     ]
    },
    {
     "name": "stderr",
     "output_type": "stream",
     "text": [
      "100%|██████████| 37/37 [00:13<00:00,  2.84it/s]\n"
     ]
    },
    {
     "name": "stdout",
     "output_type": "stream",
     "text": [
      "Epoch 157/200, Loss: 0.19208584952998806\n"
     ]
    },
    {
     "name": "stderr",
     "output_type": "stream",
     "text": [
      "100%|██████████| 37/37 [00:11<00:00,  3.09it/s]\n"
     ]
    },
    {
     "name": "stdout",
     "output_type": "stream",
     "text": [
      "Epoch 158/200, Loss: 0.1525345413024361\n"
     ]
    },
    {
     "name": "stderr",
     "output_type": "stream",
     "text": [
      "100%|██████████| 37/37 [00:12<00:00,  2.91it/s]\n"
     ]
    },
    {
     "name": "stdout",
     "output_type": "stream",
     "text": [
      "Epoch 159/200, Loss: 0.19248416562338133\n"
     ]
    },
    {
     "name": "stderr",
     "output_type": "stream",
     "text": [
      "100%|██████████| 37/37 [00:12<00:00,  2.93it/s]\n"
     ]
    },
    {
     "name": "stdout",
     "output_type": "stream",
     "text": [
      "Epoch 160/200, Loss: 0.22024156360207375\n"
     ]
    },
    {
     "name": "stderr",
     "output_type": "stream",
     "text": [
      "  3%|▎         | 1/37 [00:00<00:17,  2.10it/s]"
     ]
    },
    {
     "name": "stdout",
     "output_type": "stream",
     "text": [
      "Loss improved saving model\n"
     ]
    },
    {
     "name": "stderr",
     "output_type": "stream",
     "text": [
      "  5%|▌         | 2/37 [00:00<00:13,  2.67it/s]"
     ]
    },
    {
     "name": "stdout",
     "output_type": "stream",
     "text": [
      "Loss improved saving model\n"
     ]
    },
    {
     "name": "stderr",
     "output_type": "stream",
     "text": [
      "100%|██████████| 37/37 [00:12<00:00,  2.99it/s]\n"
     ]
    },
    {
     "name": "stdout",
     "output_type": "stream",
     "text": [
      "Epoch 161/200, Loss: 0.1306575051997159\n"
     ]
    },
    {
     "name": "stderr",
     "output_type": "stream",
     "text": [
      "100%|██████████| 37/37 [00:12<00:00,  3.00it/s]\n"
     ]
    },
    {
     "name": "stdout",
     "output_type": "stream",
     "text": [
      "Epoch 162/200, Loss: 0.15072307298312315\n"
     ]
    },
    {
     "name": "stderr",
     "output_type": "stream",
     "text": [
      "100%|██████████| 37/37 [00:12<00:00,  2.96it/s]\n"
     ]
    },
    {
     "name": "stdout",
     "output_type": "stream",
     "text": [
      "Epoch 163/200, Loss: 0.13191885849108567\n"
     ]
    },
    {
     "name": "stderr",
     "output_type": "stream",
     "text": [
      "100%|██████████| 37/37 [00:12<00:00,  3.06it/s]\n"
     ]
    },
    {
     "name": "stdout",
     "output_type": "stream",
     "text": [
      "Epoch 164/200, Loss: 0.23167472982728804\n"
     ]
    },
    {
     "name": "stderr",
     "output_type": "stream",
     "text": [
      "100%|██████████| 37/37 [00:13<00:00,  2.79it/s]\n"
     ]
    },
    {
     "name": "stdout",
     "output_type": "stream",
     "text": [
      "Epoch 165/200, Loss: 0.1822998786053142\n"
     ]
    },
    {
     "name": "stderr",
     "output_type": "stream",
     "text": [
      "100%|██████████| 37/37 [00:12<00:00,  3.01it/s]\n"
     ]
    },
    {
     "name": "stdout",
     "output_type": "stream",
     "text": [
      "Epoch 166/200, Loss: 0.1584913350601454\n"
     ]
    },
    {
     "name": "stderr",
     "output_type": "stream",
     "text": [
      "100%|██████████| 37/37 [00:12<00:00,  2.86it/s]\n"
     ]
    },
    {
     "name": "stdout",
     "output_type": "stream",
     "text": [
      "Epoch 167/200, Loss: 0.15277437025630797\n"
     ]
    },
    {
     "name": "stderr",
     "output_type": "stream",
     "text": [
      "100%|██████████| 37/37 [00:11<00:00,  3.14it/s]\n"
     ]
    },
    {
     "name": "stdout",
     "output_type": "stream",
     "text": [
      "Epoch 168/200, Loss: 0.14741493142939902\n"
     ]
    },
    {
     "name": "stderr",
     "output_type": "stream",
     "text": [
      "  0%|          | 0/37 [00:00<?, ?it/s]"
     ]
    },
    {
     "name": "stdout",
     "output_type": "stream",
     "text": [
      "Loss improved saving model\n"
     ]
    },
    {
     "name": "stderr",
     "output_type": "stream",
     "text": [
      "100%|██████████| 37/37 [00:13<00:00,  2.83it/s]\n"
     ]
    },
    {
     "name": "stdout",
     "output_type": "stream",
     "text": [
      "Epoch 169/200, Loss: 0.13782599775372323\n"
     ]
    },
    {
     "name": "stderr",
     "output_type": "stream",
     "text": [
      "100%|██████████| 37/37 [00:12<00:00,  3.07it/s]\n"
     ]
    },
    {
     "name": "stdout",
     "output_type": "stream",
     "text": [
      "Epoch 170/200, Loss: 0.20467330843210219\n"
     ]
    },
    {
     "name": "stderr",
     "output_type": "stream",
     "text": [
      "  3%|▎         | 1/37 [00:00<00:24,  1.47it/s]"
     ]
    },
    {
     "name": "stdout",
     "output_type": "stream",
     "text": [
      "Loss improved saving model\n"
     ]
    },
    {
     "name": "stderr",
     "output_type": "stream",
     "text": [
      "100%|██████████| 37/37 [00:12<00:00,  2.89it/s]\n"
     ]
    },
    {
     "name": "stdout",
     "output_type": "stream",
     "text": [
      "Epoch 171/200, Loss: 0.14817344805678806\n"
     ]
    },
    {
     "name": "stderr",
     "output_type": "stream",
     "text": [
      "100%|██████████| 37/37 [00:11<00:00,  3.21it/s]\n"
     ]
    },
    {
     "name": "stdout",
     "output_type": "stream",
     "text": [
      "Epoch 172/200, Loss: 0.1425497039105441\n"
     ]
    },
    {
     "name": "stderr",
     "output_type": "stream",
     "text": [
      "100%|██████████| 37/37 [00:12<00:00,  3.04it/s]\n"
     ]
    },
    {
     "name": "stdout",
     "output_type": "stream",
     "text": [
      "Epoch 173/200, Loss: 0.14395642688950977\n"
     ]
    },
    {
     "name": "stderr",
     "output_type": "stream",
     "text": [
      "100%|██████████| 37/37 [00:12<00:00,  2.89it/s]\n"
     ]
    },
    {
     "name": "stdout",
     "output_type": "stream",
     "text": [
      "Epoch 174/200, Loss: 0.1666257239032436\n"
     ]
    },
    {
     "name": "stderr",
     "output_type": "stream",
     "text": [
      "100%|██████████| 37/37 [00:12<00:00,  3.01it/s]\n"
     ]
    },
    {
     "name": "stdout",
     "output_type": "stream",
     "text": [
      "Epoch 175/200, Loss: 0.1762410014223408\n"
     ]
    },
    {
     "name": "stderr",
     "output_type": "stream",
     "text": [
      "100%|██████████| 37/37 [00:11<00:00,  3.15it/s]\n"
     ]
    },
    {
     "name": "stdout",
     "output_type": "stream",
     "text": [
      "Epoch 176/200, Loss: 0.157638110075448\n"
     ]
    },
    {
     "name": "stderr",
     "output_type": "stream",
     "text": [
      "100%|██████████| 37/37 [00:12<00:00,  3.08it/s]\n"
     ]
    },
    {
     "name": "stdout",
     "output_type": "stream",
     "text": [
      "Epoch 177/200, Loss: 0.1595820843529057\n"
     ]
    },
    {
     "name": "stderr",
     "output_type": "stream",
     "text": [
      "100%|██████████| 37/37 [00:12<00:00,  3.07it/s]\n"
     ]
    },
    {
     "name": "stdout",
     "output_type": "stream",
     "text": [
      "Epoch 178/200, Loss: 0.14274397477910325\n"
     ]
    },
    {
     "name": "stderr",
     "output_type": "stream",
     "text": [
      "100%|██████████| 37/37 [00:11<00:00,  3.18it/s]\n"
     ]
    },
    {
     "name": "stdout",
     "output_type": "stream",
     "text": [
      "Epoch 179/200, Loss: 0.22359431862831114\n"
     ]
    },
    {
     "name": "stderr",
     "output_type": "stream",
     "text": [
      "100%|██████████| 37/37 [00:12<00:00,  3.01it/s]\n"
     ]
    },
    {
     "name": "stdout",
     "output_type": "stream",
     "text": [
      "Epoch 180/200, Loss: 0.21040278598263457\n"
     ]
    },
    {
     "name": "stderr",
     "output_type": "stream",
     "text": [
      "100%|██████████| 37/37 [00:12<00:00,  2.89it/s]\n"
     ]
    },
    {
     "name": "stdout",
     "output_type": "stream",
     "text": [
      "Epoch 181/200, Loss: 0.19554036096141145\n"
     ]
    },
    {
     "name": "stderr",
     "output_type": "stream",
     "text": [
      "100%|██████████| 37/37 [00:11<00:00,  3.18it/s]\n"
     ]
    },
    {
     "name": "stdout",
     "output_type": "stream",
     "text": [
      "Epoch 182/200, Loss: 0.14134624303998172\n"
     ]
    },
    {
     "name": "stderr",
     "output_type": "stream",
     "text": [
      "100%|██████████| 37/37 [00:11<00:00,  3.11it/s]\n"
     ]
    },
    {
     "name": "stdout",
     "output_type": "stream",
     "text": [
      "Epoch 183/200, Loss: 0.15847780037570644\n"
     ]
    },
    {
     "name": "stderr",
     "output_type": "stream",
     "text": [
      "100%|██████████| 37/37 [00:13<00:00,  2.72it/s]\n"
     ]
    },
    {
     "name": "stdout",
     "output_type": "stream",
     "text": [
      "Epoch 184/200, Loss: 0.14794627421611065\n"
     ]
    },
    {
     "name": "stderr",
     "output_type": "stream",
     "text": [
      "100%|██████████| 37/37 [00:10<00:00,  3.40it/s]\n"
     ]
    },
    {
     "name": "stdout",
     "output_type": "stream",
     "text": [
      "Epoch 185/200, Loss: 0.1488913112959346\n"
     ]
    },
    {
     "name": "stderr",
     "output_type": "stream",
     "text": [
      "100%|██████████| 37/37 [00:12<00:00,  3.05it/s]\n"
     ]
    },
    {
     "name": "stdout",
     "output_type": "stream",
     "text": [
      "Epoch 186/200, Loss: 0.15574356899068162\n"
     ]
    },
    {
     "name": "stderr",
     "output_type": "stream",
     "text": [
      "100%|██████████| 37/37 [00:12<00:00,  2.91it/s]\n"
     ]
    },
    {
     "name": "stdout",
     "output_type": "stream",
     "text": [
      "Epoch 187/200, Loss: 0.13318649523967022\n"
     ]
    },
    {
     "name": "stderr",
     "output_type": "stream",
     "text": [
      "  3%|▎         | 1/37 [00:00<00:15,  2.36it/s]"
     ]
    },
    {
     "name": "stdout",
     "output_type": "stream",
     "text": [
      "Loss improved saving model\n"
     ]
    },
    {
     "name": "stderr",
     "output_type": "stream",
     "text": [
      "100%|██████████| 37/37 [00:12<00:00,  2.93it/s]\n"
     ]
    },
    {
     "name": "stdout",
     "output_type": "stream",
     "text": [
      "Epoch 188/200, Loss: 0.1693962744522739\n"
     ]
    },
    {
     "name": "stderr",
     "output_type": "stream",
     "text": [
      "100%|██████████| 37/37 [00:12<00:00,  3.00it/s]\n"
     ]
    },
    {
     "name": "stdout",
     "output_type": "stream",
     "text": [
      "Epoch 189/200, Loss: 0.10946515127613737\n"
     ]
    },
    {
     "name": "stderr",
     "output_type": "stream",
     "text": [
      "100%|██████████| 37/37 [00:12<00:00,  2.87it/s]\n"
     ]
    },
    {
     "name": "stdout",
     "output_type": "stream",
     "text": [
      "Epoch 190/200, Loss: 0.12720063052467398\n"
     ]
    },
    {
     "name": "stderr",
     "output_type": "stream",
     "text": [
      "  3%|▎         | 1/37 [00:00<00:14,  2.41it/s]"
     ]
    },
    {
     "name": "stdout",
     "output_type": "stream",
     "text": [
      "Loss improved saving model\n"
     ]
    },
    {
     "name": "stderr",
     "output_type": "stream",
     "text": [
      "  5%|▌         | 2/37 [00:00<00:13,  2.67it/s]"
     ]
    },
    {
     "name": "stdout",
     "output_type": "stream",
     "text": [
      "Loss improved saving model\n"
     ]
    },
    {
     "name": "stderr",
     "output_type": "stream",
     "text": [
      "  8%|▊         | 3/37 [00:00<00:10,  3.22it/s]"
     ]
    },
    {
     "name": "stdout",
     "output_type": "stream",
     "text": [
      "Loss improved saving model\n"
     ]
    },
    {
     "name": "stderr",
     "output_type": "stream",
     "text": [
      "100%|██████████| 37/37 [00:12<00:00,  2.93it/s]\n"
     ]
    },
    {
     "name": "stdout",
     "output_type": "stream",
     "text": [
      "Epoch 191/200, Loss: 0.15328148214398202\n"
     ]
    },
    {
     "name": "stderr",
     "output_type": "stream",
     "text": [
      "100%|██████████| 37/37 [00:12<00:00,  3.05it/s]\n"
     ]
    },
    {
     "name": "stdout",
     "output_type": "stream",
     "text": [
      "Epoch 192/200, Loss: 0.13049350563738796\n"
     ]
    },
    {
     "name": "stderr",
     "output_type": "stream",
     "text": [
      "100%|██████████| 37/37 [00:12<00:00,  3.06it/s]\n"
     ]
    },
    {
     "name": "stdout",
     "output_type": "stream",
     "text": [
      "Epoch 193/200, Loss: 0.17287755078560596\n"
     ]
    },
    {
     "name": "stderr",
     "output_type": "stream",
     "text": [
      "100%|██████████| 37/37 [00:11<00:00,  3.11it/s]\n"
     ]
    },
    {
     "name": "stdout",
     "output_type": "stream",
     "text": [
      "Epoch 194/200, Loss: 0.18017237397464544\n"
     ]
    },
    {
     "name": "stderr",
     "output_type": "stream",
     "text": [
      "100%|██████████| 37/37 [00:11<00:00,  3.15it/s]\n"
     ]
    },
    {
     "name": "stdout",
     "output_type": "stream",
     "text": [
      "Epoch 195/200, Loss: 0.16422256067797944\n"
     ]
    },
    {
     "name": "stderr",
     "output_type": "stream",
     "text": [
      "  3%|▎         | 1/37 [00:00<00:13,  2.71it/s]"
     ]
    },
    {
     "name": "stdout",
     "output_type": "stream",
     "text": [
      "Loss improved saving model\n"
     ]
    },
    {
     "name": "stderr",
     "output_type": "stream",
     "text": [
      "  5%|▌         | 2/37 [00:00<00:15,  2.27it/s]"
     ]
    },
    {
     "name": "stdout",
     "output_type": "stream",
     "text": [
      "Loss improved saving model\n"
     ]
    },
    {
     "name": "stderr",
     "output_type": "stream",
     "text": [
      "100%|██████████| 37/37 [00:11<00:00,  3.19it/s]\n"
     ]
    },
    {
     "name": "stdout",
     "output_type": "stream",
     "text": [
      "Epoch 196/200, Loss: 0.13154510494825003\n"
     ]
    },
    {
     "name": "stderr",
     "output_type": "stream",
     "text": [
      "100%|██████████| 37/37 [00:12<00:00,  3.05it/s]\n"
     ]
    },
    {
     "name": "stdout",
     "output_type": "stream",
     "text": [
      "Epoch 197/200, Loss: 0.1278024604352745\n"
     ]
    },
    {
     "name": "stderr",
     "output_type": "stream",
     "text": [
      "100%|██████████| 37/37 [00:12<00:00,  2.92it/s]\n"
     ]
    },
    {
     "name": "stdout",
     "output_type": "stream",
     "text": [
      "Epoch 198/200, Loss: 0.14424395929317216\n"
     ]
    },
    {
     "name": "stderr",
     "output_type": "stream",
     "text": [
      "  3%|▎         | 1/37 [00:00<00:17,  2.08it/s]"
     ]
    },
    {
     "name": "stdout",
     "output_type": "stream",
     "text": [
      "Loss improved saving model\n"
     ]
    },
    {
     "name": "stderr",
     "output_type": "stream",
     "text": [
      "100%|██████████| 37/37 [00:11<00:00,  3.15it/s]\n"
     ]
    },
    {
     "name": "stdout",
     "output_type": "stream",
     "text": [
      "Epoch 199/200, Loss: 0.1306322467246571\n"
     ]
    },
    {
     "name": "stderr",
     "output_type": "stream",
     "text": [
      "  3%|▎         | 1/37 [00:00<00:06,  5.19it/s]"
     ]
    },
    {
     "name": "stdout",
     "output_type": "stream",
     "text": [
      "Loss improved saving model\n"
     ]
    },
    {
     "name": "stderr",
     "output_type": "stream",
     "text": [
      "100%|██████████| 37/37 [00:11<00:00,  3.11it/s]"
     ]
    },
    {
     "name": "stdout",
     "output_type": "stream",
     "text": [
      "Epoch 200/200, Loss: 0.13329847746604198\n"
     ]
    },
    {
     "name": "stderr",
     "output_type": "stream",
     "text": [
      "\n"
     ]
    }
   ],
   "source": [
    "from tqdm import tqdm\n",
    "best_loss = 100.0\n",
    "num_epochs = 200\n",
    "from torch.utils.tensorboard import SummaryWriter\n",
    "\n",
    "\n",
    "writer = SummaryWriter('logs/flakyXbert_300_seed123456')\n",
    "epoch_loss_list = []\n",
    "for epoch in range(num_epochs):\n",
    "    total_loss = 0.01\n",
    "    siamese_network.train()\n",
    "    for batch in tqdm(train_dataloader):\n",
    "\n",
    "        labels = (batch['label']).to(device)\n",
    "        batch_anchor = (batch['anchor']).to(device)\n",
    "        batch_positive = (batch['positive']).to(device)\n",
    "        batch_negative = (batch['negative']).to(device)\n",
    "\n",
    "        anchor_output = siamese_network(batch_anchor)\n",
    "        positive_out = siamese_network(batch_positive)\n",
    "        negative_out = siamese_network(batch_negative)\n",
    "\n",
    "        loss = criterion(anchor_output, positive_out, negative_out)\n",
    "        optimizer.zero_grad()\n",
    "        loss.backward()\n",
    "        # torch.nn.utils.clip_grad_norm_(siamese_network.parameters(), max_norm=2.0)        \n",
    "        optimizer.step()\n",
    "        # scheduler.step()\n",
    "        writer.add_scalar('Training Loss', loss.item(), epoch * len(train_dataloader) + i)\n",
    "        total_loss += loss.item()\n",
    "        if total_loss <= best_loss:\n",
    "            # print(f\"Epoch {epoch+1}/{num_epochs}, Loss: {total_loss / len(train_dataloader)}\")\n",
    "            print(\"Loss improved saving model\")\n",
    "            torch.save(siamese_network.state_dict(), 'flakyXbert_augExp2.pth')\n",
    "            best_loss = total_loss\n",
    "        \n",
    "            \n",
    "    print(f\"Epoch {epoch+1}/{num_epochs}, Loss: {total_loss / len(train_dataloader)}\")\n",
    "    epoch_loss_list.append(f\"Epoch {epoch+1}/{num_epochs}, Loss: {total_loss / len(train_dataloader)}\")\n",
    "    "
   ]
  },
  {
   "cell_type": "code",
   "execution_count": 47,
   "metadata": {},
   "outputs": [
    {
     "data": {
      "text/plain": [
       "['Epoch 181/200, Loss: 0.19554036096141145',\n",
       " 'Epoch 182/200, Loss: 0.14134624303998172',\n",
       " 'Epoch 183/200, Loss: 0.15847780037570644',\n",
       " 'Epoch 184/200, Loss: 0.14794627421611065',\n",
       " 'Epoch 185/200, Loss: 0.1488913112959346',\n",
       " 'Epoch 186/200, Loss: 0.15574356899068162',\n",
       " 'Epoch 187/200, Loss: 0.13318649523967022',\n",
       " 'Epoch 188/200, Loss: 0.1693962744522739',\n",
       " 'Epoch 189/200, Loss: 0.10946515127613737',\n",
       " 'Epoch 190/200, Loss: 0.12720063052467398',\n",
       " 'Epoch 191/200, Loss: 0.15328148214398202',\n",
       " 'Epoch 192/200, Loss: 0.13049350563738796',\n",
       " 'Epoch 193/200, Loss: 0.17287755078560596',\n",
       " 'Epoch 194/200, Loss: 0.18017237397464544',\n",
       " 'Epoch 195/200, Loss: 0.16422256067797944',\n",
       " 'Epoch 196/200, Loss: 0.13154510494825003',\n",
       " 'Epoch 197/200, Loss: 0.1278024604352745',\n",
       " 'Epoch 198/200, Loss: 0.14424395929317216',\n",
       " 'Epoch 199/200, Loss: 0.1306322467246571',\n",
       " 'Epoch 200/200, Loss: 0.13329847746604198']"
      ]
     },
     "execution_count": 47,
     "metadata": {},
     "output_type": "execute_result"
    }
   ],
   "source": [
    "epoch_loss_list[-20:]"
   ]
  },
  {
   "cell_type": "code",
   "execution_count": null,
   "id": "9e8085b9-2c0f-4efc-a826-1c56d4b51a61",
   "metadata": {},
   "outputs": [],
   "source": [
    "# torch.save(siamese_network.state_dict(), 'linear_randomL2_NoOverlap_01.pth')"
   ]
  },
  {
   "cell_type": "code",
   "execution_count": 48,
   "id": "5b4c67a7-7394-46cc-b2a9-ed00d8fee7b1",
   "metadata": {},
   "outputs": [
    {
     "data": {
      "text/plain": [
       "<All keys matched successfully>"
      ]
     },
     "execution_count": 48,
     "metadata": {},
     "output_type": "execute_result"
    }
   ],
   "source": [
    "siamese_network.load_state_dict(torch.load('flakyXbert_augExp2.pth'))\n"
   ]
  },
  {
   "cell_type": "code",
   "execution_count": 49,
   "id": "612f73b7-df72-4391-84f2-1916dbf75d38",
   "metadata": {},
   "outputs": [
    {
     "name": "stderr",
     "output_type": "stream",
     "text": [
      "100%|██████████| 295/295 [00:12<00:00, 23.94it/s]\n"
     ]
    }
   ],
   "source": [
    "siamese_network.eval() \n",
    "post_train_embed = []\n",
    "post_train_label = []\n",
    "with torch.no_grad():\n",
    "    for item in tqdm(train_dataset):\n",
    "        post_train_embed.append(siamese_network(item['anchor']))\n",
    "        post_train_label.append(item['label'])"
   ]
  },
  {
   "cell_type": "code",
   "execution_count": 50,
   "id": "9e658fd0-88ec-4643-b738-5e5d8908c753",
   "metadata": {
    "tags": []
   },
   "outputs": [
    {
     "data": {
      "text/plain": [
       "<matplotlib.collections.PathCollection at 0x79bcc1b3e860>"
      ]
     },
     "execution_count": 50,
     "metadata": {},
     "output_type": "execute_result"
    },
    {
     "data": {
      "image/png": "[encoded data removed]",
      "text/plain": [
       "<Figure size 640x480 with 1 Axes>"
      ]
     },
     "metadata": {},
     "output_type": "display_data"
    }
   ],
   "source": [
    "%matplotlib inline\n",
    "\n",
    "X = torch.stack(post_train_embed).cpu()\n",
    "X_np = X.numpy()\n",
    "labelsNums = post_train_label\n",
    "X_embedded= TSNE(n_components=2, init='random').fit_transform(X_np)\n",
    "plt.scatter(X_embedded[:, 0], X_embedded[:, 1] , c=labelsNums[:len(X_embedded)], s=10, cmap='viridis' , alpha=0.5 )\n"
   ]
  },
  {
   "cell_type": "code",
   "execution_count": 51,
   "id": "12bda447-8372-4997-979a-bf702ae2a38a",
   "metadata": {
    "tags": []
   },
   "outputs": [],
   "source": [
    "def clsembed(snippet):\n",
    "    inputs = tokenizer(snippet, padding='max_length', max_length=3402, truncation=True, return_tensors='pt').to(device)\n",
    "    #tokens = [self.tokenizer.cls_token] + inputs  + [self.tokenizer.sep_token]\n",
    "    if(len(inputs)<512):\n",
    "        with torch.no_grad():\n",
    "            outs = model_codebert(**inputs)\n",
    "        cls = outs.last_hidden_state[:, 0, :].squeeze().detach()\n",
    "        return cls\n",
    "    else:\n",
    "        print('longtest')\n",
    "        i = 0\n",
    "        part_vector =  []\n",
    "        while ( i < len(inputs)-200) :\n",
    "            #tokens = [self.tokenizer.cls_token] + inputs[i:i+250] +[self.tokenizer.sep_token]\n",
    "            #tokens_ids= self.tokenizer.convert_tokens_to_ids(tokens)\n",
    "            input_seg = [tokenizer.cls_token] + inputs[i:i+250] +[tokenizer.sep_token]\n",
    "            with torch.no_grad():\n",
    "                ots = model_codebert(**input_seg)\n",
    "            cls = ots.last_hidden_state[:, 0, :].squeeze().detach()\n",
    "            #cls = model_codebert(torch.tensor(inputs)[None,:])[1]\n",
    "            #vector = cls[0].detach().numpy()\n",
    "            parts.append(cls)\n",
    "            i = i+100\n",
    "        return parts"
   ]
  },
  {
   "cell_type": "code",
   "execution_count": 52,
   "id": "a3f34b1b-1577-4ab2-ad41-8d0314224b7b",
   "metadata": {
    "tags": []
   },
   "outputs": [],
   "source": [
    "import numpy as np\n",
    "from numpy import dot\n",
    "from numpy.linalg import norm\n",
    "#labels_all = ['async wait','unordered collections','concurrency','time']\n",
    "def get_class_rep(post_train_embed, post_train_label):\n",
    "    # Move each tensor to CPU, convert to numpy, and collect in a list\n",
    "    #post_train_embed = [x.cpu().numpy() for x in post_train_embed]\n",
    "    # If you want to combine them into a single array (assuming they have the same shape)\n",
    "    #post_train_embed = np.concatenate(post_train_embed, axis=0)\n",
    "    representatives = [None] * 5\n",
    "    for label in range(5):\n",
    "        indices = np.where(np.atleast_1d(post_train_label) == label)[0]  # Get the indices as an array\n",
    "        class_vectors = [post_train_embed[i] for i in indices]  # Access each index individually\n",
    "        class_vectors = [x.cpu().numpy() for x in class_vectors]\n",
    "        representatives[label] = np.mean(class_vectors, axis=0)\n",
    "    return representatives\n",
    "\n",
    "def calculate_normalized_distance(vec1, vec2):\n",
    "    # Ensure vec1 and vec2 are numpy arrays\n",
    "    if not isinstance(vec1, np.ndarray):\n",
    "        vec1 = vec1.cpu().detach().numpy()\n",
    "    if not isinstance(vec2, np.ndarray):\n",
    "        vec2 = vec2.cpu().detach().numpy()\n",
    "    \n",
    "    # Normalize each vector to have unit length\n",
    "    norm_vec1 = vec1 / np.linalg.norm(vec1)\n",
    "    norm_vec2 = vec2 / np.linalg.norm(vec2)\n",
    "    \n",
    "    # Calculate Euclidean (L2) distance between the normalized vectors\n",
    "    distance = np.linalg.norm(norm_vec1 - norm_vec2)\n",
    "    \n",
    "    return distance\n"
   ]
  },
  {
   "cell_type": "code",
   "execution_count": 53,
   "id": "8cb7de38-849a-4fb5-bc68-9b2cbfe269ec",
   "metadata": {
    "tags": []
   },
   "outputs": [],
   "source": [
    "int_to_label={\n",
    "    0: 'async wait',\n",
    "    1: 'unordered collections',\n",
    "    2: 'concurrency',\n",
    "    3: 'time',\n",
    "    4: 'test order dependency'\n",
    "}\n",
    "\n",
    "\n",
    "def get_closest_cluster(cluster_representatives, projected_vector):\n",
    "    distances = [calculate_normalized_distance(rep, projected_vector) for rep in cluster_representatives]\n",
    "    for i in range(len(distances)):\n",
    "        distances[i] = np.mean(distances[i])\n",
    "    closest_cluster_idx = np.argmin(distances)\n",
    "    return int_to_label[closest_cluster_idx]"
   ]
  },
  {
   "cell_type": "code",
   "execution_count": 54,
   "id": "1e1fbe07-7b67-4485-976a-8eb8f0691f2e",
   "metadata": {
    "tags": []
   },
   "outputs": [
    {
     "name": "stdout",
     "output_type": "stream",
     "text": [
      "unordered collections\n",
      "test order dependency\n"
     ]
    }
   ],
   "source": [
    "embed = post_train_embed\n",
    "labels = post_train_label\n",
    "def predict(input_vector):\n",
    "    modified_vector = siamese_network(input_vector)\n",
    "    representatives = get_class_rep(embed, labels)\n",
    "    return get_closest_cluster(representatives, modified_vector)\n",
    "    \n",
    "print(predict(train_dataset[10]['anchor']))   \n",
    "    \n",
    "print(int_to_label[train_dataset[10]['label']])"
   ]
  },
  {
   "cell_type": "code",
   "execution_count": 55,
   "id": "769adf53-42ad-40e3-a2c5-3a46039a2ead",
   "metadata": {},
   "outputs": [
    {
     "data": {
      "image/png": "[encoded data removed]",
      "text/plain": [
       "<Figure size 640x480 with 1 Axes>"
      ]
     },
     "metadata": {},
     "output_type": "display_data"
    }
   ],
   "source": [
    "import matplotlib.pyplot as plt\n",
    "from sklearn.manifold import TSNE\n",
    "import torch\n",
    "\n",
    "# previous best result learing rate: 1e-5\n",
    "X = torch.stack(post_train_embed).cpu()\n",
    "X_np = X.numpy()\n",
    "labelsNums = post_train_label\n",
    "\n",
    "# Define vibrant colors for each category (same as used in the bar plot)\n",
    "colors = ['skyblue', 'lightgreen', 'salmon', 'gold', 'orchid']\n",
    "\n",
    "# Dimensionality reduction with t-SNE\n",
    "X_embedded = TSNE(n_components=2, init='random').fit_transform(X_np)\n",
    "\n",
    "# Scatter plot\n",
    "for i, label in enumerate(labelsNums[:len(X_embedded)]):\n",
    "    plt.scatter(X_embedded[i, 0], X_embedded[i, 1], color=colors[label], s=10, alpha=1, edgecolor='none', marker='o')\n",
    "\n",
    "# Create legend with category labels\n",
    "# legend_labels = list(shortened_labels.values())  # Use shortened labels for legend\n",
    "# plt.legend(labels=legend_labels)\n",
    "\n",
    "plt.show()\n"
   ]
  },
  {
   "cell_type": "code",
   "execution_count": 56,
   "id": "dc3b222a-9cdb-4de4-aff7-49ae9d357e5e",
   "metadata": {
    "tags": []
   },
   "outputs": [
    {
     "data": {
      "image/png": "[encoded data removed]",
      "text/plain": [
       "<Figure size 640x480 with 1 Axes>"
      ]
     },
     "metadata": {},
     "output_type": "display_data"
    }
   ],
   "source": [
    "import matplotlib.pyplot as plt\n",
    "import numpy as np\n",
    "from sklearn.manifold import TSNE\n",
    "import torch\n",
    "\n",
    "# Assuming post_train_embed, post_train_label, and labelsNums are defined\n",
    "X = torch.stack(post_train_embed).cpu()\n",
    "X_np = X.numpy()\n",
    "X_embedded = TSNE(n_components=2, init='random').fit_transform(X_np)\n",
    "\n",
    "# Plot the data points\n",
    "scatter = plt.scatter(X_embedded[:, 0], X_embedded[:, 1], c=labelsNums[:len(X_embedded)], s=10, cmap='viridis', alpha=0.6)\n",
    "\n",
    "# Calculate class representatives\n",
    "representatives = get_class_rep(post_train_embed, post_train_label)  # Make sure this function returns what you expect\n",
    "\n",
    "# Get unique labels and their colors from the scatter plot\n",
    "unique_labels = np.unique(labelsNums[:len(X_embedded)])\n",
    "legend1 = plt.legend(*scatter.legend_elements(), title=\"Classes\")\n",
    "plt.gca().add_artist(legend1)\n",
    "\n",
    "# For each class representative, find the closest point and plot it\n",
    "for i, rep in enumerate(representatives):\n",
    "    if rep is not None:\n",
    "        # Find the closest data point in the original space to this representative\n",
    "        distances = np.linalg.norm(X_np - rep, axis=1)\n",
    "        closest_point_index = np.argmin(distances)\n",
    "        # Use the label of the closest data point to get the correct color\n",
    "        label_of_closest = labelsNums[closest_point_index]\n",
    "        color = scatter.cmap(scatter.norm(label_of_closest))\n",
    "        plt.scatter(X_embedded[closest_point_index, 0], X_embedded[closest_point_index, 1], color=color, edgecolors='red', s=100, marker='X')\n",
    "\n",
    "# You might want to adjust the legend to make sure it correctly represents your data\n",
    "# plt.legend()\n",
    "plt.show()\n"
   ]
  },
  {
   "cell_type": "code",
   "execution_count": null,
   "id": "e68d86a1-f3e7-410b-9eb4-dcc73045fd03",
   "metadata": {},
   "outputs": [],
   "source": [
    "# from sklearn.metrics import silhouette_score, davies_bouldin_score, calinski_harabasz_score\n",
    "\n",
    "# # Assuming 'X_embedded' is your t-SNE result and 'labelsNums' are your labels\n",
    "\n",
    "# # Silhouette Score:\n",
    "# # - Measures how similar an object is to its own cluster compared to other clusters.\n",
    "# # - Range: -1 (incorrect clustering) to 1 (highly dense clustering). \n",
    "# #   A score close to 1 means that the clusters are well separated and clearly defined.\n",
    "# silhouette_avg = silhouette_score(X_embedded, labelsNums[:len(X_embedded)])\n",
    "# print(f\"Silhouette Score: {silhouette_avg}\")\n",
    "\n",
    "# # Davies-Bouldin Index:\n",
    "# # - Evaluates the clustering quality by measuring the average 'similarity' between each cluster \n",
    "# #   and its most similar one. The similarity is based on a ratio of within-cluster distances to between-cluster distances.\n",
    "# # - Range: 0 to +∞. Lower scores indicate better clustering quality.\n",
    "# davies_bouldin = davies_bouldin_score(X_embedded, labelsNums[:len(X_embedded)])\n",
    "# print(f\"Davies-Bouldin Index: {davies_bouldin}\")\n",
    "\n",
    "# # Calinski-Harabasz Index:\n",
    "# # - Measures the cluster validity based on the ratio between the within-cluster dispersion and the between-cluster dispersion.\n",
    "# # - Range: Higher values indicate better clustering quality, with no upper limit. Low values indicate clusters with high overlap.\n",
    "# calinski_harabasz = calinski_harabasz_score(X_embedded, labelsNums[:len(X_embedded)])\n",
    "# print(f\"Calinski-Harabasz Index: {calinski_harabasz}\")\n"
   ]
  },
  {
   "cell_type": "code",
   "execution_count": 57,
   "id": "f6bb278b-9a32-458a-ad5d-e1029f424957",
   "metadata": {},
   "outputs": [
    {
     "name": "stdout",
     "output_type": "stream",
     "text": [
      "1   test order dependency   test order dependency\n",
      "2   time   test order dependency\n",
      "3   test order dependency   test order dependency\n",
      "4   test order dependency   test order dependency\n",
      "5   test order dependency   test order dependency\n",
      "6   test order dependency   test order dependency\n",
      "7   async wait   time\n",
      "8   async wait   time\n",
      "9   unordered collections   time\n",
      "10   unordered collections   time\n",
      "11   test order dependency   test order dependency\n",
      "12   async wait   test order dependency\n",
      "13   test order dependency   test order dependency\n",
      "14   test order dependency   test order dependency\n",
      "15   concurrency   async wait\n",
      "16   async wait   async wait\n",
      "17   async wait   async wait\n",
      "18   async wait   async wait\n",
      "19   test order dependency   test order dependency\n",
      "20   test order dependency   test order dependency\n",
      "21   concurrency   concurrency\n",
      "22   concurrency   concurrency\n",
      "23   unordered collections   unordered collections\n",
      "24   unordered collections   unordered collections\n",
      "25   async wait   async wait\n",
      "26   async wait   async wait\n",
      "27   async wait   async wait\n",
      "28   concurrency   async wait\n",
      "29   test order dependency   unordered collections\n",
      "30   unordered collections   unordered collections\n",
      "31   time   time\n",
      "32   time   time\n",
      "33   unordered collections   unordered collections\n",
      "34   unordered collections   unordered collections\n",
      "35   async wait   async wait\n",
      "36   async wait   async wait\n",
      "37   test order dependency   test order dependency\n",
      "38   test order dependency   test order dependency\n",
      "39   concurrency   concurrency\n",
      "40   concurrency   concurrency\n",
      "41   async wait   async wait\n",
      "42   async wait   async wait\n",
      "43   async wait   async wait\n",
      "44   async wait   async wait\n",
      "45   unordered collections   async wait\n",
      "46   time   async wait\n",
      "47   concurrency   async wait\n",
      "48   concurrency   async wait\n",
      "49   unordered collections   unordered collections\n",
      "50   unordered collections   unordered collections\n",
      "51   concurrency   time\n",
      "52   concurrency   time\n",
      "53   test order dependency   test order dependency\n",
      "54   unordered collections   test order dependency\n",
      "55   async wait   concurrency\n",
      "56   time   concurrency\n",
      "57   async wait   async wait\n",
      "58   async wait   async wait\n",
      "59   async wait   test order dependency\n",
      "60   test order dependency   test order dependency\n",
      "61   time   async wait\n",
      "62   time   async wait\n",
      "63   async wait   async wait\n",
      "64   async wait   async wait\n",
      "65   async wait   async wait\n",
      "66   async wait   async wait\n",
      "67   unordered collections   unordered collections\n",
      "68   test order dependency   unordered collections\n",
      "69   concurrency   concurrency\n",
      "70   concurrency   concurrency\n",
      "71   test order dependency   test order dependency\n",
      "72   test order dependency   test order dependency\n",
      "73   async wait   async wait\n",
      "74   async wait   async wait\n",
      "75   async wait   async wait\n",
      "76   async wait   async wait\n",
      "77   time   async wait\n",
      "78   async wait   async wait\n",
      "79   concurrency   test order dependency\n",
      "80   async wait   test order dependency\n",
      "81   unordered collections   unordered collections\n",
      "82   unordered collections   unordered collections\n",
      "83   concurrency   concurrency\n",
      "84   async wait   concurrency\n",
      "85   async wait   async wait\n",
      "86   test order dependency   async wait\n",
      "87   async wait   concurrency\n",
      "88   concurrency   concurrency\n",
      "89   async wait   test order dependency\n",
      "90   concurrency   test order dependency\n",
      "91   async wait   async wait\n",
      "92   async wait   async wait\n",
      "93   concurrency   async wait\n",
      "94   concurrency   async wait\n",
      "95   async wait   async wait\n",
      "96   async wait   async wait\n",
      "97   async wait   async wait\n",
      "98   async wait   async wait\n",
      "99   test order dependency   test order dependency\n",
      "100   unordered collections   test order dependency\n",
      "101   test order dependency   test order dependency\n",
      "102   test order dependency   test order dependency\n",
      "103   concurrency   async wait\n",
      "104   async wait   async wait\n",
      "105   async wait   async wait\n",
      "106   async wait   async wait\n",
      "107   concurrency   concurrency\n",
      "108   concurrency   concurrency\n",
      "109   time   time\n",
      "110   time   time\n",
      "111   unordered collections   unordered collections\n",
      "112   unordered collections   unordered collections\n",
      "113   concurrency   test order dependency\n",
      "114   concurrency   test order dependency\n",
      "115   test order dependency   test order dependency\n",
      "116   test order dependency   test order dependency\n",
      "117   test order dependency   test order dependency\n",
      "118   test order dependency   test order dependency\n",
      "119   async wait   async wait\n",
      "120   async wait   async wait\n",
      "121   test order dependency   test order dependency\n",
      "122   test order dependency   test order dependency\n",
      "123   concurrency   async wait\n",
      "124   async wait   async wait\n",
      "125   unordered collections   unordered collections\n",
      "126   unordered collections   unordered collections\n",
      "127   async wait   test order dependency\n",
      "128   async wait   test order dependency\n",
      "129   unordered collections   unordered collections\n",
      "130   unordered collections   unordered collections\n",
      "131   concurrency   async wait\n",
      "132   concurrency   async wait\n",
      "133   time   time\n",
      "134   time   time\n",
      "135   async wait   async wait\n",
      "136   time   async wait\n",
      "137   async wait   concurrency\n",
      "138   async wait   concurrency\n",
      "139   concurrency   concurrency\n",
      "140   concurrency   concurrency\n",
      "141   unordered collections   test order dependency\n",
      "142   unordered collections   test order dependency\n",
      "143   async wait   concurrency\n",
      "144   async wait   concurrency\n",
      "145   unordered collections   unordered collections\n",
      "146   unordered collections   unordered collections\n",
      "147   unordered collections   unordered collections\n",
      "148   unordered collections   unordered collections\n",
      "149   test order dependency   test order dependency\n",
      "150   test order dependency   test order dependency\n",
      "151   test order dependency   test order dependency\n",
      "152   test order dependency   test order dependency\n",
      "153   time   unordered collections\n",
      "154   time   unordered collections\n",
      "155   test order dependency   test order dependency\n",
      "156   test order dependency   test order dependency\n",
      "157   concurrency   concurrency\n",
      "158   concurrency   concurrency\n",
      "159   async wait   async wait\n",
      "160   async wait   async wait\n",
      "161   async wait   async wait\n",
      "162   async wait   async wait\n",
      "163   test order dependency   test order dependency\n",
      "164   test order dependency   test order dependency\n",
      "165   test order dependency   test order dependency\n",
      "166   test order dependency   test order dependency\n",
      "167   test order dependency   test order dependency\n",
      "168   test order dependency   test order dependency\n",
      "169   async wait   test order dependency\n",
      "170   async wait   test order dependency\n",
      "171   concurrency   concurrency\n",
      "172   concurrency   concurrency\n",
      "173   async wait   async wait\n",
      "174   async wait   async wait\n",
      "175   concurrency   async wait\n",
      "176   async wait   async wait\n",
      "177   concurrency   concurrency\n",
      "178   concurrency   concurrency\n",
      "179   test order dependency   async wait\n",
      "180   async wait   async wait\n",
      "181   test order dependency   test order dependency\n",
      "182   test order dependency   test order dependency\n",
      "183   time   test order dependency\n",
      "184   test order dependency   test order dependency\n",
      "185   async wait   async wait\n",
      "186   async wait   async wait\n",
      "187   concurrency   async wait\n",
      "188   async wait   async wait\n",
      "189   async wait   async wait\n",
      "190   async wait   async wait\n",
      "191   unordered collections   unordered collections\n",
      "192   unordered collections   unordered collections\n",
      "193   async wait   async wait\n",
      "194   async wait   async wait\n",
      "195   test order dependency   test order dependency\n",
      "196   test order dependency   test order dependency\n",
      "197   concurrency   async wait\n",
      "198   async wait   async wait\n",
      "199   concurrency   async wait\n",
      "200   async wait   async wait\n",
      "201   async wait   async wait\n",
      "202   async wait   async wait\n",
      "203   unordered collections   unordered collections\n",
      "204   unordered collections   unordered collections\n",
      "205   async wait   async wait\n",
      "206   async wait   async wait\n",
      "207   test order dependency   test order dependency\n",
      "208   test order dependency   test order dependency\n",
      "209   async wait   concurrency\n",
      "210   async wait   concurrency\n",
      "211   concurrency   concurrency\n",
      "212   concurrency   concurrency\n",
      "213   test order dependency   test order dependency\n",
      "214   test order dependency   test order dependency\n",
      "215   async wait   async wait\n",
      "216   async wait   async wait\n",
      "217   async wait   test order dependency\n",
      "218   async wait   test order dependency\n",
      "219   concurrency   async wait\n",
      "220   concurrency   async wait\n",
      "221   async wait   async wait\n",
      "222   time   async wait\n",
      "223   async wait   concurrency\n",
      "224   async wait   concurrency\n",
      "225   async wait   async wait\n",
      "226   async wait   async wait\n",
      "227   test order dependency   test order dependency\n",
      "228   unordered collections   test order dependency\n",
      "229   async wait   concurrency\n",
      "230   async wait   concurrency\n",
      "231   test order dependency   test order dependency\n",
      "232   unordered collections   test order dependency\n",
      "233   concurrency   concurrency\n",
      "234   async wait   concurrency\n",
      "235   async wait   async wait\n",
      "236   async wait   async wait\n",
      "237   time   time\n",
      "238   time   time\n",
      "239   time   time\n",
      "240   time   time\n",
      "241   concurrency   async wait\n",
      "242   concurrency   async wait\n",
      "243   concurrency   async wait\n",
      "244   concurrency   async wait\n",
      "245   async wait   concurrency\n",
      "246   async wait   concurrency\n",
      "247   async wait   async wait\n",
      "248   async wait   async wait\n",
      "249   test order dependency   test order dependency\n",
      "250   concurrency   test order dependency\n",
      "251   async wait   async wait\n",
      "252   async wait   async wait\n",
      "253   async wait   async wait\n",
      "254   async wait   async wait\n",
      "255   concurrency   concurrency\n",
      "256   concurrency   concurrency\n",
      "257   concurrency   concurrency\n",
      "258   concurrency   concurrency\n",
      "259   unordered collections   unordered collections\n",
      "260   unordered collections   unordered collections\n",
      "261   async wait   time\n",
      "262   time   time\n",
      "263   async wait   concurrency\n",
      "264   async wait   concurrency\n",
      "265   time   time\n",
      "266   time   time\n",
      "267   async wait   async wait\n",
      "268   async wait   async wait\n",
      "269   async wait   async wait\n",
      "270   time   async wait\n",
      "271   time   time\n",
      "272   time   time\n",
      "273   async wait   async wait\n",
      "274   async wait   async wait\n",
      "275   test order dependency   test order dependency\n",
      "276   test order dependency   test order dependency\n",
      "277   concurrency   async wait\n",
      "278   concurrency   async wait\n",
      "279   test order dependency   test order dependency\n",
      "280   test order dependency   test order dependency\n",
      "281   unordered collections   unordered collections\n",
      "282   unordered collections   unordered collections\n",
      "283   concurrency   concurrency\n",
      "284   async wait   concurrency\n",
      "285   async wait   time\n",
      "286   time   time\n",
      "287   time   time\n",
      "288   time   time\n",
      "289   time   async wait\n",
      "290   time   async wait\n",
      "291   test order dependency   test order dependency\n",
      "292   test order dependency   test order dependency\n",
      "293   unordered collections   unordered collections\n",
      "294   unordered collections   unordered collections\n",
      "295   test order dependency   test order dependency\n",
      "296   test order dependency   test order dependency\n",
      "297   async wait   concurrency\n",
      "298   async wait   concurrency\n",
      "299   concurrency   concurrency\n",
      "300   concurrency   concurrency\n",
      "301   async wait   async wait\n",
      "302   async wait   async wait\n",
      "303   test order dependency   test order dependency\n",
      "304   test order dependency   test order dependency\n",
      "305   concurrency   concurrency\n",
      "306   concurrency   concurrency\n",
      "307   time   time\n",
      "308   time   time\n",
      "309   test order dependency   test order dependency\n",
      "310   test order dependency   test order dependency\n",
      "311   async wait   async wait\n",
      "312   async wait   async wait\n",
      "313   concurrency   concurrency\n",
      "314   concurrency   concurrency\n",
      "315   async wait   async wait\n",
      "316   async wait   async wait\n",
      "317   test order dependency   test order dependency\n",
      "318   test order dependency   test order dependency\n",
      "319   async wait   async wait\n",
      "320   async wait   async wait\n",
      "321   concurrency   concurrency\n",
      "322   test order dependency   concurrency\n",
      "323   async wait   async wait\n",
      "324   async wait   async wait\n",
      "325   unordered collections   unordered collections\n",
      "326   unordered collections   unordered collections\n",
      "327   concurrency   concurrency\n",
      "328   async wait   concurrency\n",
      "329   async wait   async wait\n",
      "330   async wait   async wait\n",
      "331   unordered collections   unordered collections\n",
      "332   unordered collections   unordered collections\n",
      "333   async wait   async wait\n",
      "334   async wait   async wait\n",
      "335   unordered collections   unordered collections\n",
      "336   unordered collections   unordered collections\n",
      "337   time   time\n",
      "338   time   time\n",
      "339   concurrency   test order dependency\n",
      "340   test order dependency   test order dependency\n",
      "341   test order dependency   test order dependency\n",
      "342   test order dependency   test order dependency\n",
      "343   time   async wait\n",
      "344   time   async wait\n",
      "345   concurrency   concurrency\n",
      "346   concurrency   concurrency\n",
      "347   time   time\n",
      "348   time   time\n",
      "349   test order dependency   test order dependency\n",
      "350   async wait   test order dependency\n",
      "351   test order dependency   async wait\n",
      "352   async wait   async wait\n",
      "353   test order dependency   test order dependency\n",
      "354   test order dependency   test order dependency\n",
      "355   concurrency   async wait\n",
      "356   async wait   async wait\n",
      "357   test order dependency   test order dependency\n",
      "358   test order dependency   test order dependency\n",
      "359   unordered collections   unordered collections\n",
      "360   unordered collections   unordered collections\n",
      "361   test order dependency   unordered collections\n",
      "362   unordered collections   unordered collections\n",
      "363   concurrency   async wait\n",
      "364   concurrency   async wait\n",
      "365   async wait   time\n",
      "366   async wait   time\n",
      "367   test order dependency   test order dependency\n",
      "368   unordered collections   test order dependency\n",
      "369   test order dependency   test order dependency\n",
      "370   test order dependency   test order dependency\n",
      "371   async wait   async wait\n",
      "372   async wait   async wait\n",
      "373   time   test order dependency\n",
      "374   unordered collections   test order dependency\n",
      "375   async wait   async wait\n",
      "376   async wait   async wait\n",
      "377   time   test order dependency\n",
      "378   test order dependency   test order dependency\n",
      "379   concurrency   async wait\n",
      "380   concurrency   async wait\n",
      "381   async wait   async wait\n",
      "382   async wait   async wait\n",
      "383   concurrency   async wait\n",
      "384   async wait   async wait\n",
      "385   unordered collections   unordered collections\n",
      "386   unordered collections   unordered collections\n",
      "387   unordered collections   unordered collections\n",
      "388   unordered collections   unordered collections\n",
      "389   time   time\n",
      "390   time   time\n",
      "391   time   time\n",
      "392   time   time\n",
      "393   concurrency   async wait\n",
      "394   async wait   async wait\n",
      "395   async wait   async wait\n",
      "396   async wait   async wait\n",
      "397   unordered collections   unordered collections\n",
      "398   unordered collections   unordered collections\n",
      "399   concurrency   concurrency\n",
      "400   async wait   concurrency\n",
      "401   test order dependency   test order dependency\n",
      "402   test order dependency   test order dependency\n",
      "403   concurrency   test order dependency\n",
      "404   concurrency   test order dependency\n",
      "405   async wait   async wait\n",
      "406   async wait   async wait\n",
      "407   unordered collections   unordered collections\n",
      "408   unordered collections   unordered collections\n",
      "409   unordered collections   unordered collections\n",
      "410   unordered collections   unordered collections\n",
      "411   test order dependency   test order dependency\n",
      "412   test order dependency   test order dependency\n",
      "413   unordered collections   unordered collections\n",
      "414   unordered collections   unordered collections\n",
      "415   async wait   time\n",
      "416   time   time\n",
      "417   time   unordered collections\n",
      "418   time   unordered collections\n",
      "419   concurrency   async wait\n",
      "420   concurrency   async wait\n",
      "421   async wait   async wait\n",
      "422   async wait   async wait\n",
      "423   async wait   async wait\n",
      "424   async wait   async wait\n",
      "425   async wait   async wait\n",
      "426   test order dependency   async wait\n",
      "427   concurrency   concurrency\n",
      "428   concurrency   concurrency\n",
      "429   concurrency   async wait\n",
      "430   concurrency   async wait\n",
      "431   async wait   async wait\n",
      "432   async wait   async wait\n",
      "433   test order dependency   test order dependency\n",
      "434   test order dependency   test order dependency\n",
      "435   unordered collections   unordered collections\n",
      "436   unordered collections   unordered collections\n",
      "437   test order dependency   test order dependency\n",
      "438   test order dependency   test order dependency\n",
      "439   unordered collections   unordered collections\n",
      "440   unordered collections   unordered collections\n",
      "441   concurrency   async wait\n",
      "442   concurrency   async wait\n",
      "443   time   async wait\n",
      "444   time   async wait\n",
      "445   async wait   concurrency\n",
      "446   async wait   concurrency\n",
      "447   async wait   concurrency\n",
      "448   concurrency   concurrency\n",
      "449   unordered collections   async wait\n",
      "450   test order dependency   async wait\n",
      "451   concurrency   concurrency\n",
      "452   concurrency   concurrency\n",
      "453   async wait   async wait\n",
      "454   async wait   async wait\n",
      "455   unordered collections   unordered collections\n",
      "456   unordered collections   unordered collections\n",
      "457   async wait   test order dependency\n",
      "458   test order dependency   test order dependency\n",
      "459   async wait   async wait\n",
      "460   async wait   async wait\n",
      "461   concurrency   async wait\n",
      "462   async wait   async wait\n",
      "463   async wait   async wait\n",
      "464   time   async wait\n",
      "465   test order dependency   test order dependency\n",
      "466   test order dependency   test order dependency\n",
      "467   test order dependency   test order dependency\n",
      "468   async wait   test order dependency\n",
      "469   concurrency   async wait\n",
      "470   async wait   async wait\n",
      "471   async wait   async wait\n",
      "472   async wait   async wait\n",
      "473   unordered collections   unordered collections\n",
      "474   test order dependency   unordered collections\n",
      "475   time   time\n",
      "476   time   time\n",
      "477   unordered collections   unordered collections\n",
      "478   unordered collections   unordered collections\n",
      "479   test order dependency   test order dependency\n",
      "480   test order dependency   test order dependency\n",
      "481   async wait   concurrency\n",
      "482   time   concurrency\n",
      "483   unordered collections   unordered collections\n",
      "484   unordered collections   unordered collections\n",
      "485   async wait   async wait\n",
      "486   async wait   async wait\n",
      "487   test order dependency   async wait\n",
      "488   async wait   async wait\n",
      "489   test order dependency   test order dependency\n",
      "490   test order dependency   test order dependency\n",
      "491   unordered collections   unordered collections\n",
      "492   unordered collections   unordered collections\n",
      "493   async wait   test order dependency\n",
      "494   time   test order dependency\n",
      "495   time   time\n",
      "496   time   time\n",
      "497   unordered collections   unordered collections\n",
      "498   unordered collections   unordered collections\n",
      "499   test order dependency   test order dependency\n",
      "500   test order dependency   test order dependency\n",
      "501   concurrency   concurrency\n",
      "502   concurrency   concurrency\n",
      "503   test order dependency   test order dependency\n",
      "504   test order dependency   test order dependency\n",
      "505   concurrency   concurrency\n",
      "506   concurrency   concurrency\n",
      "507   async wait   async wait\n",
      "508   concurrency   async wait\n",
      "509   test order dependency   test order dependency\n",
      "510   test order dependency   test order dependency\n",
      "511   async wait   async wait\n",
      "512   async wait   async wait\n",
      "513   time   time\n",
      "514   time   time\n",
      "515   async wait   async wait\n",
      "516   async wait   async wait\n",
      "517   time   time\n",
      "518   time   time\n",
      "519   concurrency   async wait\n",
      "520   async wait   async wait\n",
      "521   test order dependency   test order dependency\n",
      "522   test order dependency   test order dependency\n",
      "523   time   time\n",
      "524   time   time\n",
      "525   test order dependency   test order dependency\n",
      "526   test order dependency   test order dependency\n",
      "527   async wait   async wait\n",
      "528   async wait   async wait\n",
      "529   concurrency   async wait\n",
      "530   async wait   async wait\n",
      "531   concurrency   async wait\n",
      "532   async wait   async wait\n",
      "533   unordered collections   unordered collections\n",
      "534   unordered collections   unordered collections\n",
      "535   async wait   time\n",
      "536   async wait   time\n",
      "537   async wait   async wait\n",
      "538   async wait   async wait\n",
      "539   concurrency   concurrency\n",
      "540   concurrency   concurrency\n",
      "541   async wait   async wait\n",
      "542   async wait   async wait\n",
      "543   async wait   async wait\n",
      "544   async wait   async wait\n",
      "545   async wait   async wait\n",
      "546   async wait   async wait\n",
      "547   concurrency   async wait\n",
      "548   async wait   async wait\n",
      "549   concurrency   concurrency\n",
      "550   time   concurrency\n",
      "551   concurrency   concurrency\n",
      "552   concurrency   concurrency\n",
      "553   async wait   time\n",
      "554   time   time\n",
      "555   time   time\n",
      "556   time   time\n",
      "557   concurrency   async wait\n",
      "558   concurrency   async wait\n",
      "559   unordered collections   unordered collections\n",
      "560   unordered collections   unordered collections\n",
      "561   test order dependency   test order dependency\n",
      "562   test order dependency   test order dependency\n",
      "563   async wait   async wait\n",
      "564   async wait   async wait\n",
      "565   time   time\n",
      "566   time   time\n",
      "567   test order dependency   test order dependency\n",
      "568   test order dependency   test order dependency\n",
      "569   unordered collections   unordered collections\n",
      "570   unordered collections   unordered collections\n",
      "571   unordered collections   unordered collections\n",
      "572   unordered collections   unordered collections\n",
      "573   async wait   async wait\n",
      "574   async wait   async wait\n",
      "575   test order dependency   test order dependency\n",
      "576   test order dependency   test order dependency\n",
      "577   unordered collections   unordered collections\n",
      "578   unordered collections   unordered collections\n",
      "579   concurrency   async wait\n",
      "580   concurrency   async wait\n",
      "581   test order dependency   test order dependency\n",
      "582   async wait   test order dependency\n",
      "583   async wait   test order dependency\n",
      "584   test order dependency   test order dependency\n",
      "585   test order dependency   unordered collections\n",
      "586   unordered collections   unordered collections\n",
      "587   concurrency   test order dependency\n",
      "588   test order dependency   test order dependency\n",
      "589   time   time\n",
      "590   unordered collections   time\n",
      "591   test order dependency   test order dependency\n",
      "592   test order dependency   test order dependency\n",
      "593   unordered collections   unordered collections\n",
      "594   unordered collections   unordered collections\n",
      "595   test order dependency   test order dependency\n",
      "596   test order dependency   test order dependency\n",
      "597   async wait   async wait\n",
      "598   async wait   async wait\n",
      "599   test order dependency   time\n",
      "600   test order dependency   time\n",
      "601   concurrency   async wait\n",
      "602   concurrency   async wait\n",
      "603   test order dependency   test order dependency\n",
      "604   test order dependency   test order dependency\n",
      "605   time   time\n",
      "606   time   time\n",
      "607   async wait   async wait\n",
      "608   async wait   async wait\n",
      "609   concurrency   concurrency\n",
      "610   concurrency   concurrency\n",
      "611   async wait   async wait\n",
      "612   async wait   async wait\n",
      "613   test order dependency   test order dependency\n",
      "614   test order dependency   test order dependency\n",
      "615   unordered collections   unordered collections\n",
      "616   unordered collections   unordered collections\n",
      "617   time   time\n",
      "618   time   time\n",
      "619   unordered collections   unordered collections\n",
      "620   test order dependency   unordered collections\n",
      "621   async wait   async wait\n",
      "622   time   async wait\n",
      "623   test order dependency   test order dependency\n",
      "624   test order dependency   test order dependency\n",
      "625   concurrency   concurrency\n",
      "626   concurrency   concurrency\n",
      "627   time   test order dependency\n",
      "628   time   test order dependency\n",
      "629   concurrency   concurrency\n",
      "630   time   concurrency\n",
      "631   test order dependency   test order dependency\n",
      "632   async wait   test order dependency\n",
      "633   test order dependency   test order dependency\n",
      "634   test order dependency   test order dependency\n",
      "635   unordered collections   unordered collections\n",
      "636   unordered collections   unordered collections\n",
      "637   concurrency   concurrency\n",
      "638   concurrency   concurrency\n",
      "639   time   async wait\n",
      "640   time   async wait\n",
      "641   unordered collections   unordered collections\n",
      "642   unordered collections   unordered collections\n",
      "643   test order dependency   test order dependency\n",
      "644   test order dependency   test order dependency\n",
      "645   time   time\n",
      "646   time   time\n",
      "647   time   async wait\n",
      "648   time   async wait\n",
      "649   unordered collections   unordered collections\n",
      "650   unordered collections   unordered collections\n",
      "651   unordered collections   unordered collections\n",
      "652   unordered collections   unordered collections\n",
      "653   test order dependency   test order dependency\n",
      "654   async wait   test order dependency\n",
      "655   concurrency   async wait\n",
      "656   async wait   async wait\n",
      "657   unordered collections   unordered collections\n",
      "658   unordered collections   unordered collections\n",
      "659   async wait   async wait\n",
      "660   async wait   async wait\n",
      "661   test order dependency   test order dependency\n",
      "662   test order dependency   test order dependency\n",
      "663   concurrency   async wait\n",
      "664   concurrency   async wait\n",
      "665   async wait   time\n",
      "666   async wait   time\n",
      "667   async wait   async wait\n",
      "668   async wait   async wait\n",
      "669   async wait   async wait\n",
      "670   async wait   async wait\n",
      "671   test order dependency   test order dependency\n",
      "672   unordered collections   test order dependency\n",
      "673   test order dependency   test order dependency\n",
      "674   test order dependency   test order dependency\n",
      "675   test order dependency   concurrency\n",
      "676   async wait   concurrency\n",
      "677   test order dependency   test order dependency\n",
      "678   test order dependency   test order dependency\n",
      "679   concurrency   async wait\n",
      "680   concurrency   async wait\n",
      "681   concurrency   async wait\n",
      "682   concurrency   async wait\n",
      "683   time   time\n",
      "684   time   time\n",
      "685   async wait   concurrency\n",
      "686   test order dependency   concurrency\n",
      "687   time   time\n",
      "688   time   time\n",
      "689   time   time\n",
      "690   time   time\n",
      "691   concurrency   test order dependency\n",
      "692   async wait   test order dependency\n",
      "693   async wait   test order dependency\n",
      "694   async wait   test order dependency\n",
      "695   async wait   async wait\n",
      "696   time   async wait\n",
      "697   async wait   async wait\n",
      "698   async wait   async wait\n",
      "699   time   time\n",
      "700   time   time\n",
      "701   async wait   test order dependency\n",
      "702   async wait   test order dependency\n",
      "703   test order dependency   test order dependency\n",
      "704   test order dependency   test order dependency\n",
      "705   async wait   async wait\n",
      "706   async wait   async wait\n",
      "707   concurrency   async wait\n",
      "708   async wait   async wait\n",
      "709   test order dependency   test order dependency\n",
      "710   test order dependency   test order dependency\n",
      "711   time   time\n",
      "712   time   time\n",
      "713   async wait   concurrency\n",
      "714   async wait   concurrency\n",
      "715   test order dependency   test order dependency\n",
      "716   test order dependency   test order dependency\n",
      "717   async wait   async wait\n",
      "loop completed\n",
      "F1 Score: 0.7266226683504452\n"
     ]
    }
   ],
   "source": [
    "    from sklearn.metrics import f1_score\n",
    "\n",
    "    int_to_label={\n",
    "        0: 'async wait',\n",
    "        1: 'unordered collections',\n",
    "        2: 'concurrency',\n",
    "        3: 'time',\n",
    "        4: 'test order dependency'\n",
    "    }\n",
    "    count = 0\n",
    "\n",
    "    # Assuming val_dataset is iterable and has 'anchor' and 'label' keys\n",
    "    predicted_labels = []\n",
    "    true_labels = []\n",
    "\n",
    "    for item in val_dataset:\n",
    "        count+=1\n",
    "        input_vector = item['anchor']  # Your input vector for prediction\n",
    "        predicted_label = predict(input_vector)  # Get predicted cluster/label\n",
    "        predicted_labels.append(predicted_label)\n",
    "        \n",
    "        true_label = item['label']  # True label\n",
    "        true_label = int_to_label[int(true_label)]\n",
    "        true_labels.append(true_label)\n",
    "        print(count, \" \",predicted_label, \" \" ,true_label)\n",
    "    # Convert predicted labels to the same format as true_labels if necessary\n",
    "    # This might include converting cluster IDs to the label format, depending on how your `predict` function outputs the prediction\n",
    "\n",
    "    # Note: Ensure that your predict function returns labels in a format that matches true_labels or adjust accordingly\n",
    "    print(\"loop completed\")\n",
    "    # Calculate F1 Score\n",
    "    f1 = f1_score(true_labels, predicted_labels, average='weighted')  # Adjust 'average' as necessary\n",
    "    print(f\"F1 Score: {f1}\")\n"
   ]
  },
  {
   "cell_type": "code",
   "execution_count": 58,
   "id": "e77c254a-151d-407c-ae6e-9ae13b457340",
   "metadata": {
    "tags": []
   },
   "outputs": [
    {
     "name": "stdout",
     "output_type": "stream",
     "text": [
      "                       precision    recall  f1-score   support\n",
      "\n",
      "           async wait       0.72      0.67      0.69       251\n",
      "          concurrency       0.46      0.60      0.52        96\n",
      "test order dependency       0.89      0.74      0.81       188\n",
      "                 time       0.64      0.76      0.69        80\n",
      "unordered collections       0.87      0.90      0.88       102\n",
      "\n",
      "             accuracy                           0.72       717\n",
      "            macro avg       0.71      0.73      0.72       717\n",
      "         weighted avg       0.74      0.72      0.73       717\n",
      "\n",
      "\n",
      " - Accuracy :  0.72\n",
      " - Precision :  0.74\n",
      " - Recall :  0.72\n",
      " - F1 score :  0.73\n",
      " - MCC :  0.64\n",
      " - AUC :  0.82\n",
      "\n",
      "\n",
      "Perfomnaces by categories\n",
      "\n"
     ]
    },
    {
     "data": {
      "image/png": "[encoded data removed]",
      "text/plain": [
       "<Figure size 640x480 with 1 Axes>"
      ]
     },
     "metadata": {},
     "output_type": "display_data"
    },
    {
     "name": "stdout",
     "output_type": "stream",
     "text": [
      "\n",
      "\n",
      "Confusion Matrix \n"
     ]
    },
    {
     "data": {
      "text/plain": [
       "<AxesSubplot:>"
      ]
     },
     "execution_count": 58,
     "metadata": {},
     "output_type": "execute_result"
    },
    {
     "data": {
      "image/png": "[encoded data removed]",
      "text/plain": [
       "<Figure size 1000x800 with 2 Axes>"
      ]
     },
     "metadata": {},
     "output_type": "display_data"
    }
   ],
   "source": [
    "%matplotlib inline\n",
    "warnings.filterwarnings(\"ignore\")\n",
    "def multiclass_roc_auc_score(truth, pred, average=\"weighted\"):\n",
    "    lb = LabelBinarizer()\n",
    "    lb.fit(truth)\n",
    "    truth = lb.transform(truth)\n",
    "    pred = lb.transform(pred)\n",
    "    return roc_auc_score(truth, pred, average=average)\n",
    "\n",
    "\n",
    "predicted = predicted_labels\n",
    "labels = true_labels\n",
    "unique_labels = list ( set(labels ) )\n",
    "print (classification_report(labels, predicted))\n",
    "\n",
    "print('\\n - Accuracy : ' , np.round( metrics.accuracy_score(labels,  predicted) , 2))\n",
    "print(' - Precision : ' , np.round( metrics.precision_score(labels,  predicted , average='weighted') , 2))\n",
    "print(' - Recall : ' , np.round( metrics.recall_score(labels,  predicted , average='weighted') , 2))\n",
    "print(' - F1 score : ' , np.round( metrics.f1_score(labels,  predicted , average='weighted') , 2))\n",
    "print(' - MCC : ' , np.round( metrics.matthews_corrcoef(labels,  predicted) , 2))\n",
    "print(' - AUC : ' , np.round( multiclass_roc_auc_score(labels,  predicted),2) )\n",
    "\n",
    "print(\"\\n\\nPerfomnaces by categories\\n\")\n",
    "\n",
    "\n",
    "ind = np.arange(len(unique_labels)) \n",
    "width = 0.35\n",
    "fig, ax = plt.subplots()\n",
    "precision = metrics.precision_recall_fscore_support(labels,  predicted ,  labels=unique_labels )[0]\n",
    "recall = metrics.precision_recall_fscore_support(labels,  predicted ,  labels=unique_labels )[1]\n",
    "ax.barh(ind - width/2, precision, width, label='Precision')\n",
    "ax.barh(ind + width/2, recall, width, label='Recall')\n",
    "ax.set(yticks=ind + width, yticklabels=np.array(unique_labels),\n",
    "ylim=[2*width - 1, len(ind)])\n",
    "plt.xlim(0,1)\n",
    "ax.legend(loc='lower left')\n",
    "ax.set_ylabel(\"Performances\")\n",
    "ax.set_xlabel(\"Categories\")\n",
    "plt.show()\n",
    "\n",
    "print(\"\\n\\nConfusion Matrix \")\n",
    "\n",
    "mat = confusion_matrix(labels,  predicted, labels=unique_labels)\n",
    "df_cm = pd.DataFrame(mat, index = [i for i in unique_labels], columns = [i for i in unique_labels])\n",
    "plt.figure(figsize = (10,8))\n",
    "sn.heatmap(df_cm/np.sum(df_cm), annot=True, fmt='.3%', cmap='Blues')"
   ]
  },
  {
   "cell_type": "code",
   "execution_count": 59,
   "metadata": {},
   "outputs": [
    {
     "data": {
      "image/png": "[encoded data removed]",
      "text/plain": [
       "<Figure size 640x480 with 1 Axes>"
      ]
     },
     "metadata": {},
     "output_type": "display_data"
    }
   ],
   "source": [
    "import matplotlib.pyplot as plt\n",
    "from sklearn.metrics import f1_score\n",
    "import numpy as np\n",
    "\n",
    "# Assuming you have the predicted and true labels as per your previous code\n",
    "# predicted_labels and true_labels should be lists of labels\n",
    "int_to_label = {\n",
    "    0: 'async wait',\n",
    "    1: 'unordered collections',\n",
    "    2: 'concurrency',\n",
    "    3: 'time',\n",
    "    4: 'test order dependency'\n",
    "}\n",
    "\n",
    "# Shortened category names\n",
    "shortened_labels = {\n",
    "    'async wait': 'asyn',\n",
    "    'unordered collections': 'UC',\n",
    "    'concurrency': 'conc',\n",
    "    'time': 'time',\n",
    "    'test order dependency': 'TOD'\n",
    "}\n",
    "\n",
    "# Convert true and predicted labels back to integers for F1 score calculation\n",
    "true_labels_int = [list(int_to_label.keys())[list(int_to_label.values()).index(label)] for label in true_labels]\n",
    "predicted_labels_int = [list(int_to_label.keys())[list(int_to_label.values()).index(label)] for label in predicted_labels]\n",
    "\n",
    "# Calculate F1 scores for each category\n",
    "f1_scores = []\n",
    "categories = list(int_to_label.values())\n",
    "for category in categories:\n",
    "    true_bin = [1 if label == category else 0 for label in true_labels]\n",
    "    pred_bin = [1 if label == category else 0 for label in predicted_labels]\n",
    "    f1 = f1_score(true_bin, pred_bin, zero_division=0)\n",
    "    f1_scores.append(f1)\n",
    "\n",
    "# Define vibrant colors for each category\n",
    "colors = ['skyblue', 'lightgreen', 'salmon', 'gold', 'orchid']\n",
    "\n",
    "# Create bar plot with shortened category names and vibrant colors\n",
    "shortened_categories = [shortened_labels[category] for category in categories]\n",
    "fig, ax = plt.subplots()\n",
    "bars = ax.bar(shortened_categories, f1_scores, color=colors)\n",
    "\n",
    "# Add F1 scores on top of each bar\n",
    "for bar in bars:\n",
    "    height = bar.get_height()\n",
    "    ax.annotate(f'{height:.2f}', xy=(bar.get_x() + bar.get_width() / 2, height),\n",
    "                xytext=(0, 0),  \n",
    "                textcoords=\"offset points\", ha='center', va='bottom')\n",
    "\n",
    "# Customize the plot\n",
    "ax.set_xlabel('Categories')\n",
    "ax.set_ylabel('F1 Score')\n",
    "ax.set_title('F1 Scores by Category')\n",
    "\n",
    "# Display the plot\n",
    "plt.xticks(rotation=0)\n",
    "plt.tight_layout()\n",
    "plt.show()\n"
   ]
  },
  {
   "cell_type": "code",
   "execution_count": null,
   "metadata": {},
   "outputs": [],
   "source": []
  },
  {
   "cell_type": "code",
   "execution_count": null,
   "id": "ccfdbdb6-f97c-4d63-a64f-48e3f5a76ab2",
   "metadata": {
    "tags": []
   },
   "outputs": [],
   "source": [
    "# file_path = 'test_data_predictions.csv'\n",
    "\n",
    "# # Load the compressed CSV file into a DataFrame\n",
    "# df = pd.read_csv(file_path)\n",
    "\n",
    "# # Extract the 'TrueLabel' and 'PredictedLabel' columns into separate variables\n",
    "# labels_flaky = df['TrueLabel'].tolist()\n",
    "# predicted_flaky = df['PredictedLabel'].tolist()\n",
    "\n",
    "# print (classification_report(labels, predicted))\n",
    "\n",
    "# print('\\n - Accuracy : ' , np.round( metrics.accuracy_score(labels_flaky,  predicted_flaky) , 2))\n",
    "# print(' - Precision : ' , np.round( metrics.precision_score(labels_flaky,  predicted_flaky , average='weighted') , 2))\n",
    "# print(' - Recall : ' , np.round( metrics.recall_score(labels_flaky,  predicted_flaky , average='weighted') , 2))\n",
    "# print(' - F1 score : ' , np.round( metrics.f1_score(labels_flaky,  predicted_flaky , average='weighted') , 2))\n",
    "# print(' - MCC : ' , np.round( metrics.matthews_corrcoef(labels_flaky,  predicted_flaky) , 2))\n",
    "# print(' - AUC : ' , np.round( multiclass_roc_auc_score(labels_flaky,  predicted_flaky),2) )\n",
    "\n",
    "# print(\"\\n\\nPerfomnaces by categories\\n\")\n",
    "\n",
    "\n",
    "# ind = np.arange(len(unique_labels)) \n",
    "# width = 0.35\n",
    "# fig, ax = plt.subplots()\n",
    "# precision = metrics.precision_recall_fscore_support(labels_flaky,  predicted_flaky ,  labels=unique_labels )[0]\n",
    "# recall = metrics.precision_recall_fscore_support(labels_flaky,  predicted_flaky ,  labels=unique_labels )[1]\n",
    "# ax.barh(ind - width/2, precision, width, label='Precision')\n",
    "# ax.barh(ind + width/2, recall, width, label='Recall')\n",
    "# ax.set(yticks=ind + width, yticklabels=np.array(unique_labels),\n",
    "# ylim=[2*width - 1, len(ind)])\n",
    "# plt.xlim(0,1)\n",
    "# ax.legend(loc='upper right')\n",
    "# ax.set_xlabel(\"Performances\")\n",
    "# ax.set_ylabel(\"Categories\")\n",
    "# plt.show()\n",
    "\n",
    "# print(\"\\n\\nConfusion Matrix \")\n",
    "\n",
    "# mat = confusion_matrix(labels_flaky,  predicted_flaky, labels=unique_labels)\n",
    "# df_cm = pd.DataFrame(mat, index = [i for i in unique_labels], columns = [i for i in unique_labels])\n",
    "# plt.figure(figsize = (10,8))\n",
    "# sn.heatmap(df_cm/np.sum(df_cm), annot=True, fmt='.3%', cmap='Blues')"
   ]
  },
  {
   "cell_type": "code",
   "execution_count": null,
   "id": "c5ebf722-fc1a-4768-b4fa-9d998c33542b",
   "metadata": {
    "tags": []
   },
   "outputs": [],
   "source": [
    "# import matplotlib.pyplot as plt\n",
    "# import numpy as np\n",
    "# from sklearn import metrics\n",
    "\n",
    "# precision_our_model = metrics.precision_recall_fscore_support(labels, predicted, labels=unique_labels)[0]\n",
    "# recall_our_model = metrics.precision_recall_fscore_support(labels, predicted, labels=unique_labels)[1]\n",
    "# # And assuming 'unique_labels' is defined as before\n",
    "\n",
    "# ind = np.arange(len(unique_labels))  # the x locations for the groups\n",
    "# width = 0.2  # the width of the bars\n",
    "\n",
    "# fig, ax = plt.subplots(figsize=(14, 10))  # Adjust the figure size as needed\n",
    "\n",
    "# # Using a set of contrasting, darker colors\n",
    "# colors = ['blue', 'green', 'red', 'orange']\n",
    "\n",
    "# # Plotting Precision and Recall for Your Model\n",
    "# rects1 = ax.bar(ind - width*1.5, precision_our_model, width, label='Our Precision', color=colors[0])\n",
    "# rects2 = ax.bar(ind - width/2, recall_our_model, width, label='Our Recall', color=colors[1])\n",
    "\n",
    "# # Plotting Precision and Recall for Flaky Model\n",
    "# rects3 = ax.bar(ind + width/2, precision_flaky, width, label='FlakyCat Precision', color=colors[2])\n",
    "# rects4 = ax.bar(ind + width*1.5, recall_flaky, width, label='FlakyCat Recall', color=colors[3])\n",
    "\n",
    "# # Add some text for labels, title, and custom x-axis tick labels, etc.\n",
    "# ax.set_ylabel('Scores')\n",
    "# ax.set_title('Class-wise Precision and Recall for Our Model vs. FlakyCat Model')\n",
    "# ax.set_xticks(ind)\n",
    "# ax.set_xticklabels(unique_labels, rotation=45, ha=\"right\")  # Rotate for better label visibility\n",
    "# ax.legend(loc='upper left', bbox_to_anchor=(1, 1))  # Place the legend outside the figure\n",
    "\n",
    "# # Optional: Adding scores above bars\n",
    "# ax.bar_label(rects1, padding=3, fmt='%.2f')\n",
    "# ax.bar_label(rects2, padding=3, fmt='%.2f')\n",
    "# ax.bar_label(rects3, padding=3, fmt='%.2f')\n",
    "# ax.bar_label(rects4, padding=3, fmt='%.2f')\n",
    "\n",
    "# fig.tight_layout(rect=[0, 0, 0.85, 1])  # Adjust the rect to make space for the legend outside\n",
    "\n",
    "# plt.show()\n"
   ]
  },
  {
   "cell_type": "code",
   "execution_count": null,
   "id": "9f921c81-ca68-4042-b8d3-9977de72766b",
   "metadata": {
    "tags": []
   },
   "outputs": [],
   "source": [
    "# import matplotlib.pyplot as plt\n",
    "# import numpy as np\n",
    "\n",
    "# # Assuming metrics have been calculated and stored in variables for both models.\n",
    "# # Example metric variables: accuracy, precision, recall, f1_score, mcc, auc for the original model\n",
    "# # And similarly named variables with a '_flaky' suffix for the comparison model.\n",
    "\n",
    "# metrics_labels = ['Accuracy', 'Precision', 'Recall', 'F1 Score', 'MCC', 'AUC']\n",
    "# your_model_metrics = [\n",
    "#     np.round(metrics.accuracy_score(labels, predicted), 2),\n",
    "#     np.round(metrics.precision_score(labels, predicted, average='weighted'), 2),\n",
    "#     np.round(metrics.recall_score(labels, predicted, average='weighted'), 2),\n",
    "#     np.round(metrics.f1_score(labels, predicted, average='weighted'), 2),\n",
    "#     np.round(metrics.matthews_corrcoef(labels, predicted), 2),\n",
    "#     np.round(multiclass_roc_auc_score(labels, predicted), 2)\n",
    "# ]\n",
    "\n",
    "# flaky_model_metrics = [\n",
    "#     np.round(metrics.accuracy_score(labels_flaky, predicted_flaky), 2),\n",
    "#     np.round(metrics.precision_score(labels_flaky, predicted_flaky, average='weighted'), 2),\n",
    "#     np.round(metrics.recall_score(labels_flaky, predicted_flaky, average='weighted'), 2),\n",
    "#     np.round(metrics.f1_score(labels_flaky, predicted_flaky, average='weighted'), 2),\n",
    "#     np.round(metrics.matthews_corrcoef(labels_flaky, predicted_flaky), 2),\n",
    "#     np.round(multiclass_roc_auc_score(labels_flaky, predicted_flaky), 2)\n",
    "# ]\n",
    "\n",
    "# x = np.arange(len(metrics_labels))  # the label locations\n",
    "# width = 0.35  # the width of the bars\n",
    "\n",
    "# fig, ax = plt.subplots()\n",
    "# rects1 = ax.bar(x - width/2, your_model_metrics, width, label='Our Model')\n",
    "# rects2 = ax.bar(x + width/2, flaky_model_metrics, width, label='FlakyCat Model')\n",
    "\n",
    "# # Add some text for labels, title and custom x-axis tick labels, etc.\n",
    "# ax.set_ylabel('Scores')\n",
    "# ax.set_title('Metrics Comparison between Our Model and FlakyCat Model')\n",
    "# ax.set_xticks(x)\n",
    "# ax.set_xticklabels(metrics_labels)\n",
    "# ax.legend()\n",
    "\n",
    "# ax.bar_label(rects1, padding=3)\n",
    "# ax.bar_label(rects2, padding=3)\n",
    "\n",
    "# fig.tight_layout()\n",
    "\n",
    "# plt.show()\n"
   ]
  },
  {
   "cell_type": "code",
   "execution_count": null,
   "metadata": {},
   "outputs": [],
   "source": [
    "from sklearn.ensemble import RandomForestClassifier\n",
    "from sklearn.svm import SVC\n",
    "from sklearn.metrics import accuracy_score\n",
    "def extract_projections(siamese_network, dataloader):\n",
    "    projections = []\n",
    "    labels = []\n",
    "    for batch in dataloader:\n",
    "        label = batch[\"label\"]\n",
    "        anchor = batch[\"anchor\"]\n",
    "        projection = siamese_network(anchor)\n",
    "        \n",
    "        projections.append(projection.cpu().detach().numpy())\n",
    "        labels.append(label.numpy())\n",
    "    projections = np.vstack(projections)\n",
    "    labels = np.hstack(labels)\n",
    "    return projections, labels"
   ]
  },
  {
   "cell_type": "code",
   "execution_count": null,
   "metadata": {},
   "outputs": [],
   "source": [
    "projections, labels = extract_projections(siamese_network, train_dataloader)\n",
    "val_projections, val_labels = extract_projections(siamese_network, val_dataloader)"
   ]
  },
  {
   "cell_type": "code",
   "execution_count": null,
   "metadata": {},
   "outputs": [],
   "source": [
    "print(len(projections), len(train_dataloader))"
   ]
  },
  {
   "cell_type": "code",
   "execution_count": null,
   "metadata": {},
   "outputs": [],
   "source": [
    "rf_classifier = RandomForestClassifier(n_estimators=100, random_state=42)\n",
    "rf_classifier.fit(projections, labels)\n",
    "\n",
    "# Train SVM Classifier\n",
    "svm_classifier = SVC(kernel='linear', random_state=42)\n",
    "svm_classifier.fit(projections, labels)"
   ]
  },
  {
   "cell_type": "code",
   "execution_count": null,
   "metadata": {},
   "outputs": [],
   "source": [
    "# Evaluate Random Forest Classifier\n",
    "rf_predictions = rf_classifier.predict(val_projections)\n",
    "rf_accuracy = accuracy_score(val_labels, rf_predictions)\n",
    "rf_f1 = f1_score(val_labels, rf_predictions, average='weighted')\n",
    "print(f\"Random Forest Classifier Accuracy: {rf_accuracy}, F1: {rf_f1}\")\n",
    "\n",
    "# Evaluate SVM Classifier\n",
    "svm_predictions = svm_classifier.predict(val_projections)\n",
    "svm_accuracy = accuracy_score(val_labels, svm_predictions)\n",
    "svm_f1 = f1_score(val_labels, svm_predictions, average='weighted')\n",
    "print(f\"SVM Classifier Accuracy: {svm_accuracy}, F1:{svm_f1}\")"
   ]
  },
  {
   "cell_type": "code",
   "execution_count": null,
   "metadata": {},
   "outputs": [],
   "source": []
  }
 ],
 "metadata": {
  "kernelspec": {
   "display_name": "sdp_venv",
   "language": "python",
   "name": "sdp_venv"
  },
  "language_info": {
   "codemirror_mode": {
    "name": "ipython",
    "version": 3
   },
   "file_extension": ".py",
   "mimetype": "text/x-python",
   "name": "python",
   "nbconvert_exporter": "python",
   "pygments_lexer": "ipython3",
   "version": "3.10.12"
  }
 },
 "nbformat": 4,
 "nbformat_minor": 5
}
